{
 "cells": [
  {
   "cell_type": "markdown",
   "metadata": {},
   "source": [
    "# **Projeto Final: Análise de Dados - Grupo 4**\n",
    "\n",
    "DataSet \"*Preços dos Carros no Brasil*\"."
   ]
  },
  {
   "cell_type": "markdown",
   "metadata": {},
   "source": [
    "## **Contextualização**\n",
    "\n",
    "O grupo escolheu o dataset em questão por possuir afinidade com carros e também em uma análise específica, conhecer as oscilações de preços que estes enfretam, sendo essa última afirmação parte de uma hipótese futura.\n",
    "\n",
    "Cerca de 600 mil carros foram colocados no documento a ser analisado. Os dados foram extraídos do site da FIPE, que atualiza mensalmente as informações, sendo necessário, representar a data que o dado foi obtido, variando de jan/2021 a jan/2023.\n",
    "\n",
    "Cada linha da tabela representa um carro em específico, diferenciando-o por diversos fatores, como o ano e mês de referência, o tipo de combustível utilizado, o tipo de câmbio, o tamanho do motor, o código fipe, a marca e modelo e por fim, o preço médio que o carro é encontrado no Brasil, em reais.\n",
    "\n",
    "\n",
    "## Variáveis\n",
    "* *year_of_reference*: ano correspondente à data que o dado foi coletado. \n",
    "* *month_of_reference*: mês referente à data que o dado foi coletado.\n",
    "* *fipe_code*: identificação utilizada para cada modelo de carro no site da FIPE.\n",
    "* *authentication*: código que autentica a consulta no site da FIPE.\n",
    "* *brand*: marca de cada carro nos dados.\n",
    "* *model*: modelo de cada carro nos dados.\n",
    "* *fuel*: tipo de combustível que o carro comporta (diesel ou gasolina)\n",
    "* *gear*: tipo do câmbio de cada carro (automático ou manual); caso não esteja escrito 'Aut', assume-se que o carro em questão é necessariamente, manual.\n",
    "* *engine_size*: tamanho do motor em centímetros cúbicos.\n",
    "* *year_model*: corresponde à versão do modelo de cada carro analisado.\n",
    "* *avg_price_brl*: média do preço do carro em reais, de acordo com a FIPE.\n",
    "\n",
    "Em geral, as principais dificuldades foram encontradas nas colunas de *year_of_reference*/*month_of_reference* e *brand*. \n",
    "\n",
    "Para as primeiras variáveis citadas (ano e mês de referência), a dificuldade foi que um deles estava em string (mês) e outro em inteiro (ano), o que para um gráfico ficaria complicado colocar as datas em ordem crescente.\n",
    "\n",
    "Para a outra variável (marca), haviam muitas (87), sendo complicado plotar em um gráfico de barras posteriormente."
   ]
  },
  {
   "cell_type": "markdown",
   "metadata": {},
   "source": [
    "## **Hipóteses**\n",
    "\n",
    "Nosso objetivo é verificar se existe alguma conexão das variáveis nas relações, a partir de hipóteses formuladas pelo grupo:\n",
    "* Tempo X Preço Médio (*year_of_reference*/*month_of_reference* X *avg_price_brl*): o preço médio aumenta conforme os meses, devido a inflação.\n",
    "* Combustível X Tamanho do Motor (*fuel* X *engine_size*): motores maiores utilizam combustíveis mais caros e para automóveis que precisam de maior potência, isto é, em ordem decrescente de tamanho, diesel, gasolina e álcool.\n",
    "* Marca X Preço Médio (*brand* X *avg_price_brl*): marcas de luxo possuem carros mais caros, e marcas populares possuem carros mais baratos.\n",
    "\n",
    "A escolha foi baseada na intuição do grupo, ou seja, hipóteses nas quais existir uma relação era óbvio, conforme conhecimentos exteriores sobre carros.\n",
    "\n",
    "Dentro do DataSet, a análise foi feita a partir de comparar dados das colunas que essas variáveis representavam, no entanto, dados da inflação foram retirados de fonte externa, pois não existiam dentro do DataSet em questão."
   ]
  },
  {
   "cell_type": "code",
   "execution_count": 147,
   "metadata": {},
   "outputs": [
    {
     "name": "stdout",
     "output_type": "stream",
     "text": [
      "Requirement already satisfied: pandas in c:\\users\\user\\appdata\\local\\programs\\python\\python311\\lib\\site-packages (2.0.1)Note: you may need to restart the kernel to use updated packages.\n"
     ]
    },
    {
     "name": "stderr",
     "output_type": "stream",
     "text": [
      "\n",
      "[notice] A new release of pip is available: 23.2 -> 23.2.1\n",
      "[notice] To update, run: python.exe -m pip install --upgrade pip\n"
     ]
    },
    {
     "name": "stdout",
     "output_type": "stream",
     "text": [
      "\n",
      "Requirement already satisfied: numpy in c:\\users\\user\\appdata\\local\\programs\\python\\python311\\lib\\site-packages (1.24.3)\n",
      "Requirement already satisfied: pandas_datareader in c:\\users\\user\\appdata\\local\\programs\\python\\python311\\lib\\site-packages (0.10.0)\n",
      "Requirement already satisfied: seaborn in c:\\users\\user\\appdata\\local\\programs\\python\\python311\\lib\\site-packages (0.12.2)\n",
      "Requirement already satisfied: plotly in c:\\users\\user\\appdata\\local\\programs\\python\\python311\\lib\\site-packages (5.15.0)\n",
      "Requirement already satisfied: matplotlib in c:\\users\\user\\appdata\\local\\programs\\python\\python311\\lib\\site-packages (3.7.1)\n",
      "Requirement already satisfied: python-dateutil>=2.8.2 in c:\\users\\user\\appdata\\local\\programs\\python\\python311\\lib\\site-packages (from pandas) (2.8.2)\n",
      "Requirement already satisfied: pytz>=2020.1 in c:\\users\\user\\appdata\\local\\programs\\python\\python311\\lib\\site-packages (from pandas) (2023.3)\n",
      "Requirement already satisfied: tzdata>=2022.1 in c:\\users\\user\\appdata\\local\\programs\\python\\python311\\lib\\site-packages (from pandas) (2023.3)\n",
      "Requirement already satisfied: lxml in c:\\users\\user\\appdata\\local\\programs\\python\\python311\\lib\\site-packages (from pandas_datareader) (4.9.2)\n",
      "Requirement already satisfied: requests>=2.19.0 in c:\\users\\user\\appdata\\local\\programs\\python\\python311\\lib\\site-packages (from pandas_datareader) (2.31.0)\n",
      "Requirement already satisfied: tenacity>=6.2.0 in c:\\users\\user\\appdata\\local\\programs\\python\\python311\\lib\\site-packages (from plotly) (8.2.2)\n",
      "Requirement already satisfied: packaging in c:\\users\\user\\appdata\\local\\programs\\python\\python311\\lib\\site-packages (from plotly) (23.1)\n",
      "Requirement already satisfied: contourpy>=1.0.1 in c:\\users\\user\\appdata\\local\\programs\\python\\python311\\lib\\site-packages (from matplotlib) (1.0.7)\n",
      "Requirement already satisfied: cycler>=0.10 in c:\\users\\user\\appdata\\local\\programs\\python\\python311\\lib\\site-packages (from matplotlib) (0.11.0)\n",
      "Requirement already satisfied: fonttools>=4.22.0 in c:\\users\\user\\appdata\\local\\programs\\python\\python311\\lib\\site-packages (from matplotlib) (4.39.4)\n",
      "Requirement already satisfied: kiwisolver>=1.0.1 in c:\\users\\user\\appdata\\local\\programs\\python\\python311\\lib\\site-packages (from matplotlib) (1.4.4)\n",
      "Requirement already satisfied: pillow>=6.2.0 in c:\\users\\user\\appdata\\local\\programs\\python\\python311\\lib\\site-packages (from matplotlib) (9.5.0)\n",
      "Requirement already satisfied: pyparsing>=2.3.1 in c:\\users\\user\\appdata\\local\\programs\\python\\python311\\lib\\site-packages (from matplotlib) (3.0.9)\n",
      "Requirement already satisfied: six>=1.5 in c:\\users\\user\\appdata\\local\\programs\\python\\python311\\lib\\site-packages (from python-dateutil>=2.8.2->pandas) (1.16.0)\n",
      "Requirement already satisfied: charset-normalizer<4,>=2 in c:\\users\\user\\appdata\\local\\programs\\python\\python311\\lib\\site-packages (from requests>=2.19.0->pandas_datareader) (3.1.0)\n",
      "Requirement already satisfied: idna<4,>=2.5 in c:\\users\\user\\appdata\\local\\programs\\python\\python311\\lib\\site-packages (from requests>=2.19.0->pandas_datareader) (3.4)\n",
      "Requirement already satisfied: urllib3<3,>=1.21.1 in c:\\users\\user\\appdata\\local\\programs\\python\\python311\\lib\\site-packages (from requests>=2.19.0->pandas_datareader) (1.26.16)\n",
      "Requirement already satisfied: certifi>=2017.4.17 in c:\\users\\user\\appdata\\local\\programs\\python\\python311\\lib\\site-packages (from requests>=2.19.0->pandas_datareader) (2023.5.7)\n"
     ]
    }
   ],
   "source": [
    "# Importando as Bibliotecas\n",
    "\n",
    "%pip install pandas numpy pandas_datareader seaborn plotly matplotlib\n",
    "import pandas as pd\n",
    "import numpy as np\n",
    "import seaborn as sns\n",
    "import plotly.express as px\n",
    "import plotly.subplots as sp\n",
    "import plotly.graph_objects as go\n",
    "import matplotlib.colors as mcolors\n",
    "import matplotlib.pyplot as plt\n",
    "import matplotlib.lines as mlines\n",
    "import matplotlib.ticker as mticker"
   ]
  },
  {
   "cell_type": "markdown",
   "metadata": {},
   "source": [
    "## **Tratamento de Dados**"
   ]
  },
  {
   "cell_type": "code",
   "execution_count": 148,
   "metadata": {},
   "outputs": [
    {
     "name": "stdout",
     "output_type": "stream",
     "text": [
      "   year_of_reference month_of_reference fipe_code authentication  brand   \n",
      "0               2021            January  038001-6     tlp4qry07m  Acura  \\\n",
      "1               2021            January  038001-6     s1wksdv9by  Acura   \n",
      "2               2021            January  038001-6     skrbcfnkch  Acura   \n",
      "3               2021            January  038001-6     rxzh76d5db  Acura   \n",
      "4               2021            January  038001-6     qrm322tpd8  Acura   \n",
      "\n",
      "     model      fuel    gear  engine_size  year_model  avg_price_brl  \n",
      "0  NSX 3.0  Gasoline  manual          3.0        1995        40374.0  \n",
      "1  NSX 3.0  Gasoline  manual          3.0        1994        38939.0  \n",
      "2  NSX 3.0  Gasoline  manual          3.0        1993        37648.0  \n",
      "3  NSX 3.0  Gasoline  manual          3.0        1992        35962.0  \n",
      "4  NSX 3.0  Gasoline  manual          3.0        1991        32863.0  \n",
      "\n",
      "year_of_reference       int64\n",
      "month_of_reference     object\n",
      "fipe_code              object\n",
      "authentication         object\n",
      "brand                  object\n",
      "model                  object\n",
      "fuel                   object\n",
      "gear                   object\n",
      "engine_size           float64\n",
      "year_model              int64\n",
      "avg_price_brl         float64\n",
      "dtype: object\n",
      "\n",
      "(599007, 11)\n"
     ]
    }
   ],
   "source": [
    "# Lendo o DataFrame e Analisando as Variáveis\n",
    "\n",
    "df = pd.read_csv(\"fipe_cars.csv\")\n",
    "\n",
    "print(df.head(), df.dtypes, df.shape, sep=\"\\n\\n\")"
   ]
  },
  {
   "cell_type": "code",
   "execution_count": 149,
   "metadata": {},
   "outputs": [
    {
     "name": "stdout",
     "output_type": "stream",
     "text": [
      "year_of_reference     0\n",
      "month_of_reference    0\n",
      "fipe_code             0\n",
      "authentication        0\n",
      "brand                 0\n",
      "model                 0\n",
      "fuel                  0\n",
      "gear                  0\n",
      "engine_size           0\n",
      "year_model            0\n",
      "avg_price_brl         0\n",
      "dtype: int64\n"
     ]
    },
    {
     "data": {
      "text/html": [
       "<div>\n",
       "<style scoped>\n",
       "    .dataframe tbody tr th:only-of-type {\n",
       "        vertical-align: middle;\n",
       "    }\n",
       "\n",
       "    .dataframe tbody tr th {\n",
       "        vertical-align: top;\n",
       "    }\n",
       "\n",
       "    .dataframe thead th {\n",
       "        text-align: right;\n",
       "    }\n",
       "</style>\n",
       "<table border=\"1\" class=\"dataframe\">\n",
       "  <thead>\n",
       "    <tr style=\"text-align: right;\">\n",
       "      <th></th>\n",
       "      <th>year_of_reference</th>\n",
       "      <th>month_of_reference</th>\n",
       "      <th>brand</th>\n",
       "      <th>model</th>\n",
       "      <th>fuel</th>\n",
       "      <th>engine_size</th>\n",
       "      <th>avg_price_brl</th>\n",
       "    </tr>\n",
       "  </thead>\n",
       "  <tbody>\n",
       "    <tr>\n",
       "      <th>0</th>\n",
       "      <td>2021</td>\n",
       "      <td>January</td>\n",
       "      <td>Acura</td>\n",
       "      <td>NSX 3.0</td>\n",
       "      <td>Gasoline</td>\n",
       "      <td>3.0</td>\n",
       "      <td>40374.0</td>\n",
       "    </tr>\n",
       "    <tr>\n",
       "      <th>1</th>\n",
       "      <td>2021</td>\n",
       "      <td>January</td>\n",
       "      <td>Acura</td>\n",
       "      <td>NSX 3.0</td>\n",
       "      <td>Gasoline</td>\n",
       "      <td>3.0</td>\n",
       "      <td>38939.0</td>\n",
       "    </tr>\n",
       "    <tr>\n",
       "      <th>2</th>\n",
       "      <td>2021</td>\n",
       "      <td>January</td>\n",
       "      <td>Acura</td>\n",
       "      <td>NSX 3.0</td>\n",
       "      <td>Gasoline</td>\n",
       "      <td>3.0</td>\n",
       "      <td>37648.0</td>\n",
       "    </tr>\n",
       "    <tr>\n",
       "      <th>3</th>\n",
       "      <td>2021</td>\n",
       "      <td>January</td>\n",
       "      <td>Acura</td>\n",
       "      <td>NSX 3.0</td>\n",
       "      <td>Gasoline</td>\n",
       "      <td>3.0</td>\n",
       "      <td>35962.0</td>\n",
       "    </tr>\n",
       "    <tr>\n",
       "      <th>4</th>\n",
       "      <td>2021</td>\n",
       "      <td>January</td>\n",
       "      <td>Acura</td>\n",
       "      <td>NSX 3.0</td>\n",
       "      <td>Gasoline</td>\n",
       "      <td>3.0</td>\n",
       "      <td>32863.0</td>\n",
       "    </tr>\n",
       "  </tbody>\n",
       "</table>\n",
       "</div>"
      ],
      "text/plain": [
       "   year_of_reference month_of_reference  brand    model      fuel   \n",
       "0               2021            January  Acura  NSX 3.0  Gasoline  \\\n",
       "1               2021            January  Acura  NSX 3.0  Gasoline   \n",
       "2               2021            January  Acura  NSX 3.0  Gasoline   \n",
       "3               2021            January  Acura  NSX 3.0  Gasoline   \n",
       "4               2021            January  Acura  NSX 3.0  Gasoline   \n",
       "\n",
       "   engine_size  avg_price_brl  \n",
       "0          3.0        40374.0  \n",
       "1          3.0        38939.0  \n",
       "2          3.0        37648.0  \n",
       "3          3.0        35962.0  \n",
       "4          3.0        32863.0  "
      ]
     },
     "execution_count": 149,
     "metadata": {},
     "output_type": "execute_result"
    }
   ],
   "source": [
    "# Limpeza dos Dados\n",
    "\n",
    "print(df.isna().sum())  # Não temos valores NaN!\n",
    "\n",
    "df = df.drop([\"fipe_code\", \"authentication\", \"gear\", \"year_model\"], axis=1)  # Retirando as colunas desnecessárias para a nossa análise\n",
    "\n",
    "df.head()"
   ]
  },
  {
   "cell_type": "code",
   "execution_count": 150,
   "metadata": {},
   "outputs": [
    {
     "name": "stdout",
     "output_type": "stream",
     "text": [
      "4\n"
     ]
    },
    {
     "data": {
      "text/html": [
       "<div>\n",
       "<style scoped>\n",
       "    .dataframe tbody tr th:only-of-type {\n",
       "        vertical-align: middle;\n",
       "    }\n",
       "\n",
       "    .dataframe tbody tr th {\n",
       "        vertical-align: top;\n",
       "    }\n",
       "\n",
       "    .dataframe thead th {\n",
       "        text-align: right;\n",
       "    }\n",
       "</style>\n",
       "<table border=\"1\" class=\"dataframe\">\n",
       "  <thead>\n",
       "    <tr style=\"text-align: right;\">\n",
       "      <th></th>\n",
       "      <th>year_of_reference</th>\n",
       "      <th>month_of_reference</th>\n",
       "      <th>brand</th>\n",
       "      <th>model</th>\n",
       "      <th>fuel</th>\n",
       "      <th>engine_size</th>\n",
       "      <th>avg_price_brl</th>\n",
       "    </tr>\n",
       "  </thead>\n",
       "  <tbody>\n",
       "    <tr>\n",
       "      <th>135875</th>\n",
       "      <td>2021</td>\n",
       "      <td>June</td>\n",
       "      <td>Renault</td>\n",
       "      <td>DUSTER OROCH Dyna. 2.0 Flex 16V Mec.</td>\n",
       "      <td>Gasoline</td>\n",
       "      <td>2.0</td>\n",
       "      <td>69893.0</td>\n",
       "    </tr>\n",
       "    <tr>\n",
       "      <th>215184</th>\n",
       "      <td>2021</td>\n",
       "      <td>October</td>\n",
       "      <td>GM - Chevrolet</td>\n",
       "      <td>A-10 2.5/4.1</td>\n",
       "      <td>Gasoline</td>\n",
       "      <td>2.5</td>\n",
       "      <td>8879.0</td>\n",
       "    </tr>\n",
       "    <tr>\n",
       "      <th>383231</th>\n",
       "      <td>2022</td>\n",
       "      <td>May</td>\n",
       "      <td>GM - Chevrolet</td>\n",
       "      <td>Monza Classic SE 2.0 /MPFI e EFI 2p e 4p</td>\n",
       "      <td>Gasoline</td>\n",
       "      <td>2.0</td>\n",
       "      <td>10655.0</td>\n",
       "    </tr>\n",
       "    <tr>\n",
       "      <th>559711</th>\n",
       "      <td>2022</td>\n",
       "      <td>December</td>\n",
       "      <td>Ford</td>\n",
       "      <td>Ranger Limited 3.0 PSE 4x4 CD TB Diesel</td>\n",
       "      <td>Diesel</td>\n",
       "      <td>3.0</td>\n",
       "      <td>64638.0</td>\n",
       "    </tr>\n",
       "  </tbody>\n",
       "</table>\n",
       "</div>"
      ],
      "text/plain": [
       "        year_of_reference month_of_reference           brand   \n",
       "135875               2021               June         Renault  \\\n",
       "215184               2021            October  GM - Chevrolet   \n",
       "383231               2022                May  GM - Chevrolet   \n",
       "559711               2022           December            Ford   \n",
       "\n",
       "                                           model      fuel  engine_size   \n",
       "135875      DUSTER OROCH Dyna. 2.0 Flex 16V Mec.  Gasoline          2.0  \\\n",
       "215184                              A-10 2.5/4.1  Gasoline          2.5   \n",
       "383231  Monza Classic SE 2.0 /MPFI e EFI 2p e 4p  Gasoline          2.0   \n",
       "559711   Ranger Limited 3.0 PSE 4x4 CD TB Diesel    Diesel          3.0   \n",
       "\n",
       "        avg_price_brl  \n",
       "135875        69893.0  \n",
       "215184         8879.0  \n",
       "383231        10655.0  \n",
       "559711        64638.0  "
      ]
     },
     "execution_count": 150,
     "metadata": {},
     "output_type": "execute_result"
    }
   ],
   "source": [
    "# Identificando linhas duplicadas e eliminando-as\n",
    "\n",
    "print(df.duplicated().sum())\n",
    "df.loc[df.duplicated()]"
   ]
  },
  {
   "cell_type": "code",
   "execution_count": 151,
   "metadata": {},
   "outputs": [
    {
     "name": "stdout",
     "output_type": "stream",
     "text": [
      "0\n",
      "(599003, 7)\n"
     ]
    }
   ],
   "source": [
    "df = df.drop_duplicates()\n",
    "print(df.duplicated().sum())\n",
    "print(df.shape)"
   ]
  },
  {
   "cell_type": "markdown",
   "metadata": {},
   "source": [
    "Como postulado na contextualização, o dataframe separava as colunas de ano e mês de referência, dificultando colocar as datas em ordem crescente. Para solucionar esse problema, as duas colunas foram unificadas para um tipo de variável datetime."
   ]
  },
  {
   "cell_type": "code",
   "execution_count": 152,
   "metadata": {},
   "outputs": [
    {
     "data": {
      "text/html": [
       "<div>\n",
       "<style scoped>\n",
       "    .dataframe tbody tr th:only-of-type {\n",
       "        vertical-align: middle;\n",
       "    }\n",
       "\n",
       "    .dataframe tbody tr th {\n",
       "        vertical-align: top;\n",
       "    }\n",
       "\n",
       "    .dataframe thead th {\n",
       "        text-align: right;\n",
       "    }\n",
       "</style>\n",
       "<table border=\"1\" class=\"dataframe\">\n",
       "  <thead>\n",
       "    <tr style=\"text-align: right;\">\n",
       "      <th></th>\n",
       "      <th>brand</th>\n",
       "      <th>model</th>\n",
       "      <th>fuel</th>\n",
       "      <th>engine_size</th>\n",
       "      <th>avg_price_brl</th>\n",
       "      <th>date</th>\n",
       "    </tr>\n",
       "  </thead>\n",
       "  <tbody>\n",
       "    <tr>\n",
       "      <th>0</th>\n",
       "      <td>Acura</td>\n",
       "      <td>NSX 3.0</td>\n",
       "      <td>Gasoline</td>\n",
       "      <td>3.0</td>\n",
       "      <td>40374.0</td>\n",
       "      <td>2021/01</td>\n",
       "    </tr>\n",
       "    <tr>\n",
       "      <th>1</th>\n",
       "      <td>Acura</td>\n",
       "      <td>NSX 3.0</td>\n",
       "      <td>Gasoline</td>\n",
       "      <td>3.0</td>\n",
       "      <td>38939.0</td>\n",
       "      <td>2021/01</td>\n",
       "    </tr>\n",
       "    <tr>\n",
       "      <th>2</th>\n",
       "      <td>Acura</td>\n",
       "      <td>NSX 3.0</td>\n",
       "      <td>Gasoline</td>\n",
       "      <td>3.0</td>\n",
       "      <td>37648.0</td>\n",
       "      <td>2021/01</td>\n",
       "    </tr>\n",
       "    <tr>\n",
       "      <th>3</th>\n",
       "      <td>Acura</td>\n",
       "      <td>NSX 3.0</td>\n",
       "      <td>Gasoline</td>\n",
       "      <td>3.0</td>\n",
       "      <td>35962.0</td>\n",
       "      <td>2021/01</td>\n",
       "    </tr>\n",
       "    <tr>\n",
       "      <th>4</th>\n",
       "      <td>Acura</td>\n",
       "      <td>NSX 3.0</td>\n",
       "      <td>Gasoline</td>\n",
       "      <td>3.0</td>\n",
       "      <td>32863.0</td>\n",
       "      <td>2021/01</td>\n",
       "    </tr>\n",
       "    <tr>\n",
       "      <th>...</th>\n",
       "      <td>...</td>\n",
       "      <td>...</td>\n",
       "      <td>...</td>\n",
       "      <td>...</td>\n",
       "      <td>...</td>\n",
       "      <td>...</td>\n",
       "    </tr>\n",
       "    <tr>\n",
       "      <th>599002</th>\n",
       "      <td>Walk</td>\n",
       "      <td>Buggy Walk Sport 1.6 8V 58cv</td>\n",
       "      <td>Gasoline</td>\n",
       "      <td>1.6</td>\n",
       "      <td>22790.0</td>\n",
       "      <td>2023/01</td>\n",
       "    </tr>\n",
       "    <tr>\n",
       "      <th>599003</th>\n",
       "      <td>Walk</td>\n",
       "      <td>Buggy Walk Sport 1.6 8V 58cv</td>\n",
       "      <td>Gasoline</td>\n",
       "      <td>1.6</td>\n",
       "      <td>22169.0</td>\n",
       "      <td>2023/01</td>\n",
       "    </tr>\n",
       "    <tr>\n",
       "      <th>599004</th>\n",
       "      <td>Walk</td>\n",
       "      <td>Buggy Walk Sport 1.6 8V 58cv</td>\n",
       "      <td>Gasoline</td>\n",
       "      <td>1.6</td>\n",
       "      <td>21565.0</td>\n",
       "      <td>2023/01</td>\n",
       "    </tr>\n",
       "    <tr>\n",
       "      <th>599005</th>\n",
       "      <td>Walk</td>\n",
       "      <td>Buggy Walk Sport 1.6 8V 58cv</td>\n",
       "      <td>Gasoline</td>\n",
       "      <td>1.6</td>\n",
       "      <td>20978.0</td>\n",
       "      <td>2023/01</td>\n",
       "    </tr>\n",
       "    <tr>\n",
       "      <th>599006</th>\n",
       "      <td>Walk</td>\n",
       "      <td>Buggy Walk Sport 1.6 8V 58cv</td>\n",
       "      <td>Gasoline</td>\n",
       "      <td>1.6</td>\n",
       "      <td>18365.0</td>\n",
       "      <td>2023/01</td>\n",
       "    </tr>\n",
       "  </tbody>\n",
       "</table>\n",
       "<p>599003 rows × 6 columns</p>\n",
       "</div>"
      ],
      "text/plain": [
       "        brand                         model      fuel  engine_size   \n",
       "0       Acura                       NSX 3.0  Gasoline          3.0  \\\n",
       "1       Acura                       NSX 3.0  Gasoline          3.0   \n",
       "2       Acura                       NSX 3.0  Gasoline          3.0   \n",
       "3       Acura                       NSX 3.0  Gasoline          3.0   \n",
       "4       Acura                       NSX 3.0  Gasoline          3.0   \n",
       "...       ...                           ...       ...          ...   \n",
       "599002   Walk  Buggy Walk Sport 1.6 8V 58cv  Gasoline          1.6   \n",
       "599003   Walk  Buggy Walk Sport 1.6 8V 58cv  Gasoline          1.6   \n",
       "599004   Walk  Buggy Walk Sport 1.6 8V 58cv  Gasoline          1.6   \n",
       "599005   Walk  Buggy Walk Sport 1.6 8V 58cv  Gasoline          1.6   \n",
       "599006   Walk  Buggy Walk Sport 1.6 8V 58cv  Gasoline          1.6   \n",
       "\n",
       "        avg_price_brl     date  \n",
       "0             40374.0  2021/01  \n",
       "1             38939.0  2021/01  \n",
       "2             37648.0  2021/01  \n",
       "3             35962.0  2021/01  \n",
       "4             32863.0  2021/01  \n",
       "...               ...      ...  \n",
       "599002        22790.0  2023/01  \n",
       "599003        22169.0  2023/01  \n",
       "599004        21565.0  2023/01  \n",
       "599005        20978.0  2023/01  \n",
       "599006        18365.0  2023/01  \n",
       "\n",
       "[599003 rows x 6 columns]"
      ]
     },
     "execution_count": 152,
     "metadata": {},
     "output_type": "execute_result"
    }
   ],
   "source": [
    "# Fundindo as colunas \"year_of_reference\" e \"mounth_of_referece\" como datas do tipo datetime\n",
    "\n",
    "mapeamento = {'January': \"1\", 'February': \"2\",  'March': \"3\", 'April': \"4\", 'May': \"5\", 'June':\n",
    "              \"6\", 'July': \"7\", 'August': \"8\", 'September': \"9\", 'October': \"10\", 'November': \"11\", 'December': \"12\"}\n",
    "\n",
    "df[\"month_of_reference\"] = df[\"month_of_reference\"].map(mapeamento)  # Transformando as strings do mês com o número correspondente\n",
    "\n",
    "df[\"year_of_reference\"] = df[\"year_of_reference\"].astype(str)  # Transformando os anos em strings\n",
    "\n",
    "df[\"date\"] = df[\"month_of_reference\"].str.cat(df[\"year_of_reference\"], sep=\"/\")  # Juntando os valores no formato de data\n",
    "\n",
    "df[\"date\"] = pd.to_datetime(df[\"date\"], format=\"%m/%Y\").dt.strftime('%Y/%m')  # Transformando em datetime\n",
    "\n",
    "df = df.drop(columns=[\"month_of_reference\", \"year_of_reference\"])  # Retirando as colunas que usamos\n",
    "\n",
    "df"
   ]
  },
  {
   "cell_type": "markdown",
   "metadata": {},
   "source": [
    "## **Visualização de Dados**"
   ]
  },
  {
   "cell_type": "markdown",
   "metadata": {},
   "source": [
    "### *Tempo x Preço Médio*"
   ]
  },
  {
   "cell_type": "markdown",
   "metadata": {},
   "source": [
    "#### Gráfico do Preço Médio pelo Tempo:\n",
    "\n",
    "Com o objetivo de ver o crescimento dos preços conforme os meses, utilizou-se um gráfico de dispersão, que compara duas variáveis quantitativas.\n",
    "\n",
    "Primeiramente, agrupou-se o dataframe por data e posteriormente obteve-se a média dos preços para cada período analisado.\n",
    "\n",
    "Para melhor identificação do modelo de crescimento dos preços, foi feito uma reta de regressão linear."
   ]
  },
  {
   "cell_type": "code",
   "execution_count": 153,
   "metadata": {},
   "outputs": [
    {
     "data": {
      "image/png": "[encoded data removed]",
      "text/plain": [
       "<Figure size 1200x700 with 1 Axes>"
      ]
     },
     "metadata": {},
     "output_type": "display_data"
    }
   ],
   "source": [
    "medias_data = df.groupby(\"date\")[\"avg_price_brl\"].mean()  # Agrupando por data\n",
    "\n",
    "datas = df[\"date\"].unique()  # Todas as datas distintas do período\n",
    "\n",
    "valores = np.arange(25)\n",
    "\n",
    "cores_dispersao = plt.colormaps[\"Blues\"](np.linspace(0.6, 1, 25))  # Escolha das cores para dispersão\n",
    "cmap_dispersao = mcolors.ListedColormap(cores_dispersao)\n",
    "\n",
    "coeficientes = np.polyfit(valores, medias_data, 1)\n",
    "regressao = np.polyval(coeficientes, valores)  # Criação da reta de regressão linear\n",
    "indices_particoes = np.linspace(0, 24, 26, dtype=int) \n",
    "\n",
    "plt.figure(figsize=(12, 7))\n",
    "sns.scatterplot(x=datas, y=medias_data, c=valores, cmap=cmap_dispersao)\n",
    "for i in range(25):  # Cortando a reta de regressão em partes e colorindo cada um gradualmente\n",
    "    segmento_x = valores[indices_particoes[i]:indices_particoes[i+1]+1]\n",
    "    segmento_y = regressao[indices_particoes[i]:indices_particoes[i+1]+1]\n",
    "    cor = plt.colormaps[\"autumn\"]((-i+22)/32)\n",
    "    plt.plot(segmento_x, segmento_y, color=cor)\n",
    "\n",
    "plt.title(\"Preço Médio dos Carros por Mês\")\n",
    "plt.ylabel(\"Preço Médio\")\n",
    "plt.xlabel(\"Data\")\n",
    "plt.xticks(rotation=45)\n",
    "plt.show()"
   ]
  },
  {
   "cell_type": "markdown",
   "metadata": {},
   "source": [
    "#### Conclusão:\n",
    "\n",
    "Vemos o crescimento dos preços ao longo dos anos, confirmando nossa primeira hipótese.\n",
    "Observa-se que, embora haja uma tendência de crescimento conforme os meses, entre 2022/05 e 2022/10 houveram algumas oscilações, em que preços tiveram menores em datas posteriores do que em datas anteriores."
   ]
  },
  {
   "cell_type": "markdown",
   "metadata": {},
   "source": [
    "#### Comparando os preços médios com outros indicadores:\n",
    "\n",
    "Para verificar a dimensão do crescimento dos preços, comparamos com o IPCA e com o preço médio do barril de petróleo."
   ]
  },
  {
   "cell_type": "code",
   "execution_count": 154,
   "metadata": {},
   "outputs": [
    {
     "data": {
      "text/html": [
       "<div>\n",
       "<style scoped>\n",
       "    .dataframe tbody tr th:only-of-type {\n",
       "        vertical-align: middle;\n",
       "    }\n",
       "\n",
       "    .dataframe tbody tr th {\n",
       "        vertical-align: top;\n",
       "    }\n",
       "\n",
       "    .dataframe thead th {\n",
       "        text-align: right;\n",
       "    }\n",
       "</style>\n",
       "<table border=\"1\" class=\"dataframe\">\n",
       "  <thead>\n",
       "    <tr style=\"text-align: right;\">\n",
       "      <th></th>\n",
       "      <th>janeiro 2021</th>\n",
       "      <th>fevereiro 2021</th>\n",
       "      <th>março 2021</th>\n",
       "      <th>abril 2021</th>\n",
       "      <th>maio 2021</th>\n",
       "      <th>junho 2021</th>\n",
       "      <th>julho 2021</th>\n",
       "      <th>agosto 2021</th>\n",
       "      <th>setembro 2021</th>\n",
       "      <th>outubro 2021</th>\n",
       "      <th>...</th>\n",
       "      <th>abril 2022</th>\n",
       "      <th>maio 2022</th>\n",
       "      <th>junho 2022</th>\n",
       "      <th>julho 2022</th>\n",
       "      <th>agosto 2022</th>\n",
       "      <th>setembro 2022</th>\n",
       "      <th>outubro 2022</th>\n",
       "      <th>novembro 2022</th>\n",
       "      <th>dezembro 2022</th>\n",
       "      <th>janeiro 2023</th>\n",
       "    </tr>\n",
       "  </thead>\n",
       "  <tbody>\n",
       "    <tr>\n",
       "      <th>IPCA</th>\n",
       "      <td>0.25</td>\n",
       "      <td>0.86</td>\n",
       "      <td>0.93</td>\n",
       "      <td>0.31</td>\n",
       "      <td>0.83</td>\n",
       "      <td>0.53</td>\n",
       "      <td>0.96</td>\n",
       "      <td>0.87</td>\n",
       "      <td>1.16</td>\n",
       "      <td>1.25</td>\n",
       "      <td>...</td>\n",
       "      <td>1.06</td>\n",
       "      <td>0.47</td>\n",
       "      <td>0.67</td>\n",
       "      <td>-0.68</td>\n",
       "      <td>-0.36</td>\n",
       "      <td>-0.29</td>\n",
       "      <td>0.59</td>\n",
       "      <td>0.41</td>\n",
       "      <td>0.62</td>\n",
       "      <td>0.53</td>\n",
       "    </tr>\n",
       "  </tbody>\n",
       "</table>\n",
       "<p>1 rows × 25 columns</p>\n",
       "</div>"
      ],
      "text/plain": [
       "0    janeiro 2021 fevereiro 2021 março 2021 abril 2021 maio 2021 junho 2021   \n",
       "IPCA         0.25           0.86       0.93       0.31      0.83       0.53  \\\n",
       "\n",
       "0    julho 2021 agosto 2021 setembro 2021 outubro 2021  ... abril 2022   \n",
       "IPCA       0.96        0.87          1.16         1.25  ...       1.06  \\\n",
       "\n",
       "0    maio 2022 junho 2022 julho 2022 agosto 2022 setembro 2022 outubro 2022   \n",
       "IPCA      0.47       0.67      -0.68       -0.36         -0.29         0.59  \\\n",
       "\n",
       "0    novembro 2022 dezembro 2022 janeiro 2023  \n",
       "IPCA          0.41          0.62         0.53  \n",
       "\n",
       "[1 rows x 25 columns]"
      ]
     },
     "execution_count": 154,
     "metadata": {},
     "output_type": "execute_result"
    }
   ],
   "source": [
    "# Os dados são do IBGE: https://www.ibge.gov.br/estatisticas/economicas/precos-e-custos/9256-indice-nacional-de-precos-ao-consumidor-amplo.html?=&t=series-historicas\n",
    "\n",
    "\n",
    "# Leitura e Limpeza do DataFrame de IPCA\n",
    "ipca = pd.read_excel(\"ipca_mensal.xlsx\")\n",
    "ipca = ipca.drop(columns=[\"Variação mensal durante o Plano Real\", \"Unnamed: 1\"])\n",
    "ipca.columns = ipca.iloc[0]\n",
    "ipca = ipca.drop([0, 1, 3, 4])\n",
    "ipca.iloc[0] = ipca.iloc[0].str.replace(',', '.').astype(float)\n",
    "ipca.index = [\"IPCA\"]\n",
    "ipca = ipca.loc[:, \"janeiro 2021\":\"janeiro 2023\"]\n",
    "ipca"
   ]
  },
  {
   "cell_type": "code",
   "execution_count": 155,
   "metadata": {},
   "outputs": [
    {
     "data": {
      "text/html": [
       "<div>\n",
       "<style scoped>\n",
       "    .dataframe tbody tr th:only-of-type {\n",
       "        vertical-align: middle;\n",
       "    }\n",
       "\n",
       "    .dataframe tbody tr th {\n",
       "        vertical-align: top;\n",
       "    }\n",
       "\n",
       "    .dataframe thead th {\n",
       "        text-align: right;\n",
       "    }\n",
       "</style>\n",
       "<table border=\"1\" class=\"dataframe\">\n",
       "  <thead>\n",
       "    <tr style=\"text-align: right;\">\n",
       "      <th></th>\n",
       "      <th>janeiro 2021</th>\n",
       "      <th>fevereiro 2021</th>\n",
       "      <th>março 2021</th>\n",
       "      <th>abril 2021</th>\n",
       "      <th>maio 2021</th>\n",
       "      <th>junho 2021</th>\n",
       "      <th>julho 2021</th>\n",
       "      <th>agosto 2021</th>\n",
       "      <th>setembro 2021</th>\n",
       "      <th>outubro 2021</th>\n",
       "      <th>...</th>\n",
       "      <th>abril 2022</th>\n",
       "      <th>maio 2022</th>\n",
       "      <th>junho 2022</th>\n",
       "      <th>julho 2022</th>\n",
       "      <th>agosto 2022</th>\n",
       "      <th>setembro 2022</th>\n",
       "      <th>outubro 2022</th>\n",
       "      <th>novembro 2022</th>\n",
       "      <th>dezembro 2022</th>\n",
       "      <th>janeiro 2023</th>\n",
       "    </tr>\n",
       "  </thead>\n",
       "  <tbody>\n",
       "    <tr>\n",
       "      <th>Taxa de variação</th>\n",
       "      <td>0.0938</td>\n",
       "      <td>0.1358</td>\n",
       "      <td>0.0521</td>\n",
       "      <td>-0.0064</td>\n",
       "      <td>0.0505</td>\n",
       "      <td>0.0739</td>\n",
       "      <td>0.0181</td>\n",
       "      <td>-0.0587</td>\n",
       "      <td>0.0654</td>\n",
       "      <td>0.1213</td>\n",
       "      <td>...</td>\n",
       "      <td>-0.0849</td>\n",
       "      <td>0.0623</td>\n",
       "      <td>0.0686</td>\n",
       "      <td>-0.0929</td>\n",
       "      <td>-0.0947</td>\n",
       "      <td>-0.0856</td>\n",
       "      <td>0.0329</td>\n",
       "      <td>-0.0221</td>\n",
       "      <td>-0.1117</td>\n",
       "      <td>0.0271</td>\n",
       "    </tr>\n",
       "  </tbody>\n",
       "</table>\n",
       "<p>1 rows × 25 columns</p>\n",
       "</div>"
      ],
      "text/plain": [
       "0                janeiro 2021 fevereiro 2021 março 2021 abril 2021 maio 2021   \n",
       "Taxa de variação       0.0938         0.1358     0.0521    -0.0064    0.0505  \\\n",
       "\n",
       "0                junho 2021 julho 2021 agosto 2021 setembro 2021 outubro 2021   \n",
       "Taxa de variação     0.0739     0.0181     -0.0587        0.0654       0.1213  \\\n",
       "\n",
       "0                 ... abril 2022 maio 2022 junho 2022 julho 2022 agosto 2022   \n",
       "Taxa de variação  ...    -0.0849    0.0623     0.0686    -0.0929     -0.0947  \\\n",
       "\n",
       "0                setembro 2022 outubro 2022 novembro 2022 dezembro 2022   \n",
       "Taxa de variação       -0.0856       0.0329       -0.0221       -0.1117  \\\n",
       "\n",
       "0                janeiro 2023  \n",
       "Taxa de variação       0.0271  \n",
       "\n",
       "[1 rows x 25 columns]"
      ]
     },
     "execution_count": 155,
     "metadata": {},
     "output_type": "execute_result"
    }
   ],
   "source": [
    "# Os dados são do site Index Mundi: https://www.indexmundi.com/pt/pre%c3%a7os-de-mercado/?mercadoria=petr%c3%b3leo-bruto-brent&meses=60\n",
    "\n",
    "# Leitura e Limpeza do DataFrame do Petróleo\n",
    "petroleo = pd.read_excel(\"petroleo.xlsx\")\n",
    "petroleo = petroleo.drop(columns=[\"Mês\", \"Preço\"])\n",
    "petroleo = petroleo.iloc[31:56].T\n",
    "petroleo.columns = ipca.columns\n",
    "petroleo"
   ]
  },
  {
   "cell_type": "code",
   "execution_count": 156,
   "metadata": {},
   "outputs": [
    {
     "data": {
      "application/vnd.plotly.v1+json": {
       "config": {
        "plotlyServerURL": "https://plot.ly"
       },
       "data": [
        {
         "hovertemplate": "variable=IPCA<br>0=%{x}<br>value=%{y}<extra></extra>",
         "legendgroup": "IPCA",
         "line": {
          "color": "rgb(27,158,119)",
          "dash": "solid",
          "shape": "spline"
         },
         "marker": {
          "size": 7,
          "symbol": "diamond"
         },
         "mode": "markers+lines",
         "name": "IPCA",
         "orientation": "v",
         "showlegend": true,
         "type": "scatter",
         "x": [
          "janeiro 2021",
          "fevereiro 2021",
          "março 2021",
          "abril 2021",
          "maio 2021",
          "junho 2021",
          "julho 2021",
          "agosto 2021",
          "setembro 2021",
          "outubro 2021",
          "novembro 2021",
          "dezembro 2021",
          "janeiro 2022",
          "fevereiro 2022",
          "março 2022",
          "abril 2022",
          "maio 2022",
          "junho 2022",
          "julho 2022",
          "agosto 2022",
          "setembro 2022",
          "outubro 2022",
          "novembro 2022",
          "dezembro 2022",
          "janeiro 2023"
         ],
         "xaxis": "x",
         "y": [
          0.25,
          1.1099999999999999,
          2.04,
          2.35,
          3.18,
          3.71,
          4.67,
          5.54,
          6.7,
          7.95,
          8.9,
          9.63,
          10.170000000000002,
          11.180000000000001,
          12.8,
          13.860000000000001,
          14.330000000000002,
          15.000000000000002,
          14.320000000000002,
          13.960000000000003,
          13.670000000000003,
          14.260000000000003,
          14.670000000000003,
          15.290000000000003,
          15.820000000000002
         ],
         "yaxis": "y"
        },
        {
         "hovertemplate": "variable=Preço dos Carros<br>0=%{x}<br>value=%{y}<extra></extra>",
         "legendgroup": "Preço dos Carros",
         "line": {
          "color": "#86CE00",
          "dash": "solid",
          "shape": "spline"
         },
         "marker": {
          "size": 7,
          "symbol": "hexagon"
         },
         "mode": "markers+lines",
         "name": "Preço dos Carros",
         "orientation": "v",
         "showlegend": true,
         "type": "scatter",
         "x": [
          "janeiro 2021",
          "fevereiro 2021",
          "março 2021",
          "abril 2021",
          "maio 2021",
          "junho 2021",
          "julho 2021",
          "agosto 2021",
          "setembro 2021",
          "outubro 2021",
          "novembro 2021",
          "dezembro 2021",
          "janeiro 2022",
          "fevereiro 2022",
          "março 2022",
          "abril 2022",
          "maio 2022",
          "junho 2022",
          "julho 2022",
          "agosto 2022",
          "setembro 2022",
          "outubro 2022",
          "novembro 2022",
          "dezembro 2022",
          "janeiro 2023"
         ],
         "xaxis": "x",
         "y": [
          0,
          0.9643731419884577,
          2.2994118278979547,
          5.850775777875302,
          7.600478846834584,
          14.530661891415345,
          17.952659539482244,
          20.156199253793524,
          22.542881148450117,
          24.733702206982958,
          28.17390847802186,
          31.241958972928863,
          34.05869300882855,
          36.19701120955683,
          38.16314750392657,
          39.57581331570477,
          40.74022473688853,
          42.007818421011535,
          42.016135842226866,
          41.88003685102686,
          43.66040008465665,
          43.13951167764416,
          44.781355007018135,
          44.795301389361285,
          47.73718054056692
         ],
         "yaxis": "y"
        },
        {
         "hovertemplate": "variable=Petróleo<br>0=%{x}<br>value=%{y}<extra></extra>",
         "legendgroup": "Petróleo",
         "line": {
          "color": "#0099C6",
          "dash": "solid",
          "shape": "spline"
         },
         "marker": {
          "size": 7,
          "symbol": "square"
         },
         "mode": "markers+lines",
         "name": "Petróleo",
         "orientation": "v",
         "showlegend": true,
         "type": "scatter",
         "x": [
          "janeiro 2021",
          "fevereiro 2021",
          "março 2021",
          "abril 2021",
          "maio 2021",
          "junho 2021",
          "julho 2021",
          "agosto 2021",
          "setembro 2021",
          "outubro 2021",
          "novembro 2021",
          "dezembro 2021",
          "janeiro 2022",
          "fevereiro 2022",
          "março 2022",
          "abril 2022",
          "maio 2022",
          "junho 2022",
          "julho 2022",
          "agosto 2022",
          "setembro 2022",
          "outubro 2022",
          "novembro 2022",
          "dezembro 2022",
          "janeiro 2023"
         ],
         "xaxis": "x",
         "y": [
          0,
          13.58,
          18.790000000000003,
          18.15,
          23.2,
          30.589999999999996,
          32.4,
          26.529999999999998,
          33.07,
          45.199999999999996,
          41.76,
          33.76,
          48.85999999999999,
          60.81999999999999,
          81.53,
          73.04,
          79.27000000000001,
          86.13000000000001,
          76.84,
          67.37,
          58.81000000000001,
          62.10000000000001,
          59.89000000000001,
          48.720000000000006,
          51.43000000000001
         ],
         "yaxis": "y"
        }
       ],
       "layout": {
        "height": 600,
        "legend": {
         "title": {
          "text": "Indicador"
         },
         "tracegroupgap": 0
        },
        "margin": {
         "t": 60
        },
        "template": {
         "data": {
          "bar": [
           {
            "error_x": {
             "color": "#2a3f5f"
            },
            "error_y": {
             "color": "#2a3f5f"
            },
            "marker": {
             "line": {
              "color": "#E5ECF6",
              "width": 0.5
             },
             "pattern": {
              "fillmode": "overlay",
              "size": 10,
              "solidity": 0.2
             }
            },
            "type": "bar"
           }
          ],
          "barpolar": [
           {
            "marker": {
             "line": {
              "color": "#E5ECF6",
              "width": 0.5
             },
             "pattern": {
              "fillmode": "overlay",
              "size": 10,
              "solidity": 0.2
             }
            },
            "type": "barpolar"
           }
          ],
          "carpet": [
           {
            "aaxis": {
             "endlinecolor": "#2a3f5f",
             "gridcolor": "white",
             "linecolor": "white",
             "minorgridcolor": "white",
             "startlinecolor": "#2a3f5f"
            },
            "baxis": {
             "endlinecolor": "#2a3f5f",
             "gridcolor": "white",
             "linecolor": "white",
             "minorgridcolor": "white",
             "startlinecolor": "#2a3f5f"
            },
            "type": "carpet"
           }
          ],
          "choropleth": [
           {
            "colorbar": {
             "outlinewidth": 0,
             "ticks": ""
            },
            "type": "choropleth"
           }
          ],
          "contour": [
           {
            "colorbar": {
             "outlinewidth": 0,
             "ticks": ""
            },
            "colorscale": [
             [
              0,
              "#0d0887"
             ],
             [
              0.1111111111111111,
              "#46039f"
             ],
             [
              0.2222222222222222,
              "#7201a8"
             ],
             [
              0.3333333333333333,
              "#9c179e"
             ],
             [
              0.4444444444444444,
              "#bd3786"
             ],
             [
              0.5555555555555556,
              "#d8576b"
             ],
             [
              0.6666666666666666,
              "#ed7953"
             ],
             [
              0.7777777777777778,
              "#fb9f3a"
             ],
             [
              0.8888888888888888,
              "#fdca26"
             ],
             [
              1,
              "#f0f921"
             ]
            ],
            "type": "contour"
           }
          ],
          "contourcarpet": [
           {
            "colorbar": {
             "outlinewidth": 0,
             "ticks": ""
            },
            "type": "contourcarpet"
           }
          ],
          "heatmap": [
           {
            "colorbar": {
             "outlinewidth": 0,
             "ticks": ""
            },
            "colorscale": [
             [
              0,
              "#0d0887"
             ],
             [
              0.1111111111111111,
              "#46039f"
             ],
             [
              0.2222222222222222,
              "#7201a8"
             ],
             [
              0.3333333333333333,
              "#9c179e"
             ],
             [
              0.4444444444444444,
              "#bd3786"
             ],
             [
              0.5555555555555556,
              "#d8576b"
             ],
             [
              0.6666666666666666,
              "#ed7953"
             ],
             [
              0.7777777777777778,
              "#fb9f3a"
             ],
             [
              0.8888888888888888,
              "#fdca26"
             ],
             [
              1,
              "#f0f921"
             ]
            ],
            "type": "heatmap"
           }
          ],
          "heatmapgl": [
           {
            "colorbar": {
             "outlinewidth": 0,
             "ticks": ""
            },
            "colorscale": [
             [
              0,
              "#0d0887"
             ],
             [
              0.1111111111111111,
              "#46039f"
             ],
             [
              0.2222222222222222,
              "#7201a8"
             ],
             [
              0.3333333333333333,
              "#9c179e"
             ],
             [
              0.4444444444444444,
              "#bd3786"
             ],
             [
              0.5555555555555556,
              "#d8576b"
             ],
             [
              0.6666666666666666,
              "#ed7953"
             ],
             [
              0.7777777777777778,
              "#fb9f3a"
             ],
             [
              0.8888888888888888,
              "#fdca26"
             ],
             [
              1,
              "#f0f921"
             ]
            ],
            "type": "heatmapgl"
           }
          ],
          "histogram": [
           {
            "marker": {
             "pattern": {
              "fillmode": "overlay",
              "size": 10,
              "solidity": 0.2
             }
            },
            "type": "histogram"
           }
          ],
          "histogram2d": [
           {
            "colorbar": {
             "outlinewidth": 0,
             "ticks": ""
            },
            "colorscale": [
             [
              0,
              "#0d0887"
             ],
             [
              0.1111111111111111,
              "#46039f"
             ],
             [
              0.2222222222222222,
              "#7201a8"
             ],
             [
              0.3333333333333333,
              "#9c179e"
             ],
             [
              0.4444444444444444,
              "#bd3786"
             ],
             [
              0.5555555555555556,
              "#d8576b"
             ],
             [
              0.6666666666666666,
              "#ed7953"
             ],
             [
              0.7777777777777778,
              "#fb9f3a"
             ],
             [
              0.8888888888888888,
              "#fdca26"
             ],
             [
              1,
              "#f0f921"
             ]
            ],
            "type": "histogram2d"
           }
          ],
          "histogram2dcontour": [
           {
            "colorbar": {
             "outlinewidth": 0,
             "ticks": ""
            },
            "colorscale": [
             [
              0,
              "#0d0887"
             ],
             [
              0.1111111111111111,
              "#46039f"
             ],
             [
              0.2222222222222222,
              "#7201a8"
             ],
             [
              0.3333333333333333,
              "#9c179e"
             ],
             [
              0.4444444444444444,
              "#bd3786"
             ],
             [
              0.5555555555555556,
              "#d8576b"
             ],
             [
              0.6666666666666666,
              "#ed7953"
             ],
             [
              0.7777777777777778,
              "#fb9f3a"
             ],
             [
              0.8888888888888888,
              "#fdca26"
             ],
             [
              1,
              "#f0f921"
             ]
            ],
            "type": "histogram2dcontour"
           }
          ],
          "mesh3d": [
           {
            "colorbar": {
             "outlinewidth": 0,
             "ticks": ""
            },
            "type": "mesh3d"
           }
          ],
          "parcoords": [
           {
            "line": {
             "colorbar": {
              "outlinewidth": 0,
              "ticks": ""
             }
            },
            "type": "parcoords"
           }
          ],
          "pie": [
           {
            "automargin": true,
            "type": "pie"
           }
          ],
          "scatter": [
           {
            "fillpattern": {
             "fillmode": "overlay",
             "size": 10,
             "solidity": 0.2
            },
            "type": "scatter"
           }
          ],
          "scatter3d": [
           {
            "line": {
             "colorbar": {
              "outlinewidth": 0,
              "ticks": ""
             }
            },
            "marker": {
             "colorbar": {
              "outlinewidth": 0,
              "ticks": ""
             }
            },
            "type": "scatter3d"
           }
          ],
          "scattercarpet": [
           {
            "marker": {
             "colorbar": {
              "outlinewidth": 0,
              "ticks": ""
             }
            },
            "type": "scattercarpet"
           }
          ],
          "scattergeo": [
           {
            "marker": {
             "colorbar": {
              "outlinewidth": 0,
              "ticks": ""
             }
            },
            "type": "scattergeo"
           }
          ],
          "scattergl": [
           {
            "marker": {
             "colorbar": {
              "outlinewidth": 0,
              "ticks": ""
             }
            },
            "type": "scattergl"
           }
          ],
          "scattermapbox": [
           {
            "marker": {
             "colorbar": {
              "outlinewidth": 0,
              "ticks": ""
             }
            },
            "type": "scattermapbox"
           }
          ],
          "scatterpolar": [
           {
            "marker": {
             "colorbar": {
              "outlinewidth": 0,
              "ticks": ""
             }
            },
            "type": "scatterpolar"
           }
          ],
          "scatterpolargl": [
           {
            "marker": {
             "colorbar": {
              "outlinewidth": 0,
              "ticks": ""
             }
            },
            "type": "scatterpolargl"
           }
          ],
          "scatterternary": [
           {
            "marker": {
             "colorbar": {
              "outlinewidth": 0,
              "ticks": ""
             }
            },
            "type": "scatterternary"
           }
          ],
          "surface": [
           {
            "colorbar": {
             "outlinewidth": 0,
             "ticks": ""
            },
            "colorscale": [
             [
              0,
              "#0d0887"
             ],
             [
              0.1111111111111111,
              "#46039f"
             ],
             [
              0.2222222222222222,
              "#7201a8"
             ],
             [
              0.3333333333333333,
              "#9c179e"
             ],
             [
              0.4444444444444444,
              "#bd3786"
             ],
             [
              0.5555555555555556,
              "#d8576b"
             ],
             [
              0.6666666666666666,
              "#ed7953"
             ],
             [
              0.7777777777777778,
              "#fb9f3a"
             ],
             [
              0.8888888888888888,
              "#fdca26"
             ],
             [
              1,
              "#f0f921"
             ]
            ],
            "type": "surface"
           }
          ],
          "table": [
           {
            "cells": {
             "fill": {
              "color": "#EBF0F8"
             },
             "line": {
              "color": "white"
             }
            },
            "header": {
             "fill": {
              "color": "#C8D4E3"
             },
             "line": {
              "color": "white"
             }
            },
            "type": "table"
           }
          ]
         },
         "layout": {
          "annotationdefaults": {
           "arrowcolor": "#2a3f5f",
           "arrowhead": 0,
           "arrowwidth": 1
          },
          "autotypenumbers": "strict",
          "coloraxis": {
           "colorbar": {
            "outlinewidth": 0,
            "ticks": ""
           }
          },
          "colorscale": {
           "diverging": [
            [
             0,
             "#8e0152"
            ],
            [
             0.1,
             "#c51b7d"
            ],
            [
             0.2,
             "#de77ae"
            ],
            [
             0.3,
             "#f1b6da"
            ],
            [
             0.4,
             "#fde0ef"
            ],
            [
             0.5,
             "#f7f7f7"
            ],
            [
             0.6,
             "#e6f5d0"
            ],
            [
             0.7,
             "#b8e186"
            ],
            [
             0.8,
             "#7fbc41"
            ],
            [
             0.9,
             "#4d9221"
            ],
            [
             1,
             "#276419"
            ]
           ],
           "sequential": [
            [
             0,
             "#0d0887"
            ],
            [
             0.1111111111111111,
             "#46039f"
            ],
            [
             0.2222222222222222,
             "#7201a8"
            ],
            [
             0.3333333333333333,
             "#9c179e"
            ],
            [
             0.4444444444444444,
             "#bd3786"
            ],
            [
             0.5555555555555556,
             "#d8576b"
            ],
            [
             0.6666666666666666,
             "#ed7953"
            ],
            [
             0.7777777777777778,
             "#fb9f3a"
            ],
            [
             0.8888888888888888,
             "#fdca26"
            ],
            [
             1,
             "#f0f921"
            ]
           ],
           "sequentialminus": [
            [
             0,
             "#0d0887"
            ],
            [
             0.1111111111111111,
             "#46039f"
            ],
            [
             0.2222222222222222,
             "#7201a8"
            ],
            [
             0.3333333333333333,
             "#9c179e"
            ],
            [
             0.4444444444444444,
             "#bd3786"
            ],
            [
             0.5555555555555556,
             "#d8576b"
            ],
            [
             0.6666666666666666,
             "#ed7953"
            ],
            [
             0.7777777777777778,
             "#fb9f3a"
            ],
            [
             0.8888888888888888,
             "#fdca26"
            ],
            [
             1,
             "#f0f921"
            ]
           ]
          },
          "colorway": [
           "#636efa",
           "#EF553B",
           "#00cc96",
           "#ab63fa",
           "#FFA15A",
           "#19d3f3",
           "#FF6692",
           "#B6E880",
           "#FF97FF",
           "#FECB52"
          ],
          "font": {
           "color": "#2a3f5f"
          },
          "geo": {
           "bgcolor": "white",
           "lakecolor": "white",
           "landcolor": "#E5ECF6",
           "showlakes": true,
           "showland": true,
           "subunitcolor": "white"
          },
          "hoverlabel": {
           "align": "left"
          },
          "hovermode": "closest",
          "mapbox": {
           "style": "light"
          },
          "paper_bgcolor": "white",
          "plot_bgcolor": "#E5ECF6",
          "polar": {
           "angularaxis": {
            "gridcolor": "white",
            "linecolor": "white",
            "ticks": ""
           },
           "bgcolor": "#E5ECF6",
           "radialaxis": {
            "gridcolor": "white",
            "linecolor": "white",
            "ticks": ""
           }
          },
          "scene": {
           "xaxis": {
            "backgroundcolor": "#E5ECF6",
            "gridcolor": "white",
            "gridwidth": 2,
            "linecolor": "white",
            "showbackground": true,
            "ticks": "",
            "zerolinecolor": "white"
           },
           "yaxis": {
            "backgroundcolor": "#E5ECF6",
            "gridcolor": "white",
            "gridwidth": 2,
            "linecolor": "white",
            "showbackground": true,
            "ticks": "",
            "zerolinecolor": "white"
           },
           "zaxis": {
            "backgroundcolor": "#E5ECF6",
            "gridcolor": "white",
            "gridwidth": 2,
            "linecolor": "white",
            "showbackground": true,
            "ticks": "",
            "zerolinecolor": "white"
           }
          },
          "shapedefaults": {
           "line": {
            "color": "#2a3f5f"
           }
          },
          "ternary": {
           "aaxis": {
            "gridcolor": "white",
            "linecolor": "white",
            "ticks": ""
           },
           "baxis": {
            "gridcolor": "white",
            "linecolor": "white",
            "ticks": ""
           },
           "bgcolor": "#E5ECF6",
           "caxis": {
            "gridcolor": "white",
            "linecolor": "white",
            "ticks": ""
           }
          },
          "title": {
           "x": 0.05
          },
          "xaxis": {
           "automargin": true,
           "gridcolor": "white",
           "linecolor": "white",
           "ticks": "",
           "title": {
            "standoff": 15
           },
           "zerolinecolor": "white",
           "zerolinewidth": 2
          },
          "yaxis": {
           "automargin": true,
           "gridcolor": "white",
           "linecolor": "white",
           "ticks": "",
           "title": {
            "standoff": 15
           },
           "zerolinecolor": "white",
           "zerolinewidth": 2
          }
         }
        },
        "title": {
         "text": "Evolução Percentual dos Indicadores",
         "x": 0.5
        },
        "width": 900,
        "xaxis": {
         "anchor": "y",
         "domain": [
          0,
          1
         ],
         "tickangle": 50,
         "title": {
          "text": "Data"
         }
        },
        "yaxis": {
         "anchor": "x",
         "domain": [
          0,
          1
         ],
         "title": {
          "text": "%"
         }
        }
       }
      }
     },
     "metadata": {},
     "output_type": "display_data"
    }
   ],
   "source": [
    "ipca_acumulado = ipca.loc[\"IPCA\"].cumsum().astype(float)  # Tornando os indicadores acumulados\n",
    "petroleo_acumulado = ((petroleo.loc[\"Taxa de variação\"].cumsum() - petroleo.iloc[0, 0])*100).astype(float)\n",
    "preco_perc = pd.Series((medias_data - medias_data[0])*100/(medias_data[0]))\n",
    "preco_perc.index = ipca_acumulado.index\n",
    "\n",
    "df_comparacoes = pd.concat([ipca_acumulado, preco_perc, petroleo_acumulado], axis=1)  # Juntando todos em um único DataFrame\n",
    "df_comparacoes.columns = [\"IPCA\", \"Preço dos Carros\", \"Petróleo\"]\n",
    "\n",
    "cores1 = [px.colors.qualitative.Dark2[0], px.colors.qualitative.Light24[19], \n",
    "         px.colors.qualitative.G10[5]]  # Escolha de cores\n",
    "\n",
    "fig = px.line(df_comparacoes, x=df_comparacoes.index, y=df_comparacoes.columns, \n",
    "                line_shape=\"spline\", markers=True, color_discrete_sequence=cores1)  # Faz o gráfico de linha de todos os indicadores\n",
    "\n",
    "markers = [\"diamond\", \"hexagon\", \"square\"]  # Escolha dos marcadores para cada indicador\n",
    "i = 0 \n",
    "for d in fig.data:\n",
    "    d.marker.symbol = markers[i]\n",
    "    d.marker.size = 7\n",
    "    i += 1\n",
    "\n",
    "fig.update_layout(title='Evolução Percentual dos Indicadores', title_x=0.5, xaxis_title='Data',\n",
    "                  yaxis_title='%', width=900, height=600,\n",
    "                  legend_title=\"Indicador\")\n",
    "fig.update_xaxes(tickangle=50)\n",
    "\n",
    "fig.show()"
   ]
  },
  {
   "cell_type": "markdown",
   "metadata": {},
   "source": [
    "#### Conclusão:\n",
    "\n",
    "Vemos que a taxa de crescimento do preço médio dos carros foi bem superior ao IPCA, com mais de 47% de aumento no fim do período.\n",
    "Além disso, apesar das altas e baixas do preço do petróleo, não se vê ondulação parecidas na curva de preços médios, levando a acreditar que a preferência por carros econômicos nesses períodos não foram o suficiente para impactar nos preços médios."
   ]
  },
  {
   "cell_type": "markdown",
   "metadata": {},
   "source": [
    "### *Combustível x Tamanho do Motor*"
   ]
  },
  {
   "cell_type": "markdown",
   "metadata": {},
   "source": [
    "#### Gráfico da Proporção de Combustíveis no Total:"
   ]
  },
  {
   "cell_type": "code",
   "execution_count": 157,
   "metadata": {},
   "outputs": [
    {
     "data": {
      "application/vnd.plotly.v1+json": {
       "config": {
        "plotlyServerURL": "https://plot.ly"
       },
       "data": [
        {
         "domain": {
          "x": [
           0,
           1
          ],
          "y": [
           0,
           1
          ]
         },
         "hovertemplate": "Combustível=%{label}<br>Frequência=%{value}<extra></extra>",
         "labels": [
          "Gasoline",
          "Diesel",
          "Alcohol"
         ],
         "legendgroup": "",
         "name": "",
         "showlegend": true,
         "textinfo": "percent+label",
         "textposition": "inside",
         "type": "pie",
         "values": [
          493498,
          96147,
          9358
         ]
        }
       ],
       "layout": {
        "height": 500,
        "legend": {
         "tracegroupgap": 0
        },
        "piecolorway": [
         "#636EFA",
         "#EF553B",
         "#2CA02C"
        ],
        "template": {
         "data": {
          "pie": [
           {
            "automargin": true,
            "type": "pie"
           }
          ],
          "scatter": [
           {
            "line": {
             "width": 3
            },
            "marker": {
             "size": 9
            },
            "type": "scatter"
           }
          ],
          "scatter3d": [
           {
            "line": {
             "width": 3
            },
            "marker": {
             "size": 9
            },
            "type": "scatter3d"
           }
          ],
          "scattergeo": [
           {
            "line": {
             "width": 3
            },
            "marker": {
             "size": 9
            },
            "type": "scattergeo"
           }
          ],
          "scattergl": [
           {
            "line": {
             "width": 3
            },
            "marker": {
             "size": 9
            },
            "type": "scattergl"
           }
          ],
          "scatterpolar": [
           {
            "line": {
             "width": 3
            },
            "marker": {
             "size": 9
            },
            "type": "scatterpolar"
           }
          ],
          "scatterpolargl": [
           {
            "line": {
             "width": 3
            },
            "marker": {
             "size": 9
            },
            "type": "scatterpolargl"
           }
          ],
          "scatterternary": [
           {
            "line": {
             "width": 3
            },
            "marker": {
             "size": 9
            },
            "type": "scatterternary"
           }
          ],
          "table": [
           {
            "cells": {
             "height": 30
            },
            "header": {
             "height": 36
            },
            "type": "table"
           }
          ]
         },
         "layout": {
          "font": {
           "size": 18
          },
          "xaxis": {
           "title": {
            "standoff": 15
           }
          },
          "yaxis": {
           "title": {
            "standoff": 15
           }
          }
         }
        },
        "title": {
         "text": "Proporção de Combustíveis no DataSet"
        },
        "width": 800
       }
      }
     },
     "metadata": {},
     "output_type": "display_data"
    }
   ],
   "source": [
    "df_combustivel = pd.DataFrame()\n",
    "df_combustivel[\"Combustível\"] = df[\"fuel\"].unique()  # Separando os tipos de combustíveis\n",
    "df_combustivel[\"Frequência\"] = np.array(df[\"fuel\"].value_counts())  # Frequência Absoluta com que aparecem\n",
    "\n",
    "cores2 = [px.colors.qualitative.Plotly[0], px.colors.qualitative.Plotly[1], \n",
    "         px.colors.qualitative.D3[2]]  # Seleção das cores\n",
    "\n",
    "fig = px.pie(df_combustivel, values = \"Frequência\", names = \"Combustível\", \n",
    "            title=\"Proporção de Combustíveis no DataSet\", template=\"presentation\", \n",
    "            color_discrete_sequence=cores2)  # Plot do gráfico de setor\n",
    "fig.update_layout(width=800, height=500)\n",
    "fig.update_traces(textposition=\"inside\", textinfo=\"percent+label\")\n",
    "fig.show()"
   ]
  },
  {
   "cell_type": "markdown",
   "metadata": {},
   "source": [
    "#### Como fica a proporção ao longo do tempo?\n",
    "\n",
    "Outra questão gerada na análise, afinal, as preferências de combustível podem variar com o tempo."
   ]
  },
  {
   "cell_type": "code",
   "execution_count": 158,
   "metadata": {},
   "outputs": [
    {
     "data": {
      "application/vnd.plotly.v1+json": {
       "config": {
        "plotlyServerURL": "https://plot.ly"
       },
       "data": [
        {
         "alignmentgroup": "True",
         "hovertemplate": "Combustível=Gasoline<br>Data=%{x}<br>Proporção=%{y}<extra></extra>",
         "legendgroup": "Gasoline",
         "marker": {
          "color": "#636EFA",
          "pattern": {
           "shape": ""
          }
         },
         "name": "Gasoline",
         "offsetgroup": "Gasoline",
         "orientation": "v",
         "showlegend": true,
         "textposition": "auto",
         "type": "bar",
         "x": [
          "2021/01",
          "2021/02",
          "2021/03",
          "2021/04",
          "2021/05",
          "2021/06",
          "2021/07",
          "2021/08",
          "2021/09",
          "2021/10",
          "2021/11",
          "2021/12",
          "2022/01",
          "2022/02",
          "2022/03",
          "2022/04",
          "2022/05",
          "2022/06",
          "2022/07",
          "2022/08",
          "2022/09",
          "2022/10",
          "2022/11",
          "2022/12",
          "2023/01"
         ],
         "xaxis": "x",
         "y": [
          0.8260552192021985,
          0.8263180454350622,
          0.8267379679144385,
          0.8257072256305386,
          0.8247230122681156,
          0.8250168577208361,
          0.8254014966787185,
          0.8251613443969491,
          0.8249602277484719,
          0.8249864249613633,
          0.825287643821911,
          0.8245533669262483,
          0.8246015563230826,
          0.8244791234332199,
          0.8240235021516055,
          0.8230103230103231,
          0.8226222148320586,
          0.8225345106330059,
          0.8211462859507552,
          0.8209361842648394,
          0.8213698404867621,
          0.8216824888012164,
          0.8222933595994418,
          0.8223125230882896,
          0.8212463779945313
         ],
         "yaxis": "y"
        },
        {
         "alignmentgroup": "True",
         "hovertemplate": "Combustível=Diesel<br>Data=%{x}<br>Proporção=%{y}<extra></extra>",
         "legendgroup": "Diesel",
         "marker": {
          "color": "#EF553B",
          "pattern": {
           "shape": ""
          }
         },
         "name": "Diesel",
         "offsetgroup": "Diesel",
         "orientation": "v",
         "showlegend": true,
         "textposition": "auto",
         "type": "bar",
         "x": [
          "2021/01",
          "2021/02",
          "2021/03",
          "2021/04",
          "2021/05",
          "2021/06",
          "2021/07",
          "2021/08",
          "2021/09",
          "2021/10",
          "2021/11",
          "2021/12",
          "2022/01",
          "2022/02",
          "2022/03",
          "2022/04",
          "2022/05",
          "2022/06",
          "2022/07",
          "2022/08",
          "2022/09",
          "2022/10",
          "2022/11",
          "2022/12",
          "2023/01"
         ],
         "xaxis": "x",
         "y": [
          0.15784275838378634,
          0.15760822974710673,
          0.1572192513368984,
          0.15831629175187456,
          0.15935815256611624,
          0.15917902899527983,
          0.15883292693180862,
          0.15912329226385047,
          0.15934019927991291,
          0.15935006891942693,
          0.15920460230115058,
          0.15995502436180403,
          0.15991843868336733,
          0.1602888685979912,
          0.16046011254551473,
          0.16138028638028637,
          0.16178915862986365,
          0.16192015918418107,
          0.1633354024415477,
          0.16358457855196895,
          0.16321328728827494,
          0.16290634118275593,
          0.16231634244438972,
          0.1622952838320404,
          0.1634493735460964
         ],
         "yaxis": "y"
        },
        {
         "alignmentgroup": "True",
         "hovertemplate": "Combustível=Alcohol<br>Data=%{x}<br>Proporção=%{y}<extra></extra>",
         "legendgroup": "Alcohol",
         "marker": {
          "color": "#2CA02C",
          "pattern": {
           "shape": ""
          }
         },
         "name": "Alcohol",
         "offsetgroup": "Alcohol",
         "orientation": "v",
         "showlegend": true,
         "textposition": "auto",
         "type": "bar",
         "x": [
          "2021/01",
          "2021/02",
          "2021/03",
          "2021/04",
          "2021/05",
          "2021/06",
          "2021/07",
          "2021/08",
          "2021/09",
          "2021/10",
          "2021/11",
          "2021/12",
          "2022/01",
          "2022/02",
          "2022/03",
          "2022/04",
          "2022/05",
          "2022/06",
          "2022/07",
          "2022/08",
          "2022/09",
          "2022/10",
          "2022/11",
          "2022/12",
          "2023/01"
         ],
         "xaxis": "x",
         "y": [
          0.0161020224140152,
          0.01607372481783112,
          0.016042780748663103,
          0.015976482617586912,
          0.015918835165768138,
          0.01580411328388402,
          0.015765576389472798,
          0.015715363339200403,
          0.015699572971615172,
          0.015663506119209723,
          0.015507753876938469,
          0.015491608711947696,
          0.015480004993549998,
          0.01523200796878891,
          0.015516385302879842,
          0.01560939060939061,
          0.015588626538077818,
          0.015545330182813084,
          0.015518311607697082,
          0.015479237183191613,
          0.015416872224963,
          0.015411170016027617,
          0.015390297956168432,
          0.015392193079669991,
          0.015304248459372321
         ],
         "yaxis": "y"
        }
       ],
       "layout": {
        "barmode": "relative",
        "height": 500,
        "legend": {
         "title": {
          "text": "Combustível"
         },
         "tracegroupgap": 0
        },
        "template": {
         "data": {
          "bar": [
           {
            "error_x": {
             "color": "#2a3f5f"
            },
            "error_y": {
             "color": "#2a3f5f"
            },
            "marker": {
             "line": {
              "color": "#E5ECF6",
              "width": 0.5
             },
             "pattern": {
              "fillmode": "overlay",
              "size": 10,
              "solidity": 0.2
             }
            },
            "type": "bar"
           }
          ],
          "barpolar": [
           {
            "marker": {
             "line": {
              "color": "#E5ECF6",
              "width": 0.5
             },
             "pattern": {
              "fillmode": "overlay",
              "size": 10,
              "solidity": 0.2
             }
            },
            "type": "barpolar"
           }
          ],
          "carpet": [
           {
            "aaxis": {
             "endlinecolor": "#2a3f5f",
             "gridcolor": "white",
             "linecolor": "white",
             "minorgridcolor": "white",
             "startlinecolor": "#2a3f5f"
            },
            "baxis": {
             "endlinecolor": "#2a3f5f",
             "gridcolor": "white",
             "linecolor": "white",
             "minorgridcolor": "white",
             "startlinecolor": "#2a3f5f"
            },
            "type": "carpet"
           }
          ],
          "choropleth": [
           {
            "colorbar": {
             "outlinewidth": 0,
             "ticks": ""
            },
            "type": "choropleth"
           }
          ],
          "contour": [
           {
            "colorbar": {
             "outlinewidth": 0,
             "ticks": ""
            },
            "colorscale": [
             [
              0,
              "#0d0887"
             ],
             [
              0.1111111111111111,
              "#46039f"
             ],
             [
              0.2222222222222222,
              "#7201a8"
             ],
             [
              0.3333333333333333,
              "#9c179e"
             ],
             [
              0.4444444444444444,
              "#bd3786"
             ],
             [
              0.5555555555555556,
              "#d8576b"
             ],
             [
              0.6666666666666666,
              "#ed7953"
             ],
             [
              0.7777777777777778,
              "#fb9f3a"
             ],
             [
              0.8888888888888888,
              "#fdca26"
             ],
             [
              1,
              "#f0f921"
             ]
            ],
            "type": "contour"
           }
          ],
          "contourcarpet": [
           {
            "colorbar": {
             "outlinewidth": 0,
             "ticks": ""
            },
            "type": "contourcarpet"
           }
          ],
          "heatmap": [
           {
            "colorbar": {
             "outlinewidth": 0,
             "ticks": ""
            },
            "colorscale": [
             [
              0,
              "#0d0887"
             ],
             [
              0.1111111111111111,
              "#46039f"
             ],
             [
              0.2222222222222222,
              "#7201a8"
             ],
             [
              0.3333333333333333,
              "#9c179e"
             ],
             [
              0.4444444444444444,
              "#bd3786"
             ],
             [
              0.5555555555555556,
              "#d8576b"
             ],
             [
              0.6666666666666666,
              "#ed7953"
             ],
             [
              0.7777777777777778,
              "#fb9f3a"
             ],
             [
              0.8888888888888888,
              "#fdca26"
             ],
             [
              1,
              "#f0f921"
             ]
            ],
            "type": "heatmap"
           }
          ],
          "heatmapgl": [
           {
            "colorbar": {
             "outlinewidth": 0,
             "ticks": ""
            },
            "colorscale": [
             [
              0,
              "#0d0887"
             ],
             [
              0.1111111111111111,
              "#46039f"
             ],
             [
              0.2222222222222222,
              "#7201a8"
             ],
             [
              0.3333333333333333,
              "#9c179e"
             ],
             [
              0.4444444444444444,
              "#bd3786"
             ],
             [
              0.5555555555555556,
              "#d8576b"
             ],
             [
              0.6666666666666666,
              "#ed7953"
             ],
             [
              0.7777777777777778,
              "#fb9f3a"
             ],
             [
              0.8888888888888888,
              "#fdca26"
             ],
             [
              1,
              "#f0f921"
             ]
            ],
            "type": "heatmapgl"
           }
          ],
          "histogram": [
           {
            "marker": {
             "pattern": {
              "fillmode": "overlay",
              "size": 10,
              "solidity": 0.2
             }
            },
            "type": "histogram"
           }
          ],
          "histogram2d": [
           {
            "colorbar": {
             "outlinewidth": 0,
             "ticks": ""
            },
            "colorscale": [
             [
              0,
              "#0d0887"
             ],
             [
              0.1111111111111111,
              "#46039f"
             ],
             [
              0.2222222222222222,
              "#7201a8"
             ],
             [
              0.3333333333333333,
              "#9c179e"
             ],
             [
              0.4444444444444444,
              "#bd3786"
             ],
             [
              0.5555555555555556,
              "#d8576b"
             ],
             [
              0.6666666666666666,
              "#ed7953"
             ],
             [
              0.7777777777777778,
              "#fb9f3a"
             ],
             [
              0.8888888888888888,
              "#fdca26"
             ],
             [
              1,
              "#f0f921"
             ]
            ],
            "type": "histogram2d"
           }
          ],
          "histogram2dcontour": [
           {
            "colorbar": {
             "outlinewidth": 0,
             "ticks": ""
            },
            "colorscale": [
             [
              0,
              "#0d0887"
             ],
             [
              0.1111111111111111,
              "#46039f"
             ],
             [
              0.2222222222222222,
              "#7201a8"
             ],
             [
              0.3333333333333333,
              "#9c179e"
             ],
             [
              0.4444444444444444,
              "#bd3786"
             ],
             [
              0.5555555555555556,
              "#d8576b"
             ],
             [
              0.6666666666666666,
              "#ed7953"
             ],
             [
              0.7777777777777778,
              "#fb9f3a"
             ],
             [
              0.8888888888888888,
              "#fdca26"
             ],
             [
              1,
              "#f0f921"
             ]
            ],
            "type": "histogram2dcontour"
           }
          ],
          "mesh3d": [
           {
            "colorbar": {
             "outlinewidth": 0,
             "ticks": ""
            },
            "type": "mesh3d"
           }
          ],
          "parcoords": [
           {
            "line": {
             "colorbar": {
              "outlinewidth": 0,
              "ticks": ""
             }
            },
            "type": "parcoords"
           }
          ],
          "pie": [
           {
            "automargin": true,
            "type": "pie"
           }
          ],
          "scatter": [
           {
            "fillpattern": {
             "fillmode": "overlay",
             "size": 10,
             "solidity": 0.2
            },
            "type": "scatter"
           }
          ],
          "scatter3d": [
           {
            "line": {
             "colorbar": {
              "outlinewidth": 0,
              "ticks": ""
             }
            },
            "marker": {
             "colorbar": {
              "outlinewidth": 0,
              "ticks": ""
             }
            },
            "type": "scatter3d"
           }
          ],
          "scattercarpet": [
           {
            "marker": {
             "colorbar": {
              "outlinewidth": 0,
              "ticks": ""
             }
            },
            "type": "scattercarpet"
           }
          ],
          "scattergeo": [
           {
            "marker": {
             "colorbar": {
              "outlinewidth": 0,
              "ticks": ""
             }
            },
            "type": "scattergeo"
           }
          ],
          "scattergl": [
           {
            "marker": {
             "colorbar": {
              "outlinewidth": 0,
              "ticks": ""
             }
            },
            "type": "scattergl"
           }
          ],
          "scattermapbox": [
           {
            "marker": {
             "colorbar": {
              "outlinewidth": 0,
              "ticks": ""
             }
            },
            "type": "scattermapbox"
           }
          ],
          "scatterpolar": [
           {
            "marker": {
             "colorbar": {
              "outlinewidth": 0,
              "ticks": ""
             }
            },
            "type": "scatterpolar"
           }
          ],
          "scatterpolargl": [
           {
            "marker": {
             "colorbar": {
              "outlinewidth": 0,
              "ticks": ""
             }
            },
            "type": "scatterpolargl"
           }
          ],
          "scatterternary": [
           {
            "marker": {
             "colorbar": {
              "outlinewidth": 0,
              "ticks": ""
             }
            },
            "type": "scatterternary"
           }
          ],
          "surface": [
           {
            "colorbar": {
             "outlinewidth": 0,
             "ticks": ""
            },
            "colorscale": [
             [
              0,
              "#0d0887"
             ],
             [
              0.1111111111111111,
              "#46039f"
             ],
             [
              0.2222222222222222,
              "#7201a8"
             ],
             [
              0.3333333333333333,
              "#9c179e"
             ],
             [
              0.4444444444444444,
              "#bd3786"
             ],
             [
              0.5555555555555556,
              "#d8576b"
             ],
             [
              0.6666666666666666,
              "#ed7953"
             ],
             [
              0.7777777777777778,
              "#fb9f3a"
             ],
             [
              0.8888888888888888,
              "#fdca26"
             ],
             [
              1,
              "#f0f921"
             ]
            ],
            "type": "surface"
           }
          ],
          "table": [
           {
            "cells": {
             "fill": {
              "color": "#EBF0F8"
             },
             "line": {
              "color": "white"
             }
            },
            "header": {
             "fill": {
              "color": "#C8D4E3"
             },
             "line": {
              "color": "white"
             }
            },
            "type": "table"
           }
          ]
         },
         "layout": {
          "annotationdefaults": {
           "arrowcolor": "#2a3f5f",
           "arrowhead": 0,
           "arrowwidth": 1
          },
          "autotypenumbers": "strict",
          "coloraxis": {
           "colorbar": {
            "outlinewidth": 0,
            "ticks": ""
           }
          },
          "colorscale": {
           "diverging": [
            [
             0,
             "#8e0152"
            ],
            [
             0.1,
             "#c51b7d"
            ],
            [
             0.2,
             "#de77ae"
            ],
            [
             0.3,
             "#f1b6da"
            ],
            [
             0.4,
             "#fde0ef"
            ],
            [
             0.5,
             "#f7f7f7"
            ],
            [
             0.6,
             "#e6f5d0"
            ],
            [
             0.7,
             "#b8e186"
            ],
            [
             0.8,
             "#7fbc41"
            ],
            [
             0.9,
             "#4d9221"
            ],
            [
             1,
             "#276419"
            ]
           ],
           "sequential": [
            [
             0,
             "#0d0887"
            ],
            [
             0.1111111111111111,
             "#46039f"
            ],
            [
             0.2222222222222222,
             "#7201a8"
            ],
            [
             0.3333333333333333,
             "#9c179e"
            ],
            [
             0.4444444444444444,
             "#bd3786"
            ],
            [
             0.5555555555555556,
             "#d8576b"
            ],
            [
             0.6666666666666666,
             "#ed7953"
            ],
            [
             0.7777777777777778,
             "#fb9f3a"
            ],
            [
             0.8888888888888888,
             "#fdca26"
            ],
            [
             1,
             "#f0f921"
            ]
           ],
           "sequentialminus": [
            [
             0,
             "#0d0887"
            ],
            [
             0.1111111111111111,
             "#46039f"
            ],
            [
             0.2222222222222222,
             "#7201a8"
            ],
            [
             0.3333333333333333,
             "#9c179e"
            ],
            [
             0.4444444444444444,
             "#bd3786"
            ],
            [
             0.5555555555555556,
             "#d8576b"
            ],
            [
             0.6666666666666666,
             "#ed7953"
            ],
            [
             0.7777777777777778,
             "#fb9f3a"
            ],
            [
             0.8888888888888888,
             "#fdca26"
            ],
            [
             1,
             "#f0f921"
            ]
           ]
          },
          "colorway": [
           "#636efa",
           "#EF553B",
           "#00cc96",
           "#ab63fa",
           "#FFA15A",
           "#19d3f3",
           "#FF6692",
           "#B6E880",
           "#FF97FF",
           "#FECB52"
          ],
          "font": {
           "color": "#2a3f5f"
          },
          "geo": {
           "bgcolor": "white",
           "lakecolor": "white",
           "landcolor": "#E5ECF6",
           "showlakes": true,
           "showland": true,
           "subunitcolor": "white"
          },
          "hoverlabel": {
           "align": "left"
          },
          "hovermode": "closest",
          "mapbox": {
           "style": "light"
          },
          "paper_bgcolor": "white",
          "plot_bgcolor": "#E5ECF6",
          "polar": {
           "angularaxis": {
            "gridcolor": "white",
            "linecolor": "white",
            "ticks": ""
           },
           "bgcolor": "#E5ECF6",
           "radialaxis": {
            "gridcolor": "white",
            "linecolor": "white",
            "ticks": ""
           }
          },
          "scene": {
           "xaxis": {
            "backgroundcolor": "#E5ECF6",
            "gridcolor": "white",
            "gridwidth": 2,
            "linecolor": "white",
            "showbackground": true,
            "ticks": "",
            "zerolinecolor": "white"
           },
           "yaxis": {
            "backgroundcolor": "#E5ECF6",
            "gridcolor": "white",
            "gridwidth": 2,
            "linecolor": "white",
            "showbackground": true,
            "ticks": "",
            "zerolinecolor": "white"
           },
           "zaxis": {
            "backgroundcolor": "#E5ECF6",
            "gridcolor": "white",
            "gridwidth": 2,
            "linecolor": "white",
            "showbackground": true,
            "ticks": "",
            "zerolinecolor": "white"
           }
          },
          "shapedefaults": {
           "line": {
            "color": "#2a3f5f"
           }
          },
          "ternary": {
           "aaxis": {
            "gridcolor": "white",
            "linecolor": "white",
            "ticks": ""
           },
           "baxis": {
            "gridcolor": "white",
            "linecolor": "white",
            "ticks": ""
           },
           "bgcolor": "#E5ECF6",
           "caxis": {
            "gridcolor": "white",
            "linecolor": "white",
            "ticks": ""
           }
          },
          "title": {
           "x": 0.05
          },
          "xaxis": {
           "automargin": true,
           "gridcolor": "white",
           "linecolor": "white",
           "ticks": "",
           "title": {
            "standoff": 15
           },
           "zerolinecolor": "white",
           "zerolinewidth": 2
          },
          "yaxis": {
           "automargin": true,
           "gridcolor": "white",
           "linecolor": "white",
           "ticks": "",
           "title": {
            "standoff": 15
           },
           "zerolinecolor": "white",
           "zerolinewidth": 2
          }
         }
        },
        "title": {
         "text": "Proporção de Combustíveis ao Longo do Tempo",
         "x": 0.5
        },
        "width": 800,
        "xaxis": {
         "anchor": "y",
         "domain": [
          0,
          1
         ],
         "tickangle": 50,
         "title": {
          "text": "Data"
         }
        },
        "yaxis": {
         "anchor": "x",
         "domain": [
          0,
          1
         ],
         "title": {
          "text": "Proporção"
         }
        }
       }
      }
     },
     "metadata": {},
     "output_type": "display_data"
    }
   ],
   "source": [
    "proporcoes = df.groupby([\"date\", \"fuel\"]).size() / df.groupby(\"date\").size()  # Tomando a frequência relativa\n",
    "df_proporcoes = proporcoes.unstack(level='fuel').reset_index()\n",
    "fig = px.bar(df_proporcoes, \"date\", [\"Gasoline\", \"Diesel\", \"Alcohol\"], \n",
    "             title=\"Proporção de Combustíveis ao Longo do Tempo\", color_discrete_sequence=cores2,\n",
    "             labels={\"value\": \"Proporção\", \"date\": \"Data\", \"variable\": \"Combustível\"})  # Plotando o gráfico de barras\n",
    "fig.update_layout(width=800, height=500, title_x=0.5)\n",
    "fig.update_xaxes(tickangle=50)\n",
    "fig.show()\n"
   ]
  },
  {
   "cell_type": "markdown",
   "metadata": {},
   "source": [
    "#### Conclusão:\n",
    "\n",
    "Praticamente não houve variação na proporção de combustíveis usados ao longo do tempo. Entendemos que, como não surgiram novas marcas no dataset, e as marcas analisadas, mesmo com novos modelos, sempre mantém a proporção de combustível, a proporção total também não se alterou."
   ]
  },
  {
   "cell_type": "markdown",
   "metadata": {},
   "source": [
    "#### Relação entre Combustível usado e Tamanho do Motor:\n",
    "\n",
    "Um questionamento que surgiu durante a observação do dataset, será que o tipo de combustível utilizado, influencia no tamanho do motor?"
   ]
  },
  {
   "cell_type": "code",
   "execution_count": 159,
   "metadata": {},
   "outputs": [
    {
     "data": {
      "application/vnd.plotly.v1+json": {
       "config": {
        "plotlyServerURL": "https://plot.ly"
       },
       "data": [
        {
         "alignmentgroup": "True",
         "hovertemplate": "Combustível=%{x}<br>Tamanho do Motor=%{y}<extra></extra>",
         "legendgroup": "Gasoline",
         "marker": {
          "color": "#636EFA",
          "pattern": {
           "shape": ""
          }
         },
         "name": "Gasoline",
         "offsetgroup": "Gasoline",
         "orientation": "v",
         "showlegend": true,
         "textposition": "auto",
         "type": "bar",
         "x": [
          "Gasoline"
         ],
         "xaxis": "x",
         "y": [
          2.182725360589101
         ],
         "yaxis": "y"
        },
        {
         "alignmentgroup": "True",
         "hovertemplate": "Combustível=%{x}<br>Tamanho do Motor=%{y}<extra></extra>",
         "legendgroup": "Diesel",
         "marker": {
          "color": "#EF553B",
          "pattern": {
           "shape": ""
          }
         },
         "name": "Diesel",
         "offsetgroup": "Diesel",
         "orientation": "v",
         "showlegend": true,
         "textposition": "auto",
         "type": "bar",
         "x": [
          "Diesel"
         ],
         "xaxis": "x",
         "y": [
          2.7559289421406805
         ],
         "yaxis": "y"
        },
        {
         "alignmentgroup": "True",
         "hovertemplate": "Combustível=%{x}<br>Tamanho do Motor=%{y}<extra></extra>",
         "legendgroup": "Alcohol",
         "marker": {
          "color": "#2CA02C",
          "pattern": {
           "shape": ""
          }
         },
         "name": "Alcohol",
         "offsetgroup": "Alcohol",
         "orientation": "v",
         "showlegend": true,
         "textposition": "auto",
         "type": "bar",
         "x": [
          "Alcohol"
         ],
         "xaxis": "x",
         "y": [
          1.6713186578328703
         ],
         "yaxis": "y"
        }
       ],
       "layout": {
        "barmode": "relative",
        "height": 500,
        "legend": {
         "title": {
          "text": "Combustível"
         },
         "tracegroupgap": 0
        },
        "showlegend": false,
        "template": {
         "data": {
          "bar": [
           {
            "error_x": {
             "color": "#2a3f5f"
            },
            "error_y": {
             "color": "#2a3f5f"
            },
            "marker": {
             "line": {
              "color": "#E5ECF6",
              "width": 0.5
             },
             "pattern": {
              "fillmode": "overlay",
              "size": 10,
              "solidity": 0.2
             }
            },
            "type": "bar"
           }
          ],
          "barpolar": [
           {
            "marker": {
             "line": {
              "color": "#E5ECF6",
              "width": 0.5
             },
             "pattern": {
              "fillmode": "overlay",
              "size": 10,
              "solidity": 0.2
             }
            },
            "type": "barpolar"
           }
          ],
          "carpet": [
           {
            "aaxis": {
             "endlinecolor": "#2a3f5f",
             "gridcolor": "white",
             "linecolor": "white",
             "minorgridcolor": "white",
             "startlinecolor": "#2a3f5f"
            },
            "baxis": {
             "endlinecolor": "#2a3f5f",
             "gridcolor": "white",
             "linecolor": "white",
             "minorgridcolor": "white",
             "startlinecolor": "#2a3f5f"
            },
            "type": "carpet"
           }
          ],
          "choropleth": [
           {
            "colorbar": {
             "outlinewidth": 0,
             "ticks": ""
            },
            "type": "choropleth"
           }
          ],
          "contour": [
           {
            "colorbar": {
             "outlinewidth": 0,
             "ticks": ""
            },
            "colorscale": [
             [
              0,
              "#0d0887"
             ],
             [
              0.1111111111111111,
              "#46039f"
             ],
             [
              0.2222222222222222,
              "#7201a8"
             ],
             [
              0.3333333333333333,
              "#9c179e"
             ],
             [
              0.4444444444444444,
              "#bd3786"
             ],
             [
              0.5555555555555556,
              "#d8576b"
             ],
             [
              0.6666666666666666,
              "#ed7953"
             ],
             [
              0.7777777777777778,
              "#fb9f3a"
             ],
             [
              0.8888888888888888,
              "#fdca26"
             ],
             [
              1,
              "#f0f921"
             ]
            ],
            "type": "contour"
           }
          ],
          "contourcarpet": [
           {
            "colorbar": {
             "outlinewidth": 0,
             "ticks": ""
            },
            "type": "contourcarpet"
           }
          ],
          "heatmap": [
           {
            "colorbar": {
             "outlinewidth": 0,
             "ticks": ""
            },
            "colorscale": [
             [
              0,
              "#0d0887"
             ],
             [
              0.1111111111111111,
              "#46039f"
             ],
             [
              0.2222222222222222,
              "#7201a8"
             ],
             [
              0.3333333333333333,
              "#9c179e"
             ],
             [
              0.4444444444444444,
              "#bd3786"
             ],
             [
              0.5555555555555556,
              "#d8576b"
             ],
             [
              0.6666666666666666,
              "#ed7953"
             ],
             [
              0.7777777777777778,
              "#fb9f3a"
             ],
             [
              0.8888888888888888,
              "#fdca26"
             ],
             [
              1,
              "#f0f921"
             ]
            ],
            "type": "heatmap"
           }
          ],
          "heatmapgl": [
           {
            "colorbar": {
             "outlinewidth": 0,
             "ticks": ""
            },
            "colorscale": [
             [
              0,
              "#0d0887"
             ],
             [
              0.1111111111111111,
              "#46039f"
             ],
             [
              0.2222222222222222,
              "#7201a8"
             ],
             [
              0.3333333333333333,
              "#9c179e"
             ],
             [
              0.4444444444444444,
              "#bd3786"
             ],
             [
              0.5555555555555556,
              "#d8576b"
             ],
             [
              0.6666666666666666,
              "#ed7953"
             ],
             [
              0.7777777777777778,
              "#fb9f3a"
             ],
             [
              0.8888888888888888,
              "#fdca26"
             ],
             [
              1,
              "#f0f921"
             ]
            ],
            "type": "heatmapgl"
           }
          ],
          "histogram": [
           {
            "marker": {
             "pattern": {
              "fillmode": "overlay",
              "size": 10,
              "solidity": 0.2
             }
            },
            "type": "histogram"
           }
          ],
          "histogram2d": [
           {
            "colorbar": {
             "outlinewidth": 0,
             "ticks": ""
            },
            "colorscale": [
             [
              0,
              "#0d0887"
             ],
             [
              0.1111111111111111,
              "#46039f"
             ],
             [
              0.2222222222222222,
              "#7201a8"
             ],
             [
              0.3333333333333333,
              "#9c179e"
             ],
             [
              0.4444444444444444,
              "#bd3786"
             ],
             [
              0.5555555555555556,
              "#d8576b"
             ],
             [
              0.6666666666666666,
              "#ed7953"
             ],
             [
              0.7777777777777778,
              "#fb9f3a"
             ],
             [
              0.8888888888888888,
              "#fdca26"
             ],
             [
              1,
              "#f0f921"
             ]
            ],
            "type": "histogram2d"
           }
          ],
          "histogram2dcontour": [
           {
            "colorbar": {
             "outlinewidth": 0,
             "ticks": ""
            },
            "colorscale": [
             [
              0,
              "#0d0887"
             ],
             [
              0.1111111111111111,
              "#46039f"
             ],
             [
              0.2222222222222222,
              "#7201a8"
             ],
             [
              0.3333333333333333,
              "#9c179e"
             ],
             [
              0.4444444444444444,
              "#bd3786"
             ],
             [
              0.5555555555555556,
              "#d8576b"
             ],
             [
              0.6666666666666666,
              "#ed7953"
             ],
             [
              0.7777777777777778,
              "#fb9f3a"
             ],
             [
              0.8888888888888888,
              "#fdca26"
             ],
             [
              1,
              "#f0f921"
             ]
            ],
            "type": "histogram2dcontour"
           }
          ],
          "mesh3d": [
           {
            "colorbar": {
             "outlinewidth": 0,
             "ticks": ""
            },
            "type": "mesh3d"
           }
          ],
          "parcoords": [
           {
            "line": {
             "colorbar": {
              "outlinewidth": 0,
              "ticks": ""
             }
            },
            "type": "parcoords"
           }
          ],
          "pie": [
           {
            "automargin": true,
            "type": "pie"
           }
          ],
          "scatter": [
           {
            "fillpattern": {
             "fillmode": "overlay",
             "size": 10,
             "solidity": 0.2
            },
            "type": "scatter"
           }
          ],
          "scatter3d": [
           {
            "line": {
             "colorbar": {
              "outlinewidth": 0,
              "ticks": ""
             }
            },
            "marker": {
             "colorbar": {
              "outlinewidth": 0,
              "ticks": ""
             }
            },
            "type": "scatter3d"
           }
          ],
          "scattercarpet": [
           {
            "marker": {
             "colorbar": {
              "outlinewidth": 0,
              "ticks": ""
             }
            },
            "type": "scattercarpet"
           }
          ],
          "scattergeo": [
           {
            "marker": {
             "colorbar": {
              "outlinewidth": 0,
              "ticks": ""
             }
            },
            "type": "scattergeo"
           }
          ],
          "scattergl": [
           {
            "marker": {
             "colorbar": {
              "outlinewidth": 0,
              "ticks": ""
             }
            },
            "type": "scattergl"
           }
          ],
          "scattermapbox": [
           {
            "marker": {
             "colorbar": {
              "outlinewidth": 0,
              "ticks": ""
             }
            },
            "type": "scattermapbox"
           }
          ],
          "scatterpolar": [
           {
            "marker": {
             "colorbar": {
              "outlinewidth": 0,
              "ticks": ""
             }
            },
            "type": "scatterpolar"
           }
          ],
          "scatterpolargl": [
           {
            "marker": {
             "colorbar": {
              "outlinewidth": 0,
              "ticks": ""
             }
            },
            "type": "scatterpolargl"
           }
          ],
          "scatterternary": [
           {
            "marker": {
             "colorbar": {
              "outlinewidth": 0,
              "ticks": ""
             }
            },
            "type": "scatterternary"
           }
          ],
          "surface": [
           {
            "colorbar": {
             "outlinewidth": 0,
             "ticks": ""
            },
            "colorscale": [
             [
              0,
              "#0d0887"
             ],
             [
              0.1111111111111111,
              "#46039f"
             ],
             [
              0.2222222222222222,
              "#7201a8"
             ],
             [
              0.3333333333333333,
              "#9c179e"
             ],
             [
              0.4444444444444444,
              "#bd3786"
             ],
             [
              0.5555555555555556,
              "#d8576b"
             ],
             [
              0.6666666666666666,
              "#ed7953"
             ],
             [
              0.7777777777777778,
              "#fb9f3a"
             ],
             [
              0.8888888888888888,
              "#fdca26"
             ],
             [
              1,
              "#f0f921"
             ]
            ],
            "type": "surface"
           }
          ],
          "table": [
           {
            "cells": {
             "fill": {
              "color": "#EBF0F8"
             },
             "line": {
              "color": "white"
             }
            },
            "header": {
             "fill": {
              "color": "#C8D4E3"
             },
             "line": {
              "color": "white"
             }
            },
            "type": "table"
           }
          ]
         },
         "layout": {
          "annotationdefaults": {
           "arrowcolor": "#2a3f5f",
           "arrowhead": 0,
           "arrowwidth": 1
          },
          "autotypenumbers": "strict",
          "coloraxis": {
           "colorbar": {
            "outlinewidth": 0,
            "ticks": ""
           }
          },
          "colorscale": {
           "diverging": [
            [
             0,
             "#8e0152"
            ],
            [
             0.1,
             "#c51b7d"
            ],
            [
             0.2,
             "#de77ae"
            ],
            [
             0.3,
             "#f1b6da"
            ],
            [
             0.4,
             "#fde0ef"
            ],
            [
             0.5,
             "#f7f7f7"
            ],
            [
             0.6,
             "#e6f5d0"
            ],
            [
             0.7,
             "#b8e186"
            ],
            [
             0.8,
             "#7fbc41"
            ],
            [
             0.9,
             "#4d9221"
            ],
            [
             1,
             "#276419"
            ]
           ],
           "sequential": [
            [
             0,
             "#0d0887"
            ],
            [
             0.1111111111111111,
             "#46039f"
            ],
            [
             0.2222222222222222,
             "#7201a8"
            ],
            [
             0.3333333333333333,
             "#9c179e"
            ],
            [
             0.4444444444444444,
             "#bd3786"
            ],
            [
             0.5555555555555556,
             "#d8576b"
            ],
            [
             0.6666666666666666,
             "#ed7953"
            ],
            [
             0.7777777777777778,
             "#fb9f3a"
            ],
            [
             0.8888888888888888,
             "#fdca26"
            ],
            [
             1,
             "#f0f921"
            ]
           ],
           "sequentialminus": [
            [
             0,
             "#0d0887"
            ],
            [
             0.1111111111111111,
             "#46039f"
            ],
            [
             0.2222222222222222,
             "#7201a8"
            ],
            [
             0.3333333333333333,
             "#9c179e"
            ],
            [
             0.4444444444444444,
             "#bd3786"
            ],
            [
             0.5555555555555556,
             "#d8576b"
            ],
            [
             0.6666666666666666,
             "#ed7953"
            ],
            [
             0.7777777777777778,
             "#fb9f3a"
            ],
            [
             0.8888888888888888,
             "#fdca26"
            ],
            [
             1,
             "#f0f921"
            ]
           ]
          },
          "colorway": [
           "#636efa",
           "#EF553B",
           "#00cc96",
           "#ab63fa",
           "#FFA15A",
           "#19d3f3",
           "#FF6692",
           "#B6E880",
           "#FF97FF",
           "#FECB52"
          ],
          "font": {
           "color": "#2a3f5f"
          },
          "geo": {
           "bgcolor": "white",
           "lakecolor": "white",
           "landcolor": "#E5ECF6",
           "showlakes": true,
           "showland": true,
           "subunitcolor": "white"
          },
          "hoverlabel": {
           "align": "left"
          },
          "hovermode": "closest",
          "mapbox": {
           "style": "light"
          },
          "paper_bgcolor": "white",
          "plot_bgcolor": "#E5ECF6",
          "polar": {
           "angularaxis": {
            "gridcolor": "white",
            "linecolor": "white",
            "ticks": ""
           },
           "bgcolor": "#E5ECF6",
           "radialaxis": {
            "gridcolor": "white",
            "linecolor": "white",
            "ticks": ""
           }
          },
          "scene": {
           "xaxis": {
            "backgroundcolor": "#E5ECF6",
            "gridcolor": "white",
            "gridwidth": 2,
            "linecolor": "white",
            "showbackground": true,
            "ticks": "",
            "zerolinecolor": "white"
           },
           "yaxis": {
            "backgroundcolor": "#E5ECF6",
            "gridcolor": "white",
            "gridwidth": 2,
            "linecolor": "white",
            "showbackground": true,
            "ticks": "",
            "zerolinecolor": "white"
           },
           "zaxis": {
            "backgroundcolor": "#E5ECF6",
            "gridcolor": "white",
            "gridwidth": 2,
            "linecolor": "white",
            "showbackground": true,
            "ticks": "",
            "zerolinecolor": "white"
           }
          },
          "shapedefaults": {
           "line": {
            "color": "#2a3f5f"
           }
          },
          "ternary": {
           "aaxis": {
            "gridcolor": "white",
            "linecolor": "white",
            "ticks": ""
           },
           "baxis": {
            "gridcolor": "white",
            "linecolor": "white",
            "ticks": ""
           },
           "bgcolor": "#E5ECF6",
           "caxis": {
            "gridcolor": "white",
            "linecolor": "white",
            "ticks": ""
           }
          },
          "title": {
           "x": 0.05
          },
          "xaxis": {
           "automargin": true,
           "gridcolor": "white",
           "linecolor": "white",
           "ticks": "",
           "title": {
            "standoff": 15
           },
           "zerolinecolor": "white",
           "zerolinewidth": 2
          },
          "yaxis": {
           "automargin": true,
           "gridcolor": "white",
           "linecolor": "white",
           "ticks": "",
           "title": {
            "standoff": 15
           },
           "zerolinecolor": "white",
           "zerolinewidth": 2
          }
         }
        },
        "title": {
         "text": "Média do Tamanho do Motor (cm³)",
         "x": 0.5
        },
        "width": 800,
        "xaxis": {
         "anchor": "y",
         "categoryarray": [
          "Gasoline",
          "Diesel",
          "Alcohol"
         ],
         "categoryorder": "array",
         "domain": [
          0,
          1
         ],
         "title": {
          "text": "Combustível"
         }
        },
        "yaxis": {
         "anchor": "x",
         "domain": [
          0,
          1
         ],
         "title": {
          "text": "Tamanho do Motor"
         }
        }
       }
      }
     },
     "metadata": {},
     "output_type": "display_data"
    }
   ],
   "source": [
    "df_combustivel[\"Tamanho do Motor\"] = np.flip(np.array(df.groupby(\"fuel\")[\"engine_size\"].mean()))  # Pegando a média do tamanho do motor para cada tipo de combustível\n",
    "fig = px.bar(df_combustivel, \"Combustível\", \"Tamanho do Motor\", title=\"Média do Tamanho do Motor (cm³)\", color=\"Combustível\", color_discrete_sequence=cores2)  # Plotando o gráfico de barras\n",
    "fig.update_layout(width=800, height=500, showlegend=False, title_x=0.5)\n",
    "fig.show()"
   ]
  },
  {
   "cell_type": "code",
   "execution_count": 160,
   "metadata": {},
   "outputs": [
    {
     "data": {
      "image/png": "[encoded data removed]",
      "text/plain": [
       "<Figure size 1200x700 with 1 Axes>"
      ]
     },
     "metadata": {},
     "output_type": "display_data"
    }
   ],
   "source": [
    "plt.figure(figsize=(12, 7))\n",
    "sns.histplot(df, x=\"engine_size\", bins=30, hue=\"fuel\", stat=\"probability\", multiple=\"stack\",\n",
    "             palette=cores2, alpha=0.7, kde=True)  # Fazendo o histograma dos combustíveis\n",
    "\n",
    "plt.title(\"Distribuição do Tamanho dos Motores (cm³)\")\n",
    "plt.ylabel(\"Frequência Relativa\")\n",
    "plt.xlabel(\"Tamanho do Motor\")\n",
    "\n",
    "Alcohol = mlines.Line2D([], [], color=px.colors.qualitative.D3[2], marker='s', linestyle='None',\n",
    "                        markersize=12, label='Alcohol')\n",
    "Diesel = mlines.Line2D([], [], color=px.colors.qualitative.Plotly[1], marker='s', linestyle='None',\n",
    "                       markersize=12, label='Diesel')\n",
    "Gasoline = mlines.Line2D([], [], color=px.colors.qualitative.Plotly[0], marker='s',\n",
    "                         linestyle='None', markersize=12, label='Gasoline')\n",
    "\n",
    "plt.legend(handles=[Alcohol, Diesel, Gasoline], title=\"Combustível\", title_fontsize=\"x-large\",\n",
    "           fontsize=\"x-large\")\n",
    "plt.show()"
   ]
  },
  {
   "cell_type": "markdown",
   "metadata": {},
   "source": [
    "#### Conclusão:\n",
    "\n",
    "Concluímos que existe uma relação entre o tipo de combustível utilizado e o tamanho do motor, sendo os motores a diesel os maiores e os a álcool menores. Pesquisando sobre, associamos isso a 3 motivos principais:\n",
    "\n",
    "* Eficiência térmica: Motores a diesel possuem maior eficiência térmica em comparação com motores a álcool, ou seja, esses motores convertem uma maior proporção de energia térmica do combustível em trabalho mecânico, resultando em maior potência e torque para um dado tamanho de motor, quando comparado com o a álcool.\n",
    "* Torque: Os motores a diesel geralmente produzem mais torque em baixas rotações do que os motores a álcool. Isso é importante para aplicações que requerem força de tração em baixas velocidades, como veículos utilitários e caminhões.\n",
    "* Combustão: A combustão nos motores a diesel é controlada por compressão, enquanto nos motores a álcool é controlada por ignição por faísca. A combustão por compressão nos motores a diesel permite taxas de compressão mais altas, o que resulta em maior eficiência, maior potência e, portanto, necessidade de mais volume. \n"
   ]
  },
  {
   "cell_type": "markdown",
   "metadata": {},
   "source": [
    "## *Marcas Famosas x Preço Médio*"
   ]
  },
  {
   "cell_type": "markdown",
   "metadata": {},
   "source": [
    "#### Comparando os Preços Médios das Marcas Famosas:\n",
    "\n",
    "Escolhendo as 10 marcas mais conhecidas, decidimos fazer uma comparação de seus preços, em busca de disparidades.\n",
    "A escolha levou em conta além da marca ser conhecida, deixar entre as 10 tanto marcas de luxo quanto populares, para que houvesse alguma diferença de preço significativa."
   ]
  },
  {
   "cell_type": "code",
   "execution_count": 173,
   "metadata": {},
   "outputs": [
    {
     "data": {
      "application/vnd.plotly.v1+json": {
       "config": {
        "plotlyServerURL": "https://plot.ly"
       },
       "data": [
        {
         "marker": {
          "color": "#AA0DFE"
         },
         "name": "Preço Médio",
         "type": "bar",
         "x": [
          "Mclaren",
          "Ferrari",
          "Mercedes-Benz",
          "BMW",
          "Jeep",
          "Toyota",
          "Honda",
          "GM - Chevrolet",
          "Ford",
          "VW - VolksWagen"
         ],
         "xaxis": "x",
         "y": [
          2962461.6656934307,
          2688672.7816436714,
          227130.0918236896,
          218673.04938927243,
          125816.03265750442,
          84380.74963513958,
          60428.96012529631,
          48148.18934300796,
          44885.51482071713,
          38929.791782276574
         ],
         "yaxis": "y"
        },
        {
         "marker": {
          "color": "rgb(207, 28, 144)"
         },
         "name": "Quantidade de Modelos",
         "type": "bar",
         "x": [
          "GM - Chevrolet",
          "VW - VolksWagen",
          "Ford",
          "Mercedes-Benz",
          "BMW",
          "Toyota",
          "Honda",
          "Jeep",
          "Ferrari",
          "Mclaren"
         ],
         "xaxis": "x2",
         "y": [
          513,
          503,
          442,
          396,
          236,
          204,
          96,
          93,
          23,
          10
         ],
         "yaxis": "y2"
        }
       ],
       "layout": {
        "annotations": [
         {
          "font": {
           "size": 15
          },
          "showarrow": false,
          "text": "Preço Médio por Marca (Milhões de Reais)",
          "x": 0.12,
          "xref": "paper",
          "y": 1.1,
          "yref": "paper"
         },
         {
          "showarrow": false,
          "text": "Quantidade de Modelos Diferentes por Marca",
          "x": 0.88,
          "xref": "paper",
          "y": 1.1,
          "yref": "paper"
         }
        ],
        "font": {
         "size": 15
        },
        "showlegend": false,
        "template": {
         "data": {
          "bar": [
           {
            "error_x": {
             "color": "#2a3f5f"
            },
            "error_y": {
             "color": "#2a3f5f"
            },
            "marker": {
             "line": {
              "color": "#E5ECF6",
              "width": 0.5
             },
             "pattern": {
              "fillmode": "overlay",
              "size": 10,
              "solidity": 0.2
             }
            },
            "type": "bar"
           }
          ],
          "barpolar": [
           {
            "marker": {
             "line": {
              "color": "#E5ECF6",
              "width": 0.5
             },
             "pattern": {
              "fillmode": "overlay",
              "size": 10,
              "solidity": 0.2
             }
            },
            "type": "barpolar"
           }
          ],
          "carpet": [
           {
            "aaxis": {
             "endlinecolor": "#2a3f5f",
             "gridcolor": "white",
             "linecolor": "white",
             "minorgridcolor": "white",
             "startlinecolor": "#2a3f5f"
            },
            "baxis": {
             "endlinecolor": "#2a3f5f",
             "gridcolor": "white",
             "linecolor": "white",
             "minorgridcolor": "white",
             "startlinecolor": "#2a3f5f"
            },
            "type": "carpet"
           }
          ],
          "choropleth": [
           {
            "colorbar": {
             "outlinewidth": 0,
             "ticks": ""
            },
            "type": "choropleth"
           }
          ],
          "contour": [
           {
            "colorbar": {
             "outlinewidth": 0,
             "ticks": ""
            },
            "colorscale": [
             [
              0,
              "#0d0887"
             ],
             [
              0.1111111111111111,
              "#46039f"
             ],
             [
              0.2222222222222222,
              "#7201a8"
             ],
             [
              0.3333333333333333,
              "#9c179e"
             ],
             [
              0.4444444444444444,
              "#bd3786"
             ],
             [
              0.5555555555555556,
              "#d8576b"
             ],
             [
              0.6666666666666666,
              "#ed7953"
             ],
             [
              0.7777777777777778,
              "#fb9f3a"
             ],
             [
              0.8888888888888888,
              "#fdca26"
             ],
             [
              1,
              "#f0f921"
             ]
            ],
            "type": "contour"
           }
          ],
          "contourcarpet": [
           {
            "colorbar": {
             "outlinewidth": 0,
             "ticks": ""
            },
            "type": "contourcarpet"
           }
          ],
          "heatmap": [
           {
            "colorbar": {
             "outlinewidth": 0,
             "ticks": ""
            },
            "colorscale": [
             [
              0,
              "#0d0887"
             ],
             [
              0.1111111111111111,
              "#46039f"
             ],
             [
              0.2222222222222222,
              "#7201a8"
             ],
             [
              0.3333333333333333,
              "#9c179e"
             ],
             [
              0.4444444444444444,
              "#bd3786"
             ],
             [
              0.5555555555555556,
              "#d8576b"
             ],
             [
              0.6666666666666666,
              "#ed7953"
             ],
             [
              0.7777777777777778,
              "#fb9f3a"
             ],
             [
              0.8888888888888888,
              "#fdca26"
             ],
             [
              1,
              "#f0f921"
             ]
            ],
            "type": "heatmap"
           }
          ],
          "heatmapgl": [
           {
            "colorbar": {
             "outlinewidth": 0,
             "ticks": ""
            },
            "colorscale": [
             [
              0,
              "#0d0887"
             ],
             [
              0.1111111111111111,
              "#46039f"
             ],
             [
              0.2222222222222222,
              "#7201a8"
             ],
             [
              0.3333333333333333,
              "#9c179e"
             ],
             [
              0.4444444444444444,
              "#bd3786"
             ],
             [
              0.5555555555555556,
              "#d8576b"
             ],
             [
              0.6666666666666666,
              "#ed7953"
             ],
             [
              0.7777777777777778,
              "#fb9f3a"
             ],
             [
              0.8888888888888888,
              "#fdca26"
             ],
             [
              1,
              "#f0f921"
             ]
            ],
            "type": "heatmapgl"
           }
          ],
          "histogram": [
           {
            "marker": {
             "pattern": {
              "fillmode": "overlay",
              "size": 10,
              "solidity": 0.2
             }
            },
            "type": "histogram"
           }
          ],
          "histogram2d": [
           {
            "colorbar": {
             "outlinewidth": 0,
             "ticks": ""
            },
            "colorscale": [
             [
              0,
              "#0d0887"
             ],
             [
              0.1111111111111111,
              "#46039f"
             ],
             [
              0.2222222222222222,
              "#7201a8"
             ],
             [
              0.3333333333333333,
              "#9c179e"
             ],
             [
              0.4444444444444444,
              "#bd3786"
             ],
             [
              0.5555555555555556,
              "#d8576b"
             ],
             [
              0.6666666666666666,
              "#ed7953"
             ],
             [
              0.7777777777777778,
              "#fb9f3a"
             ],
             [
              0.8888888888888888,
              "#fdca26"
             ],
             [
              1,
              "#f0f921"
             ]
            ],
            "type": "histogram2d"
           }
          ],
          "histogram2dcontour": [
           {
            "colorbar": {
             "outlinewidth": 0,
             "ticks": ""
            },
            "colorscale": [
             [
              0,
              "#0d0887"
             ],
             [
              0.1111111111111111,
              "#46039f"
             ],
             [
              0.2222222222222222,
              "#7201a8"
             ],
             [
              0.3333333333333333,
              "#9c179e"
             ],
             [
              0.4444444444444444,
              "#bd3786"
             ],
             [
              0.5555555555555556,
              "#d8576b"
             ],
             [
              0.6666666666666666,
              "#ed7953"
             ],
             [
              0.7777777777777778,
              "#fb9f3a"
             ],
             [
              0.8888888888888888,
              "#fdca26"
             ],
             [
              1,
              "#f0f921"
             ]
            ],
            "type": "histogram2dcontour"
           }
          ],
          "mesh3d": [
           {
            "colorbar": {
             "outlinewidth": 0,
             "ticks": ""
            },
            "type": "mesh3d"
           }
          ],
          "parcoords": [
           {
            "line": {
             "colorbar": {
              "outlinewidth": 0,
              "ticks": ""
             }
            },
            "type": "parcoords"
           }
          ],
          "pie": [
           {
            "automargin": true,
            "type": "pie"
           }
          ],
          "scatter": [
           {
            "fillpattern": {
             "fillmode": "overlay",
             "size": 10,
             "solidity": 0.2
            },
            "type": "scatter"
           }
          ],
          "scatter3d": [
           {
            "line": {
             "colorbar": {
              "outlinewidth": 0,
              "ticks": ""
             }
            },
            "marker": {
             "colorbar": {
              "outlinewidth": 0,
              "ticks": ""
             }
            },
            "type": "scatter3d"
           }
          ],
          "scattercarpet": [
           {
            "marker": {
             "colorbar": {
              "outlinewidth": 0,
              "ticks": ""
             }
            },
            "type": "scattercarpet"
           }
          ],
          "scattergeo": [
           {
            "marker": {
             "colorbar": {
              "outlinewidth": 0,
              "ticks": ""
             }
            },
            "type": "scattergeo"
           }
          ],
          "scattergl": [
           {
            "marker": {
             "colorbar": {
              "outlinewidth": 0,
              "ticks": ""
             }
            },
            "type": "scattergl"
           }
          ],
          "scattermapbox": [
           {
            "marker": {
             "colorbar": {
              "outlinewidth": 0,
              "ticks": ""
             }
            },
            "type": "scattermapbox"
           }
          ],
          "scatterpolar": [
           {
            "marker": {
             "colorbar": {
              "outlinewidth": 0,
              "ticks": ""
             }
            },
            "type": "scatterpolar"
           }
          ],
          "scatterpolargl": [
           {
            "marker": {
             "colorbar": {
              "outlinewidth": 0,
              "ticks": ""
             }
            },
            "type": "scatterpolargl"
           }
          ],
          "scatterternary": [
           {
            "marker": {
             "colorbar": {
              "outlinewidth": 0,
              "ticks": ""
             }
            },
            "type": "scatterternary"
           }
          ],
          "surface": [
           {
            "colorbar": {
             "outlinewidth": 0,
             "ticks": ""
            },
            "colorscale": [
             [
              0,
              "#0d0887"
             ],
             [
              0.1111111111111111,
              "#46039f"
             ],
             [
              0.2222222222222222,
              "#7201a8"
             ],
             [
              0.3333333333333333,
              "#9c179e"
             ],
             [
              0.4444444444444444,
              "#bd3786"
             ],
             [
              0.5555555555555556,
              "#d8576b"
             ],
             [
              0.6666666666666666,
              "#ed7953"
             ],
             [
              0.7777777777777778,
              "#fb9f3a"
             ],
             [
              0.8888888888888888,
              "#fdca26"
             ],
             [
              1,
              "#f0f921"
             ]
            ],
            "type": "surface"
           }
          ],
          "table": [
           {
            "cells": {
             "fill": {
              "color": "#EBF0F8"
             },
             "line": {
              "color": "white"
             }
            },
            "header": {
             "fill": {
              "color": "#C8D4E3"
             },
             "line": {
              "color": "white"
             }
            },
            "type": "table"
           }
          ]
         },
         "layout": {
          "annotationdefaults": {
           "arrowcolor": "#2a3f5f",
           "arrowhead": 0,
           "arrowwidth": 1
          },
          "autotypenumbers": "strict",
          "coloraxis": {
           "colorbar": {
            "outlinewidth": 0,
            "ticks": ""
           }
          },
          "colorscale": {
           "diverging": [
            [
             0,
             "#8e0152"
            ],
            [
             0.1,
             "#c51b7d"
            ],
            [
             0.2,
             "#de77ae"
            ],
            [
             0.3,
             "#f1b6da"
            ],
            [
             0.4,
             "#fde0ef"
            ],
            [
             0.5,
             "#f7f7f7"
            ],
            [
             0.6,
             "#e6f5d0"
            ],
            [
             0.7,
             "#b8e186"
            ],
            [
             0.8,
             "#7fbc41"
            ],
            [
             0.9,
             "#4d9221"
            ],
            [
             1,
             "#276419"
            ]
           ],
           "sequential": [
            [
             0,
             "#0d0887"
            ],
            [
             0.1111111111111111,
             "#46039f"
            ],
            [
             0.2222222222222222,
             "#7201a8"
            ],
            [
             0.3333333333333333,
             "#9c179e"
            ],
            [
             0.4444444444444444,
             "#bd3786"
            ],
            [
             0.5555555555555556,
             "#d8576b"
            ],
            [
             0.6666666666666666,
             "#ed7953"
            ],
            [
             0.7777777777777778,
             "#fb9f3a"
            ],
            [
             0.8888888888888888,
             "#fdca26"
            ],
            [
             1,
             "#f0f921"
            ]
           ],
           "sequentialminus": [
            [
             0,
             "#0d0887"
            ],
            [
             0.1111111111111111,
             "#46039f"
            ],
            [
             0.2222222222222222,
             "#7201a8"
            ],
            [
             0.3333333333333333,
             "#9c179e"
            ],
            [
             0.4444444444444444,
             "#bd3786"
            ],
            [
             0.5555555555555556,
             "#d8576b"
            ],
            [
             0.6666666666666666,
             "#ed7953"
            ],
            [
             0.7777777777777778,
             "#fb9f3a"
            ],
            [
             0.8888888888888888,
             "#fdca26"
            ],
            [
             1,
             "#f0f921"
            ]
           ]
          },
          "colorway": [
           "#636efa",
           "#EF553B",
           "#00cc96",
           "#ab63fa",
           "#FFA15A",
           "#19d3f3",
           "#FF6692",
           "#B6E880",
           "#FF97FF",
           "#FECB52"
          ],
          "font": {
           "color": "#2a3f5f"
          },
          "geo": {
           "bgcolor": "white",
           "lakecolor": "white",
           "landcolor": "#E5ECF6",
           "showlakes": true,
           "showland": true,
           "subunitcolor": "white"
          },
          "hoverlabel": {
           "align": "left"
          },
          "hovermode": "closest",
          "mapbox": {
           "style": "light"
          },
          "paper_bgcolor": "white",
          "plot_bgcolor": "#E5ECF6",
          "polar": {
           "angularaxis": {
            "gridcolor": "white",
            "linecolor": "white",
            "ticks": ""
           },
           "bgcolor": "#E5ECF6",
           "radialaxis": {
            "gridcolor": "white",
            "linecolor": "white",
            "ticks": ""
           }
          },
          "scene": {
           "xaxis": {
            "backgroundcolor": "#E5ECF6",
            "gridcolor": "white",
            "gridwidth": 2,
            "linecolor": "white",
            "showbackground": true,
            "ticks": "",
            "zerolinecolor": "white"
           },
           "yaxis": {
            "backgroundcolor": "#E5ECF6",
            "gridcolor": "white",
            "gridwidth": 2,
            "linecolor": "white",
            "showbackground": true,
            "ticks": "",
            "zerolinecolor": "white"
           },
           "zaxis": {
            "backgroundcolor": "#E5ECF6",
            "gridcolor": "white",
            "gridwidth": 2,
            "linecolor": "white",
            "showbackground": true,
            "ticks": "",
            "zerolinecolor": "white"
           }
          },
          "shapedefaults": {
           "line": {
            "color": "#2a3f5f"
           }
          },
          "ternary": {
           "aaxis": {
            "gridcolor": "white",
            "linecolor": "white",
            "ticks": ""
           },
           "baxis": {
            "gridcolor": "white",
            "linecolor": "white",
            "ticks": ""
           },
           "bgcolor": "#E5ECF6",
           "caxis": {
            "gridcolor": "white",
            "linecolor": "white",
            "ticks": ""
           }
          },
          "title": {
           "x": 0.05
          },
          "xaxis": {
           "automargin": true,
           "gridcolor": "white",
           "linecolor": "white",
           "ticks": "",
           "title": {
            "standoff": 15
           },
           "zerolinecolor": "white",
           "zerolinewidth": 2
          },
          "yaxis": {
           "automargin": true,
           "gridcolor": "white",
           "linecolor": "white",
           "ticks": "",
           "title": {
            "standoff": 15
           },
           "zerolinecolor": "white",
           "zerolinewidth": 2
          }
         }
        },
        "title": {
         "font": {
          "color": "black",
          "size": 20
         },
         "text": "Marcas Famosas",
         "x": 0.5
        },
        "xaxis": {
         "anchor": "y",
         "domain": [
          0,
          0.45
         ],
         "tickangle": 40
        },
        "xaxis2": {
         "anchor": "y2",
         "domain": [
          0.55,
          1
         ],
         "tickangle": 40
        },
        "yaxis": {
         "anchor": "x",
         "domain": [
          0,
          1
         ]
        },
        "yaxis2": {
         "anchor": "x2",
         "domain": [
          0,
          1
         ]
        }
       }
      }
     },
     "metadata": {},
     "output_type": "display_data"
    }
   ],
   "source": [
    "marcas = np.array(['BMW', 'Ferrari', 'Ford', 'GM - Chevrolet', 'Honda', 'Jeep', 'Mclaren', 'Mercedes-Benz', 'Toyota', 'VW - VolksWagen'])  # Definindo as 10 marcas mais conhecidas\n",
    "\n",
    "dfm = df[df['brand'].isin(marcas)]  # Tomando a parte do DataFrame referente às marcas escolhidas\n",
    "\n",
    "df_marcas = pd.DataFrame()\n",
    "df_marcas['Marca'] = marcas\n",
    "df_marcas['Preço Médio'] = list(dfm.groupby('brand')['avg_price_brl'].mean())  # Média dos preços\n",
    "df_marcas[\"Modelos\"] = list(dfm.groupby(\"brand\")[\"model\"].nunique())  # Quantidade de modelos diferentes por marca\n",
    "\n",
    "fig = sp.make_subplots(rows=1, cols=2)\n",
    "\n",
    "indices_ordenados1 = df_marcas[\"Preço Médio\"].sort_values(ascending=False).index\n",
    "fig.add_trace(go.Bar(x=df_marcas[\"Marca\"].iloc[indices_ordenados1], y=df_marcas[\"Preço Médio\"].\n",
    "                     sort_values(ascending=False), \n",
    "                     name=\"Preço Médio\", marker_color=px.colors.qualitative.Alphabet[0]), row=1, col=1)  # Gráficos de barras decrescentes\n",
    "\n",
    "indices_ordenados2 = df_marcas[\"Modelos\"].sort_values(ascending=False).index\n",
    "fig.add_trace(go.Bar(x=df_marcas[\"Marca\"].iloc[indices_ordenados2], y=df_marcas[\"Modelos\"].\n",
    "                     sort_values(ascending=False), \n",
    "                     name=\"Quantidade de Modelos\", marker_color=px.colors.qualitative.Bold[8]), row=1, col=2)\n",
    "\n",
    "fig.update_layout(title_text=\"Marcas Famosas\", title_x=0.5, \n",
    "                  title_font=dict(size=20, color=\"black\"), showlegend=False,annotations=[dict(x=0.12, y=1.1, xref='paper', yref='paper', text='Preço Médio por Marca (Milhões de Reais)', showarrow=False, font=dict(size=15)), \n",
    "                  dict(x=0.88, y=1.1, xref='paper', yref='paper', text='Quantidade de Modelos Diferentes por Marca', showarrow=False)], font=dict(size=15))\n",
    "fig.update_xaxes(tickangle=40)\n",
    "\n",
    "fig.show()"
   ]
  },
  {
   "cell_type": "markdown",
   "metadata": {},
   "source": [
    "#### Conclusão e Nova Motivação:\n",
    "\n",
    "Como esperado, as marcas de luxo possuem um preço médio muito elevado comparado com as demais. Além disso, observamos através do gráfico de quantidade de modelos que parece ter uma correlação negativa com os preços, ou seja, marcas com maior variedade de modelos tendem a ter preços mais baixos, possivelmente porque as marcas com mais modelos são justamente aquelas que produzem carros \"populares\". O que nos leva à nova análise."
   ]
  },
  {
   "cell_type": "code",
   "execution_count": 162,
   "metadata": {},
   "outputs": [
    {
     "data": {
      "image/png": "[encoded data removed]",
      "text/plain": [
       "<Figure size 800x400 with 1 Axes>"
      ]
     },
     "metadata": {},
     "output_type": "display_data"
    }
   ],
   "source": [
    "cores_dispersao = plt.colormaps[\"Reds\"](np.linspace(0.8, 0.5, 10))  # Escolhendo novas cores\n",
    "cmap_dispersao = mcolors.ListedColormap(cores_dispersao)\n",
    "\n",
    "coeficientes = np.polyfit(df_marcas[\"Preço Médio\"], df_marcas[\"Modelos\"], 1)\n",
    "regressao = np.polyval(coeficientes, df_marcas[\"Preço Médio\"])  # Criando a reta de regressão linear\n",
    "indices_particoes = np.linspace(0, 9, 11, dtype=int)\n",
    "\n",
    "plt.figure(figsize=(8, 4))\n",
    "fig1 = sns.scatterplot(x=df_marcas[\"Preço Médio\"], y=df_marcas[\"Modelos\"], \n",
    "                c=df_marcas[\"Modelos\"], cmap=cmap_dispersao)  # Plotando o gráfico de dispersão\n",
    "\n",
    "for i in range(10):  # Fazendo a reta de regressão com gradiente de cores\n",
    "    segmento_x = df_marcas[\"Preço Médio\"][indices_particoes[i]:indices_particoes[i+1]+1]\n",
    "    segmento_y = regressao[indices_particoes[i]:indices_particoes[i+1]+1]\n",
    "    cor = plt.colormaps[\"YlOrRd\"]((i-2)/20)\n",
    "    plt.plot(segmento_x, segmento_y, color=cor)\n",
    "\n",
    "corr1 = df_marcas[\"Preço Médio\"].corr(df_marcas[\"Modelos\"])  # Calculando a correlação\n",
    "\n",
    "def format_millions1(x, pos): \n",
    "    if x == 0:\n",
    "        return f\"0\"\n",
    "    return f\"{x/1e6:.1f}M\"\n",
    "\n",
    "# Formatação dos eixos x e y\n",
    "ax = plt.gca()\n",
    "ax.xaxis.set_major_formatter(mticker.FuncFormatter(format_millions1))  # Formatando o eixo X para Milhões\n",
    "\n",
    "plt.title(f\"Correlação de Pearson: {round(corr1, 3)}\")\n",
    "plt.ylabel(\"Quantidade de Modelos\")\n",
    "plt.xlabel(\"Preço Médio\")\n",
    "plt.xticks(rotation=45)\n",
    "plt.show()"
   ]
  },
  {
   "cell_type": "markdown",
   "metadata": {},
   "source": [
    "#### Conclusão e Novo Gráfico:\n",
    "\n",
    "Vemos que a nossa hipótese tinha sentido, já que uma correlação de -0.637 é considerada moderada. Apesar disso, vemos que as 2 marcas de luxo entre as 10 selecionadas funcionaram como outliers, por isso tentaremos de novo sem elas."
   ]
  },
  {
   "cell_type": "code",
   "execution_count": 163,
   "metadata": {},
   "outputs": [
    {
     "data": {
      "image/png": "[encoded data removed]",
      "text/plain": [
       "<Figure size 800x400 with 1 Axes>"
      ]
     },
     "metadata": {},
     "output_type": "display_data"
    }
   ],
   "source": [
    "df_sem_luxo = df_marcas[~df_marcas[\"Marca\"].isin([\"Ferrari\", \"Mclaren\"])]  # Retirando as marcas de luxo\n",
    "\n",
    "cores_dispersao = plt.colormaps[\"Reds\"](np.linspace(0.8, 0.5, 10))\n",
    "cmap_dispersao = mcolors.ListedColormap(cores_dispersao)\n",
    "\n",
    "coeficientes = np.polyfit(df_sem_luxo[\"Preço Médio\"], df_sem_luxo[\"Modelos\"], 1)\n",
    "regressao = np.polyval(coeficientes, df_sem_luxo[\"Preço Médio\"])\n",
    "indices_particoes = np.linspace(0, 7, 9, dtype=int)\n",
    "\n",
    "plt.figure(figsize=(8, 4))\n",
    "fig1 = sns.scatterplot(x=df_sem_luxo[\"Preço Médio\"], y=df_sem_luxo[\"Modelos\"], \n",
    "                c=df_sem_luxo[\"Modelos\"], cmap=cmap_dispersao)\n",
    "\n",
    "for i in range(8):\n",
    "    segmento_x = df_sem_luxo[\"Preço Médio\"][indices_particoes[i]:indices_particoes[i+1]+1]\n",
    "    segmento_y = regressao[indices_particoes[i]:indices_particoes[i+1]+1]\n",
    "    cor = plt.colormaps[\"YlOrRd\"]((i-2)/20)\n",
    "    plt.plot(segmento_x, segmento_y, color=cor)\n",
    "\n",
    "corr2 = df_sem_luxo[\"Preço Médio\"].corr(df_sem_luxo[\"Modelos\"])  # -0.243 -> Fraca\n",
    "\n",
    "def format_millions2(x, pos):\n",
    "    if x == 0:\n",
    "        return f\"0\"\n",
    "    return f\"{x/1e3:.0f}K\"\n",
    "\n",
    "# Formatação dos eixos x e y\n",
    "ax = plt.gca()\n",
    "ax.xaxis.set_major_formatter(mticker.FuncFormatter(format_millions2))\n",
    "\n",
    "plt.title(f\"Correlação de Pearson: {round(corr2, 3)}\")\n",
    "plt.ylabel(\"Quantidade de Modelos\")\n",
    "plt.xlabel(\"Preço Médio\")\n",
    "plt.xticks(rotation=45)\n",
    "plt.show()"
   ]
  },
  {
   "cell_type": "markdown",
   "metadata": {},
   "source": [
    "#### Conclusão:\n",
    "\n",
    "Sem as marcas de luxo vemos que a correlação diminui bastante, -0.243 é considerada uma correlação fraca, ainda assim, confirmamos que a quantidade de modelos de cada marca tem relação inversa com o seu preço médio. "
   ]
  },
  {
   "cell_type": "markdown",
   "metadata": {},
   "source": [
    "#### Comparando a Proporção de Combustíveis e o Tamanho Médio dos Motores para as Marcas Famosas:"
   ]
  },
  {
   "cell_type": "code",
   "execution_count": 177,
   "metadata": {},
   "outputs": [
    {
     "data": {
      "application/vnd.plotly.v1+json": {
       "config": {
        "plotlyServerURL": "https://plot.ly"
       },
       "data": [
        {
         "marker": {
          "color": "#17BECF"
         },
         "name": "Tamanho Médio dos Motores",
         "showlegend": false,
         "type": "bar",
         "x": [
          "BMW",
          "Ferrari",
          "Ford",
          "GM - Chevrolet",
          "Honda",
          "Jeep",
          "Mclaren",
          "Mercedes-Benz",
          "Toyota",
          "VW - VolksWagen"
         ],
         "xaxis": "x",
         "y": [
          3.0622507603920246,
          4.57114577084583,
          2.362910358565737,
          2.3645643838442894,
          1.7372163901117508,
          2.9102190774255003,
          3.898394160583942,
          3.1349146795620033,
          2.3055270467492113,
          1.679209056965711
         ],
         "yaxis": "y"
        },
        {
         "alignmentgroup": "True",
         "hovertemplate": "variable=Gasoline<br>brand=%{x}<br>value=%{y}<extra></extra>",
         "legendgroup": "Gasoline",
         "marker": {
          "color": "#636EFA",
          "pattern": {
           "shape": ""
          }
         },
         "name": "Gasoline",
         "offsetgroup": "Gasoline",
         "orientation": "v",
         "showlegend": true,
         "textposition": "auto",
         "type": "bar",
         "x": [
          "BMW",
          "Ferrari",
          "Ford",
          "GM - Chevrolet",
          "Honda",
          "Jeep",
          "Mclaren",
          "Mercedes-Benz",
          "Toyota",
          "VW - VolksWagen"
         ],
         "xaxis": "x2",
         "y": [
          0.98150919712258,
          1,
          0.7324501992031872,
          0.8101239704946784,
          1,
          0.747856851272282,
          1,
          0.7177477627702741,
          0.6725201261710843,
          0.8896139485493098
         ],
         "yaxis": "y2"
        },
        {
         "alignmentgroup": "True",
         "hovertemplate": "variable=Diesel<br>brand=%{x}<br>value=%{y}<extra></extra>",
         "legendgroup": "Diesel",
         "marker": {
          "color": "#EF553B",
          "pattern": {
           "shape": ""
          }
         },
         "name": "Diesel",
         "offsetgroup": "Diesel",
         "orientation": "v",
         "showlegend": true,
         "textposition": "auto",
         "type": "bar",
         "x": [
          "BMW",
          "Ferrari",
          "Ford",
          "GM - Chevrolet",
          "Honda",
          "Jeep",
          "Mclaren",
          "Mercedes-Benz",
          "Toyota",
          "VW - VolksWagen"
         ],
         "xaxis": "x2",
         "y": [
          0.018490802877419978,
          0,
          0.2396613545816733,
          0.16521948451658386,
          0,
          0.25214314872771804,
          0,
          0.282252237229726,
          0.3274798738289158,
          0.0384681259205974
         ],
         "yaxis": "y2"
        },
        {
         "alignmentgroup": "True",
         "hovertemplate": "variable=Alcohol<br>brand=%{x}<br>value=%{y}<extra></extra>",
         "legendgroup": "Alcohol",
         "marker": {
          "color": "#2CA02C",
          "pattern": {
           "shape": ""
          }
         },
         "name": "Alcohol",
         "offsetgroup": "Alcohol",
         "orientation": "v",
         "showlegend": true,
         "textposition": "auto",
         "type": "bar",
         "x": [
          "BMW",
          "Ferrari",
          "Ford",
          "GM - Chevrolet",
          "Honda",
          "Jeep",
          "Mclaren",
          "Mercedes-Benz",
          "Toyota",
          "VW - VolksWagen"
         ],
         "xaxis": "x2",
         "y": [
          0,
          0,
          0.027888446215139442,
          0.02465654498873777,
          0,
          0,
          0,
          0,
          0,
          0.07191792553009282
         ],
         "yaxis": "y2"
        }
       ],
       "layout": {
        "annotations": [
         {
          "font": {
           "size": 15
          },
          "showarrow": false,
          "text": "Tamanho Médio dos Motores (cm³)",
          "x": 0.12,
          "xref": "paper",
          "y": 1.1,
          "yref": "paper"
         },
         {
          "showarrow": false,
          "text": "Proporção de Combustíveis por Marca",
          "x": 0.88,
          "xref": "paper",
          "y": 1.1,
          "yref": "paper"
         }
        ],
        "barmode": "stack",
        "font": {
         "size": 15
        },
        "template": {
         "data": {
          "bar": [
           {
            "error_x": {
             "color": "#2a3f5f"
            },
            "error_y": {
             "color": "#2a3f5f"
            },
            "marker": {
             "line": {
              "color": "#E5ECF6",
              "width": 0.5
             },
             "pattern": {
              "fillmode": "overlay",
              "size": 10,
              "solidity": 0.2
             }
            },
            "type": "bar"
           }
          ],
          "barpolar": [
           {
            "marker": {
             "line": {
              "color": "#E5ECF6",
              "width": 0.5
             },
             "pattern": {
              "fillmode": "overlay",
              "size": 10,
              "solidity": 0.2
             }
            },
            "type": "barpolar"
           }
          ],
          "carpet": [
           {
            "aaxis": {
             "endlinecolor": "#2a3f5f",
             "gridcolor": "white",
             "linecolor": "white",
             "minorgridcolor": "white",
             "startlinecolor": "#2a3f5f"
            },
            "baxis": {
             "endlinecolor": "#2a3f5f",
             "gridcolor": "white",
             "linecolor": "white",
             "minorgridcolor": "white",
             "startlinecolor": "#2a3f5f"
            },
            "type": "carpet"
           }
          ],
          "choropleth": [
           {
            "colorbar": {
             "outlinewidth": 0,
             "ticks": ""
            },
            "type": "choropleth"
           }
          ],
          "contour": [
           {
            "colorbar": {
             "outlinewidth": 0,
             "ticks": ""
            },
            "colorscale": [
             [
              0,
              "#0d0887"
             ],
             [
              0.1111111111111111,
              "#46039f"
             ],
             [
              0.2222222222222222,
              "#7201a8"
             ],
             [
              0.3333333333333333,
              "#9c179e"
             ],
             [
              0.4444444444444444,
              "#bd3786"
             ],
             [
              0.5555555555555556,
              "#d8576b"
             ],
             [
              0.6666666666666666,
              "#ed7953"
             ],
             [
              0.7777777777777778,
              "#fb9f3a"
             ],
             [
              0.8888888888888888,
              "#fdca26"
             ],
             [
              1,
              "#f0f921"
             ]
            ],
            "type": "contour"
           }
          ],
          "contourcarpet": [
           {
            "colorbar": {
             "outlinewidth": 0,
             "ticks": ""
            },
            "type": "contourcarpet"
           }
          ],
          "heatmap": [
           {
            "colorbar": {
             "outlinewidth": 0,
             "ticks": ""
            },
            "colorscale": [
             [
              0,
              "#0d0887"
             ],
             [
              0.1111111111111111,
              "#46039f"
             ],
             [
              0.2222222222222222,
              "#7201a8"
             ],
             [
              0.3333333333333333,
              "#9c179e"
             ],
             [
              0.4444444444444444,
              "#bd3786"
             ],
             [
              0.5555555555555556,
              "#d8576b"
             ],
             [
              0.6666666666666666,
              "#ed7953"
             ],
             [
              0.7777777777777778,
              "#fb9f3a"
             ],
             [
              0.8888888888888888,
              "#fdca26"
             ],
             [
              1,
              "#f0f921"
             ]
            ],
            "type": "heatmap"
           }
          ],
          "heatmapgl": [
           {
            "colorbar": {
             "outlinewidth": 0,
             "ticks": ""
            },
            "colorscale": [
             [
              0,
              "#0d0887"
             ],
             [
              0.1111111111111111,
              "#46039f"
             ],
             [
              0.2222222222222222,
              "#7201a8"
             ],
             [
              0.3333333333333333,
              "#9c179e"
             ],
             [
              0.4444444444444444,
              "#bd3786"
             ],
             [
              0.5555555555555556,
              "#d8576b"
             ],
             [
              0.6666666666666666,
              "#ed7953"
             ],
             [
              0.7777777777777778,
              "#fb9f3a"
             ],
             [
              0.8888888888888888,
              "#fdca26"
             ],
             [
              1,
              "#f0f921"
             ]
            ],
            "type": "heatmapgl"
           }
          ],
          "histogram": [
           {
            "marker": {
             "pattern": {
              "fillmode": "overlay",
              "size": 10,
              "solidity": 0.2
             }
            },
            "type": "histogram"
           }
          ],
          "histogram2d": [
           {
            "colorbar": {
             "outlinewidth": 0,
             "ticks": ""
            },
            "colorscale": [
             [
              0,
              "#0d0887"
             ],
             [
              0.1111111111111111,
              "#46039f"
             ],
             [
              0.2222222222222222,
              "#7201a8"
             ],
             [
              0.3333333333333333,
              "#9c179e"
             ],
             [
              0.4444444444444444,
              "#bd3786"
             ],
             [
              0.5555555555555556,
              "#d8576b"
             ],
             [
              0.6666666666666666,
              "#ed7953"
             ],
             [
              0.7777777777777778,
              "#fb9f3a"
             ],
             [
              0.8888888888888888,
              "#fdca26"
             ],
             [
              1,
              "#f0f921"
             ]
            ],
            "type": "histogram2d"
           }
          ],
          "histogram2dcontour": [
           {
            "colorbar": {
             "outlinewidth": 0,
             "ticks": ""
            },
            "colorscale": [
             [
              0,
              "#0d0887"
             ],
             [
              0.1111111111111111,
              "#46039f"
             ],
             [
              0.2222222222222222,
              "#7201a8"
             ],
             [
              0.3333333333333333,
              "#9c179e"
             ],
             [
              0.4444444444444444,
              "#bd3786"
             ],
             [
              0.5555555555555556,
              "#d8576b"
             ],
             [
              0.6666666666666666,
              "#ed7953"
             ],
             [
              0.7777777777777778,
              "#fb9f3a"
             ],
             [
              0.8888888888888888,
              "#fdca26"
             ],
             [
              1,
              "#f0f921"
             ]
            ],
            "type": "histogram2dcontour"
           }
          ],
          "mesh3d": [
           {
            "colorbar": {
             "outlinewidth": 0,
             "ticks": ""
            },
            "type": "mesh3d"
           }
          ],
          "parcoords": [
           {
            "line": {
             "colorbar": {
              "outlinewidth": 0,
              "ticks": ""
             }
            },
            "type": "parcoords"
           }
          ],
          "pie": [
           {
            "automargin": true,
            "type": "pie"
           }
          ],
          "scatter": [
           {
            "fillpattern": {
             "fillmode": "overlay",
             "size": 10,
             "solidity": 0.2
            },
            "type": "scatter"
           }
          ],
          "scatter3d": [
           {
            "line": {
             "colorbar": {
              "outlinewidth": 0,
              "ticks": ""
             }
            },
            "marker": {
             "colorbar": {
              "outlinewidth": 0,
              "ticks": ""
             }
            },
            "type": "scatter3d"
           }
          ],
          "scattercarpet": [
           {
            "marker": {
             "colorbar": {
              "outlinewidth": 0,
              "ticks": ""
             }
            },
            "type": "scattercarpet"
           }
          ],
          "scattergeo": [
           {
            "marker": {
             "colorbar": {
              "outlinewidth": 0,
              "ticks": ""
             }
            },
            "type": "scattergeo"
           }
          ],
          "scattergl": [
           {
            "marker": {
             "colorbar": {
              "outlinewidth": 0,
              "ticks": ""
             }
            },
            "type": "scattergl"
           }
          ],
          "scattermapbox": [
           {
            "marker": {
             "colorbar": {
              "outlinewidth": 0,
              "ticks": ""
             }
            },
            "type": "scattermapbox"
           }
          ],
          "scatterpolar": [
           {
            "marker": {
             "colorbar": {
              "outlinewidth": 0,
              "ticks": ""
             }
            },
            "type": "scatterpolar"
           }
          ],
          "scatterpolargl": [
           {
            "marker": {
             "colorbar": {
              "outlinewidth": 0,
              "ticks": ""
             }
            },
            "type": "scatterpolargl"
           }
          ],
          "scatterternary": [
           {
            "marker": {
             "colorbar": {
              "outlinewidth": 0,
              "ticks": ""
             }
            },
            "type": "scatterternary"
           }
          ],
          "surface": [
           {
            "colorbar": {
             "outlinewidth": 0,
             "ticks": ""
            },
            "colorscale": [
             [
              0,
              "#0d0887"
             ],
             [
              0.1111111111111111,
              "#46039f"
             ],
             [
              0.2222222222222222,
              "#7201a8"
             ],
             [
              0.3333333333333333,
              "#9c179e"
             ],
             [
              0.4444444444444444,
              "#bd3786"
             ],
             [
              0.5555555555555556,
              "#d8576b"
             ],
             [
              0.6666666666666666,
              "#ed7953"
             ],
             [
              0.7777777777777778,
              "#fb9f3a"
             ],
             [
              0.8888888888888888,
              "#fdca26"
             ],
             [
              1,
              "#f0f921"
             ]
            ],
            "type": "surface"
           }
          ],
          "table": [
           {
            "cells": {
             "fill": {
              "color": "#EBF0F8"
             },
             "line": {
              "color": "white"
             }
            },
            "header": {
             "fill": {
              "color": "#C8D4E3"
             },
             "line": {
              "color": "white"
             }
            },
            "type": "table"
           }
          ]
         },
         "layout": {
          "annotationdefaults": {
           "arrowcolor": "#2a3f5f",
           "arrowhead": 0,
           "arrowwidth": 1
          },
          "autotypenumbers": "strict",
          "coloraxis": {
           "colorbar": {
            "outlinewidth": 0,
            "ticks": ""
           }
          },
          "colorscale": {
           "diverging": [
            [
             0,
             "#8e0152"
            ],
            [
             0.1,
             "#c51b7d"
            ],
            [
             0.2,
             "#de77ae"
            ],
            [
             0.3,
             "#f1b6da"
            ],
            [
             0.4,
             "#fde0ef"
            ],
            [
             0.5,
             "#f7f7f7"
            ],
            [
             0.6,
             "#e6f5d0"
            ],
            [
             0.7,
             "#b8e186"
            ],
            [
             0.8,
             "#7fbc41"
            ],
            [
             0.9,
             "#4d9221"
            ],
            [
             1,
             "#276419"
            ]
           ],
           "sequential": [
            [
             0,
             "#0d0887"
            ],
            [
             0.1111111111111111,
             "#46039f"
            ],
            [
             0.2222222222222222,
             "#7201a8"
            ],
            [
             0.3333333333333333,
             "#9c179e"
            ],
            [
             0.4444444444444444,
             "#bd3786"
            ],
            [
             0.5555555555555556,
             "#d8576b"
            ],
            [
             0.6666666666666666,
             "#ed7953"
            ],
            [
             0.7777777777777778,
             "#fb9f3a"
            ],
            [
             0.8888888888888888,
             "#fdca26"
            ],
            [
             1,
             "#f0f921"
            ]
           ],
           "sequentialminus": [
            [
             0,
             "#0d0887"
            ],
            [
             0.1111111111111111,
             "#46039f"
            ],
            [
             0.2222222222222222,
             "#7201a8"
            ],
            [
             0.3333333333333333,
             "#9c179e"
            ],
            [
             0.4444444444444444,
             "#bd3786"
            ],
            [
             0.5555555555555556,
             "#d8576b"
            ],
            [
             0.6666666666666666,
             "#ed7953"
            ],
            [
             0.7777777777777778,
             "#fb9f3a"
            ],
            [
             0.8888888888888888,
             "#fdca26"
            ],
            [
             1,
             "#f0f921"
            ]
           ]
          },
          "colorway": [
           "#636efa",
           "#EF553B",
           "#00cc96",
           "#ab63fa",
           "#FFA15A",
           "#19d3f3",
           "#FF6692",
           "#B6E880",
           "#FF97FF",
           "#FECB52"
          ],
          "font": {
           "color": "#2a3f5f"
          },
          "geo": {
           "bgcolor": "white",
           "lakecolor": "white",
           "landcolor": "#E5ECF6",
           "showlakes": true,
           "showland": true,
           "subunitcolor": "white"
          },
          "hoverlabel": {
           "align": "left"
          },
          "hovermode": "closest",
          "mapbox": {
           "style": "light"
          },
          "paper_bgcolor": "white",
          "plot_bgcolor": "#E5ECF6",
          "polar": {
           "angularaxis": {
            "gridcolor": "white",
            "linecolor": "white",
            "ticks": ""
           },
           "bgcolor": "#E5ECF6",
           "radialaxis": {
            "gridcolor": "white",
            "linecolor": "white",
            "ticks": ""
           }
          },
          "scene": {
           "xaxis": {
            "backgroundcolor": "#E5ECF6",
            "gridcolor": "white",
            "gridwidth": 2,
            "linecolor": "white",
            "showbackground": true,
            "ticks": "",
            "zerolinecolor": "white"
           },
           "yaxis": {
            "backgroundcolor": "#E5ECF6",
            "gridcolor": "white",
            "gridwidth": 2,
            "linecolor": "white",
            "showbackground": true,
            "ticks": "",
            "zerolinecolor": "white"
           },
           "zaxis": {
            "backgroundcolor": "#E5ECF6",
            "gridcolor": "white",
            "gridwidth": 2,
            "linecolor": "white",
            "showbackground": true,
            "ticks": "",
            "zerolinecolor": "white"
           }
          },
          "shapedefaults": {
           "line": {
            "color": "#2a3f5f"
           }
          },
          "ternary": {
           "aaxis": {
            "gridcolor": "white",
            "linecolor": "white",
            "ticks": ""
           },
           "baxis": {
            "gridcolor": "white",
            "linecolor": "white",
            "ticks": ""
           },
           "bgcolor": "#E5ECF6",
           "caxis": {
            "gridcolor": "white",
            "linecolor": "white",
            "ticks": ""
           }
          },
          "title": {
           "x": 0.05
          },
          "xaxis": {
           "automargin": true,
           "gridcolor": "white",
           "linecolor": "white",
           "ticks": "",
           "title": {
            "standoff": 15
           },
           "zerolinecolor": "white",
           "zerolinewidth": 2
          },
          "yaxis": {
           "automargin": true,
           "gridcolor": "white",
           "linecolor": "white",
           "ticks": "",
           "title": {
            "standoff": 15
           },
           "zerolinecolor": "white",
           "zerolinewidth": 2
          }
         }
        },
        "title": {
         "font": {
          "color": "black",
          "size": 20
         },
         "text": "Marcas Famosas",
         "x": 0.5
        },
        "xaxis": {
         "anchor": "y",
         "domain": [
          0,
          0.45
         ],
         "tickangle": 40
        },
        "xaxis2": {
         "anchor": "y2",
         "domain": [
          0.55,
          1
         ],
         "tickangle": 40
        },
        "yaxis": {
         "anchor": "x",
         "domain": [
          0,
          1
         ]
        },
        "yaxis2": {
         "anchor": "x2",
         "domain": [
          0,
          1
         ]
        }
       }
      }
     },
     "metadata": {},
     "output_type": "display_data"
    }
   ],
   "source": [
    "df_marcas[\"Tamanho Médio dos Motores\"] = list(dfm.groupby(\"brand\")[\"engine_size\"].mean())  # Tamanho médio do motor por marca\n",
    "\n",
    "fig = sp.make_subplots(rows=1, cols=2)\n",
    "\n",
    "fig.add_trace(go.Bar(x=df_marcas[\"Marca\"], y=df_marcas[\"Tamanho Médio dos Motores\"], \n",
    "                     name=\"Tamanho Médio dos Motores\", marker_color=px.colors.qualitative.D3[9], showlegend=False), row=1, col=1)  # Gráficos de barras\n",
    "\n",
    "proporcoes = dfm.groupby([\"brand\", \"fuel\"]).size() / dfm.groupby(\"brand\").size()  # Calculando as proporções para cada marca\n",
    "df_proporcoes = proporcoes.unstack(level='fuel').reset_index().fillna(0)\n",
    "\n",
    "fig_prop = px.bar(df_proporcoes, \"brand\", [\"Gasoline\", \"Diesel\", \"Alcohol\"],\n",
    "                  color_discrete_sequence=cores2)  # Criando o gráfico de barras\n",
    "\n",
    "for combu in fig_prop.data:  # Adicionando no gráfico principal\n",
    "    fig.add_trace(combu, row=1, col=2)\n",
    "\n",
    "fig.update_layout(title_text=\"Marcas Famosas\", title_x=0.5, \n",
    "                  title_font=dict(size=20, color=\"black\"), annotations=[dict(x=0.12, y=1.1, xref='paper', yref='paper', text='Tamanho Médio dos Motores (cm³)', showarrow=False, font=dict(size=15)), \n",
    "                  dict(x=0.88, y=1.1, xref='paper', yref='paper', text='Proporção de Combustíveis por Marca', showarrow=False)], font=dict(size=15), barmode=\"stack\")\n",
    "fig.update_xaxes(tickangle=40)\n",
    "\n",
    "fig.show()"
   ]
  },
  {
   "cell_type": "markdown",
   "metadata": {},
   "source": [
    "#### Conclusão:\n",
    "\n",
    "Vemos que as 2 marcas com os maiores motores utilizam somente gasolina como combustível..."
   ]
  },
  {
   "cell_type": "markdown",
   "metadata": {},
   "source": [
    "#### Modelos mais Caros X Modelos mais Baratos:\n",
    "\n",
    "Optamos por comparar também os 5 modelos mais baratos e mais caros de cada data, procurando diferenças em evolução de preço e marcas."
   ]
  },
  {
   "cell_type": "code",
   "execution_count": 165,
   "metadata": {},
   "outputs": [
    {
     "data": {
      "text/html": [
       "<div>\n",
       "<style scoped>\n",
       "    .dataframe tbody tr th:only-of-type {\n",
       "        vertical-align: middle;\n",
       "    }\n",
       "\n",
       "    .dataframe tbody tr th {\n",
       "        vertical-align: top;\n",
       "    }\n",
       "\n",
       "    .dataframe thead th {\n",
       "        text-align: right;\n",
       "    }\n",
       "</style>\n",
       "<table border=\"1\" class=\"dataframe\">\n",
       "  <thead>\n",
       "    <tr style=\"text-align: right;\">\n",
       "      <th></th>\n",
       "      <th>brand</th>\n",
       "      <th>model</th>\n",
       "      <th>engine_size</th>\n",
       "      <th>avg_price_brl</th>\n",
       "      <th>date</th>\n",
       "    </tr>\n",
       "  </thead>\n",
       "  <tbody>\n",
       "    <tr>\n",
       "      <th>12187</th>\n",
       "      <td>Lada</td>\n",
       "      <td>Laika 1.5</td>\n",
       "      <td>1.5</td>\n",
       "      <td>1699.0</td>\n",
       "      <td>2021/01</td>\n",
       "    </tr>\n",
       "    <tr>\n",
       "      <th>12174</th>\n",
       "      <td>Lada</td>\n",
       "      <td>Laika 1.6</td>\n",
       "      <td>1.6</td>\n",
       "      <td>1868.0</td>\n",
       "      <td>2021/01</td>\n",
       "    </tr>\n",
       "    <tr>\n",
       "      <th>12185</th>\n",
       "      <td>Lada</td>\n",
       "      <td>Samara 1.3/ 1.5</td>\n",
       "      <td>1.3</td>\n",
       "      <td>1936.0</td>\n",
       "      <td>2021/01</td>\n",
       "    </tr>\n",
       "    <tr>\n",
       "      <th>7996</th>\n",
       "      <td>Ford</td>\n",
       "      <td>Del Rey L 1.8 / 1.6 2p e 4p</td>\n",
       "      <td>1.8</td>\n",
       "      <td>2091.0</td>\n",
       "      <td>2021/01</td>\n",
       "    </tr>\n",
       "    <tr>\n",
       "      <th>5952</th>\n",
       "      <td>Fiat</td>\n",
       "      <td>Uno Furgão 1.5/ 1.3</td>\n",
       "      <td>1.5</td>\n",
       "      <td>2175.0</td>\n",
       "      <td>2021/01</td>\n",
       "    </tr>\n",
       "    <tr>\n",
       "      <th>...</th>\n",
       "      <td>...</td>\n",
       "      <td>...</td>\n",
       "      <td>...</td>\n",
       "      <td>...</td>\n",
       "      <td>...</td>\n",
       "    </tr>\n",
       "    <tr>\n",
       "      <th>587319</th>\n",
       "      <td>Lada</td>\n",
       "      <td>Laika 1.5</td>\n",
       "      <td>1.5</td>\n",
       "      <td>1985.0</td>\n",
       "      <td>2023/01</td>\n",
       "    </tr>\n",
       "    <tr>\n",
       "      <th>587317</th>\n",
       "      <td>Lada</td>\n",
       "      <td>Samara 1.3/ 1.5</td>\n",
       "      <td>1.3</td>\n",
       "      <td>2174.0</td>\n",
       "      <td>2023/01</td>\n",
       "    </tr>\n",
       "    <tr>\n",
       "      <th>575742</th>\n",
       "      <td>Baby</td>\n",
       "      <td>Buggy 1.6 2-Lug.</td>\n",
       "      <td>1.6</td>\n",
       "      <td>2436.0</td>\n",
       "      <td>2023/01</td>\n",
       "    </tr>\n",
       "    <tr>\n",
       "      <th>580778</th>\n",
       "      <td>Fiat</td>\n",
       "      <td>Uno Furgão 1.5/ 1.3</td>\n",
       "      <td>1.5</td>\n",
       "      <td>2503.0</td>\n",
       "      <td>2023/01</td>\n",
       "    </tr>\n",
       "    <tr>\n",
       "      <th>582886</th>\n",
       "      <td>Ford</td>\n",
       "      <td>Del Rey L 1.8 / 1.6 2p e 4p</td>\n",
       "      <td>1.8</td>\n",
       "      <td>2539.0</td>\n",
       "      <td>2023/01</td>\n",
       "    </tr>\n",
       "  </tbody>\n",
       "</table>\n",
       "<p>125 rows × 5 columns</p>\n",
       "</div>"
      ],
      "text/plain": [
       "       brand                        model  engine_size  avg_price_brl     date\n",
       "12187   Lada                    Laika 1.5          1.5         1699.0  2021/01\n",
       "12174   Lada                    Laika 1.6          1.6         1868.0  2021/01\n",
       "12185   Lada              Samara 1.3/ 1.5          1.3         1936.0  2021/01\n",
       "7996    Ford  Del Rey L 1.8 / 1.6 2p e 4p          1.8         2091.0  2021/01\n",
       "5952    Fiat          Uno Furgão 1.5/ 1.3          1.5         2175.0  2021/01\n",
       "...      ...                          ...          ...            ...      ...\n",
       "587319  Lada                    Laika 1.5          1.5         1985.0  2023/01\n",
       "587317  Lada              Samara 1.3/ 1.5          1.3         2174.0  2023/01\n",
       "575742  Baby             Buggy 1.6 2-Lug.          1.6         2436.0  2023/01\n",
       "580778  Fiat          Uno Furgão 1.5/ 1.3          1.5         2503.0  2023/01\n",
       "582886  Ford  Del Rey L 1.8 / 1.6 2p e 4p          1.8         2539.0  2023/01\n",
       "\n",
       "[125 rows x 5 columns]"
      ]
     },
     "execution_count": 165,
     "metadata": {},
     "output_type": "execute_result"
    }
   ],
   "source": [
    "df_ordenado = df.sort_values([\"date\", \"avg_price_brl\"])  # Ordenando por data e por preço\n",
    "df_barato = pd.DataFrame()\n",
    "for data in df_ordenado[\"date\"].unique():  # Escolhendo somente os modelos únicos em cada data (por algum motivo temos o mesmo modelo contabilizado 2x em alguns meses)\n",
    "    df_data_atual = df_ordenado[df_ordenado['date'] == data]\n",
    "    modelos_unicos = df_data_atual.drop_duplicates(subset='model').head(5)\n",
    "    df_barato = pd.concat([df_barato, modelos_unicos])\n",
    "df_barato.drop(\"fuel\", axis=1)"
   ]
  },
  {
   "cell_type": "code",
   "execution_count": 166,
   "metadata": {},
   "outputs": [
    {
     "data": {
      "text/html": [
       "<div>\n",
       "<style scoped>\n",
       "    .dataframe tbody tr th:only-of-type {\n",
       "        vertical-align: middle;\n",
       "    }\n",
       "\n",
       "    .dataframe tbody tr th {\n",
       "        vertical-align: top;\n",
       "    }\n",
       "\n",
       "    .dataframe thead th {\n",
       "        text-align: right;\n",
       "    }\n",
       "</style>\n",
       "<table border=\"1\" class=\"dataframe\">\n",
       "  <thead>\n",
       "    <tr style=\"text-align: right;\">\n",
       "      <th></th>\n",
       "      <th>model</th>\n",
       "      <th>%</th>\n",
       "    </tr>\n",
       "    <tr>\n",
       "      <th>brand</th>\n",
       "      <th></th>\n",
       "      <th></th>\n",
       "    </tr>\n",
       "  </thead>\n",
       "  <tbody>\n",
       "    <tr>\n",
       "      <th>Baby</th>\n",
       "      <td>10</td>\n",
       "      <td>8.0</td>\n",
       "    </tr>\n",
       "    <tr>\n",
       "      <th>Fiat</th>\n",
       "      <td>25</td>\n",
       "      <td>20.0</td>\n",
       "    </tr>\n",
       "    <tr>\n",
       "      <th>Ford</th>\n",
       "      <td>25</td>\n",
       "      <td>20.0</td>\n",
       "    </tr>\n",
       "    <tr>\n",
       "      <th>Lada</th>\n",
       "      <td>65</td>\n",
       "      <td>52.0</td>\n",
       "    </tr>\n",
       "  </tbody>\n",
       "</table>\n",
       "</div>"
      ],
      "text/plain": [
       "       model     %\n",
       "brand             \n",
       "Baby      10   8.0\n",
       "Fiat      25  20.0\n",
       "Ford      25  20.0\n",
       "Lada      65  52.0"
      ]
     },
     "execution_count": 166,
     "metadata": {},
     "output_type": "execute_result"
    }
   ],
   "source": [
    "df_marca_barato = pd.DataFrame(df_barato.groupby(\"brand\").count()[\"model\"])  # Frequencia absoluta das marcas com os carros mais baratos\n",
    "df_marca_barato[\"%\"] = (df_marca_barato[\"model\"] / 125) * 100\n",
    "df_marca_barato"
   ]
  },
  {
   "cell_type": "markdown",
   "metadata": {},
   "source": [
    "Vemos aqui que essas 4 marcas são as responsaveis pela confecção dos modelos mais baratos do Brasil, em especial a *Lada* que fabrica mais da metade desses modelos."
   ]
  },
  {
   "cell_type": "code",
   "execution_count": 167,
   "metadata": {},
   "outputs": [
    {
     "data": {
      "text/html": [
       "<div>\n",
       "<style scoped>\n",
       "    .dataframe tbody tr th:only-of-type {\n",
       "        vertical-align: middle;\n",
       "    }\n",
       "\n",
       "    .dataframe tbody tr th {\n",
       "        vertical-align: top;\n",
       "    }\n",
       "\n",
       "    .dataframe thead th {\n",
       "        text-align: right;\n",
       "    }\n",
       "</style>\n",
       "<table border=\"1\" class=\"dataframe\">\n",
       "  <thead>\n",
       "    <tr style=\"text-align: right;\">\n",
       "      <th></th>\n",
       "      <th>brand</th>\n",
       "      <th>model</th>\n",
       "      <th>engine_size</th>\n",
       "      <th>avg_price_brl</th>\n",
       "      <th>date</th>\n",
       "    </tr>\n",
       "  </thead>\n",
       "  <tbody>\n",
       "    <tr>\n",
       "      <th>13088</th>\n",
       "      <td>Mclaren</td>\n",
       "      <td>720S Spider 4.0 Bi-Turbo V8 2p</td>\n",
       "      <td>4.0</td>\n",
       "      <td>2990633.0</td>\n",
       "      <td>2021/01</td>\n",
       "    </tr>\n",
       "    <tr>\n",
       "      <th>5664</th>\n",
       "      <td>Ferrari</td>\n",
       "      <td>488 Pista 3.9 V8 720cv</td>\n",
       "      <td>3.9</td>\n",
       "      <td>3025120.0</td>\n",
       "      <td>2021/01</td>\n",
       "    </tr>\n",
       "    <tr>\n",
       "      <th>5666</th>\n",
       "      <td>Ferrari</td>\n",
       "      <td>F8 TRIBUTO 3.9 V8 720cv</td>\n",
       "      <td>3.9</td>\n",
       "      <td>3025493.0</td>\n",
       "      <td>2021/01</td>\n",
       "    </tr>\n",
       "    <tr>\n",
       "      <th>5661</th>\n",
       "      <td>Ferrari</td>\n",
       "      <td>488 Pista Spider 3.9 V8 720cv</td>\n",
       "      <td>3.9</td>\n",
       "      <td>3712050.0</td>\n",
       "      <td>2021/01</td>\n",
       "    </tr>\n",
       "    <tr>\n",
       "      <th>5668</th>\n",
       "      <td>Ferrari</td>\n",
       "      <td>F8 Spider 3.9 V8 Bi-Turbo 720cv</td>\n",
       "      <td>3.9</td>\n",
       "      <td>3965203.0</td>\n",
       "      <td>2021/01</td>\n",
       "    </tr>\n",
       "    <tr>\n",
       "      <th>...</th>\n",
       "      <td>...</td>\n",
       "      <td>...</td>\n",
       "      <td>...</td>\n",
       "      <td>...</td>\n",
       "      <td>...</td>\n",
       "    </tr>\n",
       "    <tr>\n",
       "      <th>580484</th>\n",
       "      <td>Ferrari</td>\n",
       "      <td>812 GTS 6.5 V12 800cv</td>\n",
       "      <td>6.5</td>\n",
       "      <td>6215167.0</td>\n",
       "      <td>2023/01</td>\n",
       "    </tr>\n",
       "    <tr>\n",
       "      <th>588321</th>\n",
       "      <td>Mclaren</td>\n",
       "      <td>765LT Coupe 4.0 Bi-Turbo V8</td>\n",
       "      <td>4.0</td>\n",
       "      <td>6242309.0</td>\n",
       "      <td>2023/01</td>\n",
       "    </tr>\n",
       "    <tr>\n",
       "      <th>594330</th>\n",
       "      <td>Rolls-Royce</td>\n",
       "      <td>Ghost 6.7 V12 Aut.</td>\n",
       "      <td>6.7</td>\n",
       "      <td>6439900.0</td>\n",
       "      <td>2023/01</td>\n",
       "    </tr>\n",
       "    <tr>\n",
       "      <th>580480</th>\n",
       "      <td>Ferrari</td>\n",
       "      <td>SF 90 STRADALE 4.0 V8 Bi-Turbo (Híbrido)</td>\n",
       "      <td>4.0</td>\n",
       "      <td>6610265.0</td>\n",
       "      <td>2023/01</td>\n",
       "    </tr>\n",
       "    <tr>\n",
       "      <th>580494</th>\n",
       "      <td>Ferrari</td>\n",
       "      <td>SF 90 SPIDER 4.0 V8 Bi-Turbo (Híbrido)</td>\n",
       "      <td>4.0</td>\n",
       "      <td>7950754.0</td>\n",
       "      <td>2023/01</td>\n",
       "    </tr>\n",
       "  </tbody>\n",
       "</table>\n",
       "<p>125 rows × 5 columns</p>\n",
       "</div>"
      ],
      "text/plain": [
       "              brand                                     model  engine_size   \n",
       "13088       Mclaren            720S Spider 4.0 Bi-Turbo V8 2p          4.0  \\\n",
       "5664        Ferrari                    488 Pista 3.9 V8 720cv          3.9   \n",
       "5666        Ferrari                   F8 TRIBUTO 3.9 V8 720cv          3.9   \n",
       "5661        Ferrari             488 Pista Spider 3.9 V8 720cv          3.9   \n",
       "5668        Ferrari           F8 Spider 3.9 V8 Bi-Turbo 720cv          3.9   \n",
       "...             ...                                       ...          ...   \n",
       "580484      Ferrari                     812 GTS 6.5 V12 800cv          6.5   \n",
       "588321      Mclaren               765LT Coupe 4.0 Bi-Turbo V8          4.0   \n",
       "594330  Rolls-Royce                        Ghost 6.7 V12 Aut.          6.7   \n",
       "580480      Ferrari  SF 90 STRADALE 4.0 V8 Bi-Turbo (Híbrido)          4.0   \n",
       "580494      Ferrari    SF 90 SPIDER 4.0 V8 Bi-Turbo (Híbrido)          4.0   \n",
       "\n",
       "        avg_price_brl     date  \n",
       "13088       2990633.0  2021/01  \n",
       "5664        3025120.0  2021/01  \n",
       "5666        3025493.0  2021/01  \n",
       "5661        3712050.0  2021/01  \n",
       "5668        3965203.0  2021/01  \n",
       "...               ...      ...  \n",
       "580484      6215167.0  2023/01  \n",
       "588321      6242309.0  2023/01  \n",
       "594330      6439900.0  2023/01  \n",
       "580480      6610265.0  2023/01  \n",
       "580494      7950754.0  2023/01  \n",
       "\n",
       "[125 rows x 5 columns]"
      ]
     },
     "execution_count": 167,
     "metadata": {},
     "output_type": "execute_result"
    }
   ],
   "source": [
    "df_caro = pd.DataFrame()\n",
    "for data in df_ordenado[\"date\"].unique():  # O mesmo para os carros mais caros\n",
    "    df_data_atual = df_ordenado[df_ordenado['date'] == data]\n",
    "    modelos_unicos = df_data_atual.drop_duplicates(subset='model').tail(5)\n",
    "    df_caro = pd.concat([df_caro, modelos_unicos])\n",
    "df_caro.drop(\"fuel\", axis=1)"
   ]
  },
  {
   "cell_type": "code",
   "execution_count": 168,
   "metadata": {},
   "outputs": [
    {
     "data": {
      "text/html": [
       "<div>\n",
       "<style scoped>\n",
       "    .dataframe tbody tr th:only-of-type {\n",
       "        vertical-align: middle;\n",
       "    }\n",
       "\n",
       "    .dataframe tbody tr th {\n",
       "        vertical-align: top;\n",
       "    }\n",
       "\n",
       "    .dataframe thead th {\n",
       "        text-align: right;\n",
       "    }\n",
       "</style>\n",
       "<table border=\"1\" class=\"dataframe\">\n",
       "  <thead>\n",
       "    <tr style=\"text-align: right;\">\n",
       "      <th></th>\n",
       "      <th>model</th>\n",
       "      <th>%</th>\n",
       "    </tr>\n",
       "    <tr>\n",
       "      <th>brand</th>\n",
       "      <th></th>\n",
       "      <th></th>\n",
       "    </tr>\n",
       "  </thead>\n",
       "  <tbody>\n",
       "    <tr>\n",
       "      <th>Ferrari</th>\n",
       "      <td>69</td>\n",
       "      <td>55.2</td>\n",
       "    </tr>\n",
       "    <tr>\n",
       "      <th>Mclaren</th>\n",
       "      <td>25</td>\n",
       "      <td>20.0</td>\n",
       "    </tr>\n",
       "    <tr>\n",
       "      <th>Rolls-Royce</th>\n",
       "      <td>31</td>\n",
       "      <td>24.8</td>\n",
       "    </tr>\n",
       "  </tbody>\n",
       "</table>\n",
       "</div>"
      ],
      "text/plain": [
       "             model     %\n",
       "brand                   \n",
       "Ferrari         69  55.2\n",
       "Mclaren         25  20.0\n",
       "Rolls-Royce     31  24.8"
      ]
     },
     "execution_count": 168,
     "metadata": {},
     "output_type": "execute_result"
    }
   ],
   "source": [
    "df_marca_caro = pd.DataFrame(df_caro.groupby(\"brand\").count()[\"model\"])  # Contando a quantidade de modelos de cada marca no novo DataFrame\n",
    "df_marca_caro[\"%\"] = (df_marca_caro[\"model\"] / 125) * 100\n",
    "df_marca_caro"
   ]
  },
  {
   "cell_type": "markdown",
   "metadata": {},
   "source": [
    "Como esperado, as marcas com os modelos mais caros são as marcas de luxo, em especial a *Ferrari*, uma das mais conhecidas do mundo."
   ]
  },
  {
   "cell_type": "code",
   "execution_count": 169,
   "metadata": {},
   "outputs": [
    {
     "data": {
      "application/vnd.plotly.v1+json": {
       "config": {
        "plotlyServerURL": "https://plot.ly"
       },
       "data": [
        {
         "hovertemplate": "variable=IPCA<br>0=%{x}<br>value=%{y}<extra></extra>",
         "legendgroup": "IPCA",
         "line": {
          "color": "#0099C6",
          "dash": "solid",
          "shape": "spline"
         },
         "marker": {
          "size": 7,
          "symbol": "pentagon"
         },
         "mode": "markers+lines",
         "name": "IPCA",
         "orientation": "v",
         "showlegend": true,
         "type": "scatter",
         "x": [
          "janeiro 2021",
          "fevereiro 2021",
          "março 2021",
          "abril 2021",
          "maio 2021",
          "junho 2021",
          "julho 2021",
          "agosto 2021",
          "setembro 2021",
          "outubro 2021",
          "novembro 2021",
          "dezembro 2021",
          "janeiro 2022",
          "fevereiro 2022",
          "março 2022",
          "abril 2022",
          "maio 2022",
          "junho 2022",
          "julho 2022",
          "agosto 2022",
          "setembro 2022",
          "outubro 2022",
          "novembro 2022",
          "dezembro 2022",
          "janeiro 2023"
         ],
         "xaxis": "x",
         "y": [
          0.25,
          1.1099999999999999,
          2.04,
          2.35,
          3.18,
          3.71,
          4.67,
          5.54,
          6.7,
          7.95,
          8.9,
          9.63,
          10.170000000000002,
          11.180000000000001,
          12.8,
          13.860000000000001,
          14.330000000000002,
          15.000000000000002,
          14.320000000000002,
          13.960000000000003,
          13.670000000000003,
          14.260000000000003,
          14.670000000000003,
          15.290000000000003,
          15.820000000000002
         ],
         "yaxis": "y"
        },
        {
         "hovertemplate": "variable=Carros Baratos<br>0=%{x}<br>value=%{y}<extra></extra>",
         "legendgroup": "Carros Baratos",
         "line": {
          "color": "rgb(102,166,30)",
          "dash": "solid",
          "shape": "spline"
         },
         "marker": {
          "size": 7,
          "symbol": "circle"
         },
         "mode": "markers+lines",
         "name": "Carros Baratos",
         "orientation": "v",
         "showlegend": true,
         "type": "scatter",
         "x": [
          "janeiro 2021",
          "fevereiro 2021",
          "março 2021",
          "abril 2021",
          "maio 2021",
          "junho 2021",
          "julho 2021",
          "agosto 2021",
          "setembro 2021",
          "outubro 2021",
          "novembro 2021",
          "dezembro 2021",
          "janeiro 2022",
          "fevereiro 2022",
          "março 2022",
          "abril 2022",
          "maio 2022",
          "junho 2022",
          "julho 2022",
          "agosto 2022",
          "setembro 2022",
          "outubro 2022",
          "novembro 2022",
          "dezembro 2022",
          "janeiro 2023"
         ],
         "xaxis": "x",
         "y": [
          0,
          -0.2763844815231786,
          -0.5527689630463689,
          -0.8189169822909202,
          -1.0850650015354717,
          0.34803971747363877,
          1.8118538233186658,
          3.2961408537209587,
          5.210359299825979,
          6.756065103900103,
          7.104104821373731,
          8.608864776333302,
          9.4482546831815,
          11.188453270549706,
          12.979834169311093,
          14.771215068072483,
          15.661787286313862,
          17.565769270140244,
          18.374449790152536,
          17.64766096836933,
          18.46657795066025,
          19.244549083836638,
          19.00911045142798,
          19.684716961818005,
          19.121711536492995
         ],
         "yaxis": "y"
        },
        {
         "hovertemplate": "variable=Carros Caros<br>0=%{x}<br>value=%{y}<extra></extra>",
         "legendgroup": "Carros Caros",
         "line": {
          "color": "#D62728",
          "dash": "solid",
          "shape": "spline"
         },
         "marker": {
          "size": 7,
          "symbol": "hexagram"
         },
         "mode": "markers+lines",
         "name": "Carros Caros",
         "orientation": "v",
         "showlegend": true,
         "type": "scatter",
         "x": [
          "janeiro 2021",
          "fevereiro 2021",
          "março 2021",
          "abril 2021",
          "maio 2021",
          "junho 2021",
          "julho 2021",
          "agosto 2021",
          "setembro 2021",
          "outubro 2021",
          "novembro 2021",
          "dezembro 2021",
          "janeiro 2022",
          "fevereiro 2022",
          "março 2022",
          "abril 2022",
          "maio 2022",
          "junho 2022",
          "julho 2022",
          "agosto 2022",
          "setembro 2022",
          "outubro 2022",
          "novembro 2022",
          "dezembro 2022",
          "janeiro 2023"
         ],
         "xaxis": "x",
         "y": [
          0,
          0.005335407203732002,
          0.3173969146392951,
          0.4375452604925893,
          16.263864357679488,
          63.83998946316893,
          76.42252453405057,
          79.04679122210673,
          81.7100984962825,
          84.26034538148431,
          83.60569929154528,
          88.16023495889196,
          89.27610068344055,
          90.3576451450576,
          90.80798461632234,
          104.36045125821404,
          105.42476929298498,
          107.20073016124238,
          105.23064899546306,
          102.83022417263656,
          102.68822577912049,
          102.38417934528694,
          102.58274382167922,
          102.21808189838096,
          100.12798397750899
         ],
         "yaxis": "y"
        }
       ],
       "layout": {
        "height": 600,
        "legend": {
         "title": {
          "text": "Indicador"
         },
         "tracegroupgap": 0
        },
        "margin": {
         "t": 60
        },
        "template": {
         "data": {
          "bar": [
           {
            "error_x": {
             "color": "#2a3f5f"
            },
            "error_y": {
             "color": "#2a3f5f"
            },
            "marker": {
             "line": {
              "color": "#E5ECF6",
              "width": 0.5
             },
             "pattern": {
              "fillmode": "overlay",
              "size": 10,
              "solidity": 0.2
             }
            },
            "type": "bar"
           }
          ],
          "barpolar": [
           {
            "marker": {
             "line": {
              "color": "#E5ECF6",
              "width": 0.5
             },
             "pattern": {
              "fillmode": "overlay",
              "size": 10,
              "solidity": 0.2
             }
            },
            "type": "barpolar"
           }
          ],
          "carpet": [
           {
            "aaxis": {
             "endlinecolor": "#2a3f5f",
             "gridcolor": "white",
             "linecolor": "white",
             "minorgridcolor": "white",
             "startlinecolor": "#2a3f5f"
            },
            "baxis": {
             "endlinecolor": "#2a3f5f",
             "gridcolor": "white",
             "linecolor": "white",
             "minorgridcolor": "white",
             "startlinecolor": "#2a3f5f"
            },
            "type": "carpet"
           }
          ],
          "choropleth": [
           {
            "colorbar": {
             "outlinewidth": 0,
             "ticks": ""
            },
            "type": "choropleth"
           }
          ],
          "contour": [
           {
            "colorbar": {
             "outlinewidth": 0,
             "ticks": ""
            },
            "colorscale": [
             [
              0,
              "#0d0887"
             ],
             [
              0.1111111111111111,
              "#46039f"
             ],
             [
              0.2222222222222222,
              "#7201a8"
             ],
             [
              0.3333333333333333,
              "#9c179e"
             ],
             [
              0.4444444444444444,
              "#bd3786"
             ],
             [
              0.5555555555555556,
              "#d8576b"
             ],
             [
              0.6666666666666666,
              "#ed7953"
             ],
             [
              0.7777777777777778,
              "#fb9f3a"
             ],
             [
              0.8888888888888888,
              "#fdca26"
             ],
             [
              1,
              "#f0f921"
             ]
            ],
            "type": "contour"
           }
          ],
          "contourcarpet": [
           {
            "colorbar": {
             "outlinewidth": 0,
             "ticks": ""
            },
            "type": "contourcarpet"
           }
          ],
          "heatmap": [
           {
            "colorbar": {
             "outlinewidth": 0,
             "ticks": ""
            },
            "colorscale": [
             [
              0,
              "#0d0887"
             ],
             [
              0.1111111111111111,
              "#46039f"
             ],
             [
              0.2222222222222222,
              "#7201a8"
             ],
             [
              0.3333333333333333,
              "#9c179e"
             ],
             [
              0.4444444444444444,
              "#bd3786"
             ],
             [
              0.5555555555555556,
              "#d8576b"
             ],
             [
              0.6666666666666666,
              "#ed7953"
             ],
             [
              0.7777777777777778,
              "#fb9f3a"
             ],
             [
              0.8888888888888888,
              "#fdca26"
             ],
             [
              1,
              "#f0f921"
             ]
            ],
            "type": "heatmap"
           }
          ],
          "heatmapgl": [
           {
            "colorbar": {
             "outlinewidth": 0,
             "ticks": ""
            },
            "colorscale": [
             [
              0,
              "#0d0887"
             ],
             [
              0.1111111111111111,
              "#46039f"
             ],
             [
              0.2222222222222222,
              "#7201a8"
             ],
             [
              0.3333333333333333,
              "#9c179e"
             ],
             [
              0.4444444444444444,
              "#bd3786"
             ],
             [
              0.5555555555555556,
              "#d8576b"
             ],
             [
              0.6666666666666666,
              "#ed7953"
             ],
             [
              0.7777777777777778,
              "#fb9f3a"
             ],
             [
              0.8888888888888888,
              "#fdca26"
             ],
             [
              1,
              "#f0f921"
             ]
            ],
            "type": "heatmapgl"
           }
          ],
          "histogram": [
           {
            "marker": {
             "pattern": {
              "fillmode": "overlay",
              "size": 10,
              "solidity": 0.2
             }
            },
            "type": "histogram"
           }
          ],
          "histogram2d": [
           {
            "colorbar": {
             "outlinewidth": 0,
             "ticks": ""
            },
            "colorscale": [
             [
              0,
              "#0d0887"
             ],
             [
              0.1111111111111111,
              "#46039f"
             ],
             [
              0.2222222222222222,
              "#7201a8"
             ],
             [
              0.3333333333333333,
              "#9c179e"
             ],
             [
              0.4444444444444444,
              "#bd3786"
             ],
             [
              0.5555555555555556,
              "#d8576b"
             ],
             [
              0.6666666666666666,
              "#ed7953"
             ],
             [
              0.7777777777777778,
              "#fb9f3a"
             ],
             [
              0.8888888888888888,
              "#fdca26"
             ],
             [
              1,
              "#f0f921"
             ]
            ],
            "type": "histogram2d"
           }
          ],
          "histogram2dcontour": [
           {
            "colorbar": {
             "outlinewidth": 0,
             "ticks": ""
            },
            "colorscale": [
             [
              0,
              "#0d0887"
             ],
             [
              0.1111111111111111,
              "#46039f"
             ],
             [
              0.2222222222222222,
              "#7201a8"
             ],
             [
              0.3333333333333333,
              "#9c179e"
             ],
             [
              0.4444444444444444,
              "#bd3786"
             ],
             [
              0.5555555555555556,
              "#d8576b"
             ],
             [
              0.6666666666666666,
              "#ed7953"
             ],
             [
              0.7777777777777778,
              "#fb9f3a"
             ],
             [
              0.8888888888888888,
              "#fdca26"
             ],
             [
              1,
              "#f0f921"
             ]
            ],
            "type": "histogram2dcontour"
           }
          ],
          "mesh3d": [
           {
            "colorbar": {
             "outlinewidth": 0,
             "ticks": ""
            },
            "type": "mesh3d"
           }
          ],
          "parcoords": [
           {
            "line": {
             "colorbar": {
              "outlinewidth": 0,
              "ticks": ""
             }
            },
            "type": "parcoords"
           }
          ],
          "pie": [
           {
            "automargin": true,
            "type": "pie"
           }
          ],
          "scatter": [
           {
            "fillpattern": {
             "fillmode": "overlay",
             "size": 10,
             "solidity": 0.2
            },
            "type": "scatter"
           }
          ],
          "scatter3d": [
           {
            "line": {
             "colorbar": {
              "outlinewidth": 0,
              "ticks": ""
             }
            },
            "marker": {
             "colorbar": {
              "outlinewidth": 0,
              "ticks": ""
             }
            },
            "type": "scatter3d"
           }
          ],
          "scattercarpet": [
           {
            "marker": {
             "colorbar": {
              "outlinewidth": 0,
              "ticks": ""
             }
            },
            "type": "scattercarpet"
           }
          ],
          "scattergeo": [
           {
            "marker": {
             "colorbar": {
              "outlinewidth": 0,
              "ticks": ""
             }
            },
            "type": "scattergeo"
           }
          ],
          "scattergl": [
           {
            "marker": {
             "colorbar": {
              "outlinewidth": 0,
              "ticks": ""
             }
            },
            "type": "scattergl"
           }
          ],
          "scattermapbox": [
           {
            "marker": {
             "colorbar": {
              "outlinewidth": 0,
              "ticks": ""
             }
            },
            "type": "scattermapbox"
           }
          ],
          "scatterpolar": [
           {
            "marker": {
             "colorbar": {
              "outlinewidth": 0,
              "ticks": ""
             }
            },
            "type": "scatterpolar"
           }
          ],
          "scatterpolargl": [
           {
            "marker": {
             "colorbar": {
              "outlinewidth": 0,
              "ticks": ""
             }
            },
            "type": "scatterpolargl"
           }
          ],
          "scatterternary": [
           {
            "marker": {
             "colorbar": {
              "outlinewidth": 0,
              "ticks": ""
             }
            },
            "type": "scatterternary"
           }
          ],
          "surface": [
           {
            "colorbar": {
             "outlinewidth": 0,
             "ticks": ""
            },
            "colorscale": [
             [
              0,
              "#0d0887"
             ],
             [
              0.1111111111111111,
              "#46039f"
             ],
             [
              0.2222222222222222,
              "#7201a8"
             ],
             [
              0.3333333333333333,
              "#9c179e"
             ],
             [
              0.4444444444444444,
              "#bd3786"
             ],
             [
              0.5555555555555556,
              "#d8576b"
             ],
             [
              0.6666666666666666,
              "#ed7953"
             ],
             [
              0.7777777777777778,
              "#fb9f3a"
             ],
             [
              0.8888888888888888,
              "#fdca26"
             ],
             [
              1,
              "#f0f921"
             ]
            ],
            "type": "surface"
           }
          ],
          "table": [
           {
            "cells": {
             "fill": {
              "color": "#EBF0F8"
             },
             "line": {
              "color": "white"
             }
            },
            "header": {
             "fill": {
              "color": "#C8D4E3"
             },
             "line": {
              "color": "white"
             }
            },
            "type": "table"
           }
          ]
         },
         "layout": {
          "annotationdefaults": {
           "arrowcolor": "#2a3f5f",
           "arrowhead": 0,
           "arrowwidth": 1
          },
          "autotypenumbers": "strict",
          "coloraxis": {
           "colorbar": {
            "outlinewidth": 0,
            "ticks": ""
           }
          },
          "colorscale": {
           "diverging": [
            [
             0,
             "#8e0152"
            ],
            [
             0.1,
             "#c51b7d"
            ],
            [
             0.2,
             "#de77ae"
            ],
            [
             0.3,
             "#f1b6da"
            ],
            [
             0.4,
             "#fde0ef"
            ],
            [
             0.5,
             "#f7f7f7"
            ],
            [
             0.6,
             "#e6f5d0"
            ],
            [
             0.7,
             "#b8e186"
            ],
            [
             0.8,
             "#7fbc41"
            ],
            [
             0.9,
             "#4d9221"
            ],
            [
             1,
             "#276419"
            ]
           ],
           "sequential": [
            [
             0,
             "#0d0887"
            ],
            [
             0.1111111111111111,
             "#46039f"
            ],
            [
             0.2222222222222222,
             "#7201a8"
            ],
            [
             0.3333333333333333,
             "#9c179e"
            ],
            [
             0.4444444444444444,
             "#bd3786"
            ],
            [
             0.5555555555555556,
             "#d8576b"
            ],
            [
             0.6666666666666666,
             "#ed7953"
            ],
            [
             0.7777777777777778,
             "#fb9f3a"
            ],
            [
             0.8888888888888888,
             "#fdca26"
            ],
            [
             1,
             "#f0f921"
            ]
           ],
           "sequentialminus": [
            [
             0,
             "#0d0887"
            ],
            [
             0.1111111111111111,
             "#46039f"
            ],
            [
             0.2222222222222222,
             "#7201a8"
            ],
            [
             0.3333333333333333,
             "#9c179e"
            ],
            [
             0.4444444444444444,
             "#bd3786"
            ],
            [
             0.5555555555555556,
             "#d8576b"
            ],
            [
             0.6666666666666666,
             "#ed7953"
            ],
            [
             0.7777777777777778,
             "#fb9f3a"
            ],
            [
             0.8888888888888888,
             "#fdca26"
            ],
            [
             1,
             "#f0f921"
            ]
           ]
          },
          "colorway": [
           "#636efa",
           "#EF553B",
           "#00cc96",
           "#ab63fa",
           "#FFA15A",
           "#19d3f3",
           "#FF6692",
           "#B6E880",
           "#FF97FF",
           "#FECB52"
          ],
          "font": {
           "color": "#2a3f5f"
          },
          "geo": {
           "bgcolor": "white",
           "lakecolor": "white",
           "landcolor": "#E5ECF6",
           "showlakes": true,
           "showland": true,
           "subunitcolor": "white"
          },
          "hoverlabel": {
           "align": "left"
          },
          "hovermode": "closest",
          "mapbox": {
           "style": "light"
          },
          "paper_bgcolor": "white",
          "plot_bgcolor": "#E5ECF6",
          "polar": {
           "angularaxis": {
            "gridcolor": "white",
            "linecolor": "white",
            "ticks": ""
           },
           "bgcolor": "#E5ECF6",
           "radialaxis": {
            "gridcolor": "white",
            "linecolor": "white",
            "ticks": ""
           }
          },
          "scene": {
           "xaxis": {
            "backgroundcolor": "#E5ECF6",
            "gridcolor": "white",
            "gridwidth": 2,
            "linecolor": "white",
            "showbackground": true,
            "ticks": "",
            "zerolinecolor": "white"
           },
           "yaxis": {
            "backgroundcolor": "#E5ECF6",
            "gridcolor": "white",
            "gridwidth": 2,
            "linecolor": "white",
            "showbackground": true,
            "ticks": "",
            "zerolinecolor": "white"
           },
           "zaxis": {
            "backgroundcolor": "#E5ECF6",
            "gridcolor": "white",
            "gridwidth": 2,
            "linecolor": "white",
            "showbackground": true,
            "ticks": "",
            "zerolinecolor": "white"
           }
          },
          "shapedefaults": {
           "line": {
            "color": "#2a3f5f"
           }
          },
          "ternary": {
           "aaxis": {
            "gridcolor": "white",
            "linecolor": "white",
            "ticks": ""
           },
           "baxis": {
            "gridcolor": "white",
            "linecolor": "white",
            "ticks": ""
           },
           "bgcolor": "#E5ECF6",
           "caxis": {
            "gridcolor": "white",
            "linecolor": "white",
            "ticks": ""
           }
          },
          "title": {
           "x": 0.05
          },
          "xaxis": {
           "automargin": true,
           "gridcolor": "white",
           "linecolor": "white",
           "ticks": "",
           "title": {
            "standoff": 15
           },
           "zerolinecolor": "white",
           "zerolinewidth": 2
          },
          "yaxis": {
           "automargin": true,
           "gridcolor": "white",
           "linecolor": "white",
           "ticks": "",
           "title": {
            "standoff": 15
           },
           "zerolinecolor": "white",
           "zerolinewidth": 2
          }
         }
        },
        "title": {
         "text": "Evolução Percentual dos Preços",
         "x": 0.5
        },
        "width": 900,
        "xaxis": {
         "anchor": "y",
         "domain": [
          0,
          1
         ],
         "tickangle": 50,
         "title": {
          "text": "Data"
         }
        },
        "yaxis": {
         "anchor": "x",
         "domain": [
          0,
          1
         ],
         "title": {
          "text": "%"
         }
        }
       }
      }
     },
     "metadata": {},
     "output_type": "display_data"
    }
   ],
   "source": [
    "medias_baratos = df_barato.groupby(\"date\").mean(\"avg_price_brl\")  # Tomando a média dos preços\n",
    "medias_caros = df_caro.groupby(\"date\").mean(\"avg_price_brl\")\n",
    "\n",
    "preco_perc_barato = pd.Series((medias_baratos[\"avg_price_brl\"] - medias_baratos[\"avg_price_brl\"][0])*100/(medias_baratos[\"avg_price_brl\"][0]))  # Transformando em porcentagem para termos um bom comparativo\n",
    "preco_perc_barato.index = ipca_acumulado.index\n",
    "\n",
    "preco_perc_caro = pd.Series((medias_caros[\"avg_price_brl\"] - medias_caros[\"avg_price_brl\"][0])*100/(medias_caros[\"avg_price_brl\"][0]))\n",
    "preco_perc_caro.index = ipca_acumulado.index\n",
    "\n",
    "df_comparacoes = pd.concat([ipca_acumulado, preco_perc_barato, preco_perc_caro], axis=1)  # Juntando em um único DataFrame\n",
    "df_comparacoes.columns = [\"IPCA\", \"Carros Baratos\", \"Carros Caros\"]\n",
    "\n",
    "cores3 = [px.colors.qualitative.G10[5], px.colors.qualitative.Dark2[4], \n",
    "         px.colors.qualitative.D3[3]]  # Escolhendo outras cores\n",
    "\n",
    "fig = px.line(df_comparacoes, x=df_comparacoes.index, y=df_comparacoes.columns, \n",
    "                line_shape=\"spline\", markers=True, color_discrete_sequence=cores3)  # Plotando o gráfico\n",
    "\n",
    "markers = [\"pentagon\", \"circle\", \"hexagram\"]  # Selecionando novos marcadores\n",
    "i = 0 \n",
    "for d in fig.data:\n",
    "    d.marker.symbol = markers[i]\n",
    "    d.marker.size = 7\n",
    "    i += 1\n",
    "\n",
    "fig.update_layout(title='Evolução Percentual dos Preços', title_x=0.5, xaxis_title='Data',\n",
    "                  yaxis_title='%', width=900, height=600,\n",
    "                  legend_title=\"Indicador\")\n",
    "fig.update_xaxes(tickangle=50)\n",
    "\n",
    "fig.show()"
   ]
  },
  {
   "cell_type": "markdown",
   "metadata": {},
   "source": [
    "#### Conclusão:\n",
    "\n",
    "Vemos que o preço médio dos carros mais baratos praticamente acompanhou a inflação, se mantendo como carros populares, enquanto o dos carros mais caros teve um grande salto com um aumento de mais de 100% em 2 anos."
   ]
  },
  {
   "cell_type": "markdown",
   "metadata": {},
   "source": [
    "#### Preço Médio e Tamanho do Motor:\n",
    "\n",
    "Observando os novos data frames com os carros mais caros e mais baratos, vimos que o tamanho médio dos motores dos carros baratos se manteve o mesmo em todo o período, enquanto dos mais caros aumentou consideravelmente. Disso veio uma pergunta: será que o tamanho do motor influencia no valor do carro?"
   ]
  },
  {
   "cell_type": "code",
   "execution_count": 170,
   "metadata": {},
   "outputs": [
    {
     "data": {
      "text/plain": [
       "nan"
      ]
     },
     "execution_count": 170,
     "metadata": {},
     "output_type": "execute_result"
    }
   ],
   "source": [
    "teste = df_barato.groupby(\"date\").mean(\"avg_price_brl\")\n",
    "corr1 = teste[\"engine_size\"].corr(teste[\"avg_price_brl\"])  # Calculando a correlação entre o preço médio por data com o tamanho do motor\n",
    "corr1"
   ]
  },
  {
   "cell_type": "markdown",
   "metadata": {},
   "source": [
    "Por não ter alteração no tamanho médio, dizemos que o preço dos carros baratos possui covariância 0 com o tamanho do motor, se considerarmos uma distribuição normal dos dados, implica que são independentes."
   ]
  },
  {
   "cell_type": "code",
   "execution_count": 171,
   "metadata": {},
   "outputs": [
    {
     "data": {
      "text/plain": [
       "0.8074777649554381"
      ]
     },
     "execution_count": 171,
     "metadata": {},
     "output_type": "execute_result"
    }
   ],
   "source": [
    "teste = df_caro.groupby(\"date\").mean(\"avg_price_brl\")\n",
    "corr2 = teste[\"engine_size\"].corr(teste[\"avg_price_brl\"])\n",
    "corr2"
   ]
  },
  {
   "cell_type": "markdown",
   "metadata": {},
   "source": [
    "Já para os carros de luxo, temos uma correlação aproximada de 0.81 considerada positiva forte, indicando que, nesses carros, o tamanho do motor influencia muito em seu preço final, provavelmente associado a outros fatores como potência e velocidade máxima."
   ]
  },
  {
   "cell_type": "markdown",
   "metadata": {},
   "source": [
    "## **Conclusão geral**\n",
    "\n",
    "Todas as hipóteses escolhidas foram apontadas como verdadeiras. Em suma, o preço médio dos carros aumentou conforme a variação do IPCA conforme os meses. Motores maiores utilizam diesel de preferência, porém maior parte das marcas do DataSet tinham gasolina como principal, além da distribuição de combustíveis não variar conforme o tempo. Marcas de luxo possuem carros mais caros e menos modelos, o contrário também ocorre. O crescimento percentual de preço dos carros mais baratos cresce acompanhando o IPCA, em contrapartida, carros mais caros duplicaram seus preços no período.\n",
    "\n",
    "A partir da análise mostrada anteriormente, abre-se uma gama de possibilidade de análises futuras, como criar novos tipos de filtragem para selecionar outras 10 marcas para serem utilizadas na terceira hipótese, afetando na correlação observada entre preço médio e quantidade de modelos."
   ]
  }
 ],
 "metadata": {
  "kernelspec": {
   "display_name": "Python 3",
   "language": "python",
   "name": "python3"
  },
  "language_info": {
   "codemirror_mode": {
    "name": "ipython",
    "version": 3
   },
   "file_extension": ".py",
   "mimetype": "text/x-python",
   "name": "python",
   "nbconvert_exporter": "python",
   "pygments_lexer": "ipython3",
   "version": "3.11.3"
  },
  "orig_nbformat": 4
 },
 "nbformat": 4,
 "nbformat_minor": 2
}
