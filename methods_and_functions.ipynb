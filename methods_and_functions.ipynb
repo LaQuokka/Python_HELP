{
 "cells": [
  {
   "cell_type": "code",
   "execution_count": 1,
   "metadata": {},
   "outputs": [],
   "source": [
    "import pandas as pd"
   ]
  },
  {
   "cell_type": "markdown",
   "metadata": {},
   "source": [
    "# Leitura de dados"
   ]
  },
  {
   "cell_type": "markdown",
   "metadata": {},
   "source": []
  },
  {
   "cell_type": "markdown",
   "metadata": {},
   "source": [
    "# Limpeza de dados"
   ]
  },
  {
   "cell_type": "markdown",
   "metadata": {},
   "source": [
    "### Lidando com NaN values"
   ]
  },
  {
   "cell_type": "markdown",
   "metadata": {},
   "source": [
    "* Descobrindo se há valores NaN\n"
   ]
  },
  {
   "cell_type": "markdown",
   "metadata": {},
   "source": [
    "# Manipulação de dados"
   ]
  },
  {
   "cell_type": "markdown",
   "metadata": {},
   "source": [
    "* Fazer ```label slicing``` dentro do ```.loc[]``` com *mais de um intervalo de colunas*. Fonte: https://stackoverflow.com/questions/72246028/pandas-specify-slice-additional-column-label-in-loc\n",
    "\n",
    "Ex.: digamos que as colunas de um dataset são:\n",
    "```Year | Country Name | ER | RR | BBR | DR```\n",
    "\n",
    "Você quer selecionar somente as colunas ```Year``` e as colunas de ```ER``` *até* ```DR```.\n",
    "\n",
    "Uma forma de fazer esse slicing é:\n",
    "\n",
    "```df.loc[:, ['Year', *filt_df.loc[:, 'ER':'DR'].columns]]``` \n",
    "\n",
    "Explicação: usamos o ```.loc[]``` duas vezes. O ```*``` acessa o nome das colunas que estão em ```.columns```.\n",
    "\n"
   ]
  },
  {
   "cell_type": "markdown",
   "metadata": {},
   "source": [
    "# Usando o loc denovo na hora de fazer o label slicing funciona\n"
   ]
  },
  {
   "cell_type": "code",
   "execution_count": null,
   "metadata": {},
   "outputs": [],
   "source": []
  },
  {
   "cell_type": "markdown",
   "metadata": {},
   "source": [
    "# Plotagem de dados"
   ]
  },
  {
   "cell_type": "code",
   "execution_count": null,
   "metadata": {},
   "outputs": [],
   "source": []
  },
  {
   "cell_type": "markdown",
   "metadata": {},
   "source": [
    "# Exportação de dados"
   ]
  },
  {
   "cell_type": "markdown",
   "metadata": {},
   "source": [
    "* Exportar dataframe para excel ou para csv: ```pd.to_excel()``` ou ```pd.to_csv()```\n",
    "\n",
    "```df.to_excel('file_name', sheet = 'sheet_name', index = False)```"
   ]
  },
  {
   "cell_type": "markdown",
   "metadata": {},
   "source": [
    "* Para exportar várias tabelas para um mesmo arquivo excel:"
   ]
  },
  {
   "cell_type": "markdown",
   "metadata": {},
   "source": [
    "```with pd.ExcelWriter(\"output.xlsx\") as writer:```\n",
    "\n",
    "      ```df1(writer, sheet_name=\"name_df1\", index = True)```\n",
    "\n",
    "      ```df2(writer, sheet_name=\"name_df2\", index = True)```\n",
    "   \n",
    "      ```df3(writer, sheet_name=\"name_df3\", index = True)```\n"
   ]
  },
  {
   "cell_type": "code",
   "execution_count": null,
   "metadata": {},
   "outputs": [],
   "source": []
  },
  {
   "cell_type": "markdown",
   "metadata": {},
   "source": [
    "Obs.: usar ```\\\\``` ao invés de só ```\\``` nas strings dos ```paths```"
   ]
  },
  {
   "cell_type": "markdown",
   "metadata": {},
   "source": []
  }
 ],
 "metadata": {
  "kernelspec": {
   "display_name": "Python 3",
   "language": "python",
   "name": "python3"
  },
  "language_info": {
   "codemirror_mode": {
    "name": "ipython",
    "version": 3
   },
   "file_extension": ".py",
   "mimetype": "text/x-python",
   "name": "python",
   "nbconvert_exporter": "python",
   "pygments_lexer": "ipython3",
   "version": "3.11.3"
  },
  "orig_nbformat": 4
 },
 "nbformat": 4,
 "nbformat_minor": 2
}
